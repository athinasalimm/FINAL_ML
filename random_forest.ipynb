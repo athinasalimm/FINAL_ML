{
 "cells": [
  {
   "cell_type": "code",
   "execution_count": 2,
   "id": "49871b75",
   "metadata": {},
   "outputs": [],
   "source": [
    "%load_ext autoreload\n",
    "%autoreload 2"
   ]
  },
  {
   "cell_type": "code",
   "execution_count": 3,
   "id": "c2012ed2",
   "metadata": {},
   "outputs": [],
   "source": [
    "import pandas as pd\n",
    "from sklearn.model_selection import train_test_split\n",
    "from sklearn.ensemble import RandomForestRegressor\n",
    "from sklearn.metrics import mean_absolute_error, root_mean_squared_error, r2_score\n"
   ]
  },
  {
   "cell_type": "code",
   "execution_count": 2,
   "id": "098f885c",
   "metadata": {},
   "outputs": [
    {
     "data": {
      "text/plain": [
       "0"
      ]
     },
     "execution_count": 2,
     "metadata": {},
     "output_type": "execute_result"
    }
   ],
   "source": [
    "import gc \n",
    "gc.collect()"
   ]
  },
  {
   "cell_type": "code",
   "execution_count": null,
   "id": "a0aae70c",
   "metadata": {},
   "outputs": [
    {
     "name": "stdout",
     "output_type": "stream",
     "text": [
      "Series([], dtype: object)\n"
     ]
    }
   ],
   "source": [
    "import pandas as pd\n",
    "import numpy as np\n",
    "from sklearn.metrics import mean_absolute_error, mean_squared_error, r2_score\n",
    "from sklearn.ensemble import HistGradientBoostingRegressor\n",
    "# ================================\n",
    "# ⚙️ FUNCIONES\n",
    "# ================================\n",
    "def root_mean_squared_error(y_true, y_pred):\n",
    "    return mean_squared_error(y_true, y_pred, squared=False)\n",
    "\n",
    "def evaluar_modelo(nombre, model, X_train, y_train, X_val, y_val):\n",
    "    y_train_pred = model.predict(X_train)\n",
    "    y_val_pred = model.predict(X_val)\n",
    "\n",
    "    print(f\"\\n📊 Resultados para {nombre}\")\n",
    "    print(\"Train:\")\n",
    "    print(f\"  MAE:  {mean_absolute_error(y_train, y_train_pred):.2f}\")\n",
    "    print(f\"  RMSE: {root_mean_squared_error(y_train, y_train_pred):.2f}\")\n",
    "    print(f\"  R²:   {r2_score(y_train, y_train_pred):.4f}\")\n",
    "    print(\"Validation:\")\n",
    "    print(f\"  MAE:  {mean_absolute_error(y_val, y_val_pred):.2f}\")\n",
    "    print(f\"  RMSE: {root_mean_squared_error(y_val, y_val_pred):.2f}\")\n",
    "    print(f\"  R²:   {r2_score(y_val, y_val_pred):.4f}\")\n",
    "\n",
    "# ================================\n",
    "# 📥 CARGA Y FILTRADO\n",
    "# ================================\n",
    "df = pd.read_parquet(\"data/modelado/ds_modelado_FUNCIONA.parquet\")\n",
    "df = df[df[\"duracion_recorrido\"] > 1].copy()\n",
    "\n",
    "# ================================\n",
    "# 📆 SPLIT TEMPORAL\n",
    "# ================================\n",
    "train_mask = (df[\"año_intervalo\"] < 2024) | ((df[\"año_intervalo\"] == 2024) & (df[\"mes_intervalo\"] <= 4))\n",
    "val_mask = (df[\"año_intervalo\"] == 2024) & (df[\"mes_intervalo\"].between(5, 8))\n",
    "\n",
    "df_train = df[train_mask].copy()\n",
    "df_val = df[val_mask].copy()\n",
    "\n",
    "# ================================\n",
    "# 🧹 EXCLUSIÓN DE COLUMNAS\n",
    "# ================================\n",
    "target = \"N_arribos_intervalo\"\n",
    "cols_a_excluir = [\n",
    "    \"N_arribos_intervalo\",\n",
    "    \"N_salidas_intervalo\",         \n",
    "    \"id_recorrido\",\n",
    "    \"id_estacion_destino\",\n",
    "    \"barrio_destino\",\n",
    "    \"zona_destino_cluster\",\n",
    "    \"cantidad_estaciones_cercanas_destino\",\n",
    "    \"año_destino\", \"mes_destino\", \"dia_destino\",\n",
    "    \"hora_destino\", \"minuto_destino\", \"segundo_destino\",\n",
    "    \"duracion_recorrido\",\n",
    "    \"timestamp_intervalo\",                  \n",
    "    \"salidas_acumuladas_origen\",         \n",
    "    \"salidas_intervalo_acumuladas\",       \n",
    "    \"recurrencia_usuario\", \"fecha_intervalo\" ,\"timestamp_intervalo\",  \"fecha_origen\"    \n",
    "]\n",
    "features = [col for col in df.columns if col not in cols_a_excluir]\n",
    "\n",
    "# ================================\n",
    "# 🔁 MODELOS POR es_finde\n",
    "# ================================\n",
    "for es_finde_val in [0, 1]:\n",
    "    nombre_modelo = f\"es_finde = {es_finde_val}\"\n",
    "\n",
    "    train_sub = df_train[df_train[\"es_finde\"] == es_finde_val]\n",
    "    val_sub = df_val[df_val[\"es_finde\"] == es_finde_val]\n",
    "\n",
    "    X_train = train_sub[features]\n",
    "    y_train = train_sub[target]\n",
    "\n",
    "    print(X_train.dtypes[X_train.dtypes == \"object\"])\n",
    "    X_train = train_sub[features].astype(np.float32)\n",
    "    X_val = val_sub[features].astype(np.float32)\n",
    "\n",
    "    X_val = val_sub[features]\n",
    "    y_val = val_sub[target]\n",
    "    y_train = train_sub[target].astype(np.float32)\n",
    "    y_val = val_sub[target].astype(np.float32)\n",
    "    model = HistGradientBoostingRegressor(\n",
    "        loss=\"poisson\",\n",
    "        learning_rate=0.1,\n",
    "        max_iter=1000,\n",
    "        max_depth=12,\n",
    "        early_stopping=True,\n",
    "        validation_fraction=0.1,\n",
    "        n_iter_no_change=20,\n",
    "        random_state=42\n",
    "    )\n",
    "    model.fit(X_train, y_train)\n",
    "\n",
    "    evaluar_modelo(nombre_modelo, model, X_train, y_train, X_val, y_val)"
   ]
  },
  {
   "cell_type": "code",
   "execution_count": 15,
   "id": "07907ff3",
   "metadata": {},
   "outputs": [
    {
     "data": {
      "image/png": "[encoded data removed]",
      "text/plain": [
       "<Figure size 800x600 with 1 Axes>"
      ]
     },
     "metadata": {},
     "output_type": "display_data"
    }
   ],
   "source": [
    "import matplotlib.pyplot as plt\n",
    "import numpy as np\n",
    "\n",
    "plt.figure(figsize=(8, 6))\n",
    "\n",
    "# Puntos reales vs predichos\n",
    "plt.scatter(y_val, y_val_pred, color=\"blue\", alpha=0.5, edgecolors=\"k\", label=\"Predicciones\")\n",
    "\n",
    "# Línea perfecta\n",
    "min_val = min(y_val.min(), y_val_pred.min())\n",
    "max_val = max(y_val.max(), y_val_pred.max())\n",
    "plt.plot([min_val, max_val], [min_val, max_val], 'r--', linewidth=2, label=\"Línea perfecta\")\n",
    "\n",
    "plt.xlabel(\"Valor real (N_arribos_intervalo)\")\n",
    "plt.ylabel(\"Valor predicho\")\n",
    "plt.title(\"Comparación entre predicción y realidad\")\n",
    "plt.legend()\n",
    "plt.grid(True)\n",
    "plt.tight_layout()\n",
    "plt.show()"
   ]
  },
  {
   "cell_type": "code",
   "execution_count": 25,
   "id": "8c3f3e6e",
   "metadata": {},
   "outputs": [
    {
     "name": "stdout",
     "output_type": "stream",
     "text": [
      "[LightGBM] [Info] Auto-choosing row-wise multi-threading, the overhead of testing was 0.017882 seconds.\n",
      "You can set `force_row_wise=true` to remove the overhead.\n",
      "And if memory is not enough, you can set `force_col_wise=true`.\n",
      "[LightGBM] [Info] Total Bins 2828\n",
      "[LightGBM] [Info] Number of data points in the train set: 1898469, number of used features: 60\n",
      "[LightGBM] [Info] Start training from score 1.019778\n",
      "📈 LightGBM Metrics\n",
      "MAE: 1.11\n",
      "RMSE: 1.56\n",
      "R²: 0.537\n"
     ]
    }
   ],
   "source": [
    "from sklearn.metrics import mean_absolute_error, root_mean_squared_error, r2_score\n",
    "import numpy as np\n",
    "\n",
    "import lightgbm as lgb\n",
    "\n",
    "model_lgb = lgb.LGBMRegressor(\n",
    "    objective=\"poisson\",\n",
    "    learning_rate=0.05,\n",
    "    n_estimators=1000,\n",
    "    max_depth=17,\n",
    "    subsample=0.8,\n",
    "    colsample_bytree=0.8,\n",
    "    random_state=42,\n",
    "    n_jobs=-1\n",
    ")\n",
    "\n",
    "model_lgb.fit(X_train, y_train)\n",
    "y_pred = model_lgb.predict(X_val)\n",
    "\n",
    "mae = mean_absolute_error(y_val, y_pred)\n",
    "rmse = root_mean_squared_error(y_val, y_pred)\n",
    "r2 = r2_score(y_val, y_pred)\n",
    "\n",
    "print(\"📈 LightGBM Metrics\")\n",
    "print(f\"MAE: {mae:.2f}\")\n",
    "print(f\"RMSE: {rmse:.2f}\")\n",
    "print(f\"R²: {r2:.3f}\")"
   ]
  },
  {
   "cell_type": "code",
   "execution_count": 15,
   "id": "b4139c0f",
   "metadata": {},
   "outputs": [
    {
     "data": {
      "image/png": "[encoded data removed]",
      "text/plain": [
       "<Figure size 1400x800 with 1 Axes>"
      ]
     },
     "metadata": {},
     "output_type": "display_data"
    }
   ],
   "source": [
    "import pandas as pd\n",
    "import matplotlib.pyplot as plt\n",
    "import seaborn as sns\n",
    "\n",
    "def graficar_importancias_barplot(modelos, X_train, top_n=20):\n",
    "    features = X_train.drop(columns=[\"grupo_modelo\"]).columns\n",
    "\n",
    "    # Crear DataFrame con las importancias\n",
    "    importancias_df = pd.concat(\n",
    "        [pd.Series(modelo.feature_importances_, index=features, name=grupo)\n",
    "         for grupo, modelo in modelos.items()],\n",
    "        axis=1\n",
    "    ).T\n",
    "\n",
    "    # Elegir top_n features por importancia promedio\n",
    "    cols_top = importancias_df.mean().sort_values(ascending=False).index[:top_n]\n",
    "    df_top = importancias_df[cols_top]\n",
    "\n",
    "    # Pasar a formato largo para graficar con seaborn\n",
    "    df_melt = df_top.reset_index().melt(id_vars=\"index\", var_name=\"feature\", value_name=\"importancia\")\n",
    "    df_melt.rename(columns={\"index\": \"modelo\"}, inplace=True)\n",
    "\n",
    "    # Plot\n",
    "    plt.figure(figsize=(14, max(6, 0.4 * top_n)))\n",
    "    sns.barplot(data=df_melt, x=\"importancia\", y=\"feature\", hue=\"modelo\")\n",
    "    plt.title(f\"Importancia de Features por Modelo (Top {top_n})\", fontsize=14)\n",
    "    plt.xlabel(\"Importancia\")\n",
    "    plt.ylabel(\"Feature\")\n",
    "    plt.legend(title=\"Modelo\")\n",
    "    plt.tight_layout()\n",
    "    plt.show()\n",
    "\n",
    "X_train_finde = X_train_finde.copy()\n",
    "X_train_finde[\"grupo_modelo\"] = 0  # no importa el valor, solo evita el error del drop\n",
    "\n",
    "# Llamar al gráfico\n",
    "graficar_importancias_barplot(modelos_finde, X_train_finde, top_n=20)"
   ]
  },
  {
   "cell_type": "code",
   "execution_count": 1,
   "id": "d3750768",
   "metadata": {},
   "outputs": [
    {
     "name": "stdout",
     "output_type": "stream",
     "text": [
      "\n",
      "Entrenando modelo para es_finde = 0...\n",
      "  [Train] MAE: 0.9668\n",
      "  [Train] R² : 0.6934\n",
      "\n",
      "Entrenando modelo para es_finde = 1...\n",
      "  [Train] MAE: 0.6529\n",
      "  [Train] R² : 0.9426\n",
      "\n",
      "=== MÉTRICAS VALIDACIÓN GLOBAL ===\n",
      "MAE: 1.4956385132413568\n",
      "R²: 0.3129036401275799\n"
     ]
    }
   ],
   "source": [
    "from xgboost import XGBRegressor\n",
    "from sklearn.metrics import mean_absolute_error, r2_score\n",
    "import pandas as pd\n",
    "\n",
    "def entrenar_modelo_por_finde(path_modelado):\n",
    "    df = pd.read_parquet(path_modelado)\n",
    "    df.dropna(inplace=True)\n",
    "    df = df[df[\"duracion_recorrido\"] > 1].copy()\n",
    "\n",
    "    target = \"N_arribos_intervalo\"\n",
    "    # cols_a_excluir = [\n",
    "    #     \"N_arribos_intervalo\",\n",
    "    #     \"N_salidas_intervalo\",         \n",
    "    #     \"id_recorrido\",\n",
    "    #     \"id_estacion_destino\",\n",
    "    #     \"barrio_destino\",\n",
    "    #     \"zona_destino_cluster\",\n",
    "    #     \"cantidad_estaciones_cercanas_destino\",\n",
    "    #     \"año_destino\", \"mes_destino\", \"dia_destino\",\n",
    "    #     \"hora_destino\", \"minuto_destino\", \"segundo_destino\",\n",
    "    #     \"duracion_recorrido\",\n",
    "    #     \"fecha_intervalo\", \"estacion_referencia\"\n",
    "    # ]\n",
    "    cols_a_excluir = [    \n",
    "    \"id_estacion_destino\",                # 🚨 Es la respuesta\n",
    "    \"barrio_destino\",                     # Depende del destino\n",
    "    \"zona_destino_cluster\",              # Calculada con el destino\n",
    "    \"cantidad_estaciones_cercanas_destino\",  # Depende del destino\n",
    "    \"año_destino\", \"mes_destino\", \"dia_destino\",  # Momento de llegada\n",
    "    \"hora_destino\", \"minuto_destino\", \"segundo_destino\",  # Momento de llegada\n",
    "    \"duracion_recorrido\",                # Solo la sabés al final\n",
    "    \"lat_y\", \"lon_y\",                    # Coordenadas del destino\n",
    "    \"N_arribos_intervalo\",               # Es el target (solo si lo estás prediciendo)\n",
    "    \"fecha_ultimo_viaje_usuario\", \n",
    "    \"N_salidas_intervalo\",  \"id_recorrido\", \"fecha_intervalo\", \"fecha_origen\"\n",
    "]\n",
    "\n",
    "\n",
    "    # SPLIT TEMPORAL: entrenamiento con todo hasta abril 2024, test desde mayo 2024\n",
    "    df_train = df[(df[\"año_intervalo\"] < 2024) | ((df[\"año_intervalo\"] == 2024) & (df[\"mes_intervalo\"] <= 4))].copy()\n",
    "    df_val = df[(df[\"año_intervalo\"] == 2024) & (df[\"mes_intervalo\"] >= 5)].copy()\n",
    "\n",
    "    modelos = {}\n",
    "    y_val_preds = pd.Series(index=df_val.index, dtype=float)\n",
    "\n",
    "    for es_finde_val in [0, 1]:\n",
    "        print(f\"\\nEntrenando modelo para es_finde = {es_finde_val}...\")\n",
    "\n",
    "        df_train_sub = df_train[df_train[\"es_finde\"] == es_finde_val]\n",
    "        df_val_sub = df_val[df_val[\"es_finde\"] == es_finde_val]\n",
    "\n",
    "        X_train = df_train_sub.drop(columns=cols_a_excluir + [target])\n",
    "        y_train = df_train_sub[target]\n",
    "\n",
    "        X_val = df_val_sub.drop(columns=cols_a_excluir + [target])\n",
    "        y_val = df_val_sub[target]\n",
    "\n",
    "        modelo = XGBRegressor(\n",
    "            n_estimators=800,\n",
    "            max_depth=15,\n",
    "            learning_rate=0.05,\n",
    "            subsample=0.8,\n",
    "            colsample_bytree=0.8,\n",
    "            objective=\"count:poisson\",\n",
    "            random_state=42,\n",
    "            n_jobs=-1\n",
    "        )\n",
    "\n",
    "        modelo.fit(X_train, y_train)\n",
    "        modelos[es_finde_val] = modelo\n",
    "\n",
    "        # === Métricas de entrenamiento ===\n",
    "        y_train_pred = modelo.predict(X_train)\n",
    "        print(f\"  [Train] MAE: {mean_absolute_error(y_train, y_train_pred):.4f}\")\n",
    "        print(f\"  [Train] R² : {r2_score(y_train, y_train_pred):.4f}\")\n",
    "\n",
    "        # === Predicción y evaluación en validación ===\n",
    "        y_pred = modelo.predict(X_val)\n",
    "        y_val_preds.loc[df_val_sub.index] = y_pred\n",
    "\n",
    "    # Evaluación final\n",
    "    print(\"\\n=== MÉTRICAS VALIDACIÓN GLOBAL ===\")\n",
    "    y_val = df_val[target]\n",
    "    print(\"MAE:\", mean_absolute_error(y_val, y_val_preds))\n",
    "    print(\"R²:\", r2_score(y_val, y_val_preds))\n",
    "\n",
    "    return modelos, df_val, y_val, y_val_preds, X_train\n",
    "\n",
    "# Llamada a la función\n",
    "modelos_finde, df_val_finde, y_val_finde, y_val_preds_finde, X_train_finde = entrenar_modelo_por_finde(\"data/modelado/ds_modelado_FUNCIONA.parquet\")"
   ]
  },
  {
   "cell_type": "code",
   "execution_count": 4,
   "id": "0f428eca",
   "metadata": {},
   "outputs": [
    {
     "name": "stdout",
     "output_type": "stream",
     "text": [
      "🧪 Train size: (5605806, 48), Val size: (233937, 48)\n"
     ]
    },
    {
     "name": "stderr",
     "output_type": "stream",
     "text": [
      "Entrenando VAE:   1%|          | 1/150 [00:18<45:31, 18.33s/it]"
     ]
    },
    {
     "name": "stdout",
     "output_type": "stream",
     "text": [
      "📚 Epoch 01 | Train Loss: 8.9488 | Val Loss: 3.8293 | R² val: -0.8857\n"
     ]
    },
    {
     "name": "stderr",
     "output_type": "stream",
     "text": [
      "Entrenando VAE:   1%|▏         | 2/150 [00:35<43:14, 17.53s/it]"
     ]
    },
    {
     "name": "stdout",
     "output_type": "stream",
     "text": [
      "📚 Epoch 02 | Train Loss: 4.3489 | Val Loss: 2.5581 | R² val: -0.5688\n"
     ]
    },
    {
     "name": "stderr",
     "output_type": "stream",
     "text": [
      "Entrenando VAE:   2%|▏         | 3/150 [00:51<41:08, 16.79s/it]"
     ]
    },
    {
     "name": "stdout",
     "output_type": "stream",
     "text": [
      "📚 Epoch 03 | Train Loss: 2.6598 | Val Loss: 1.6160 | R² val: -0.3560\n"
     ]
    },
    {
     "name": "stderr",
     "output_type": "stream",
     "text": [
      "Entrenando VAE:   3%|▎         | 4/150 [01:05<38:47, 15.94s/it]"
     ]
    },
    {
     "name": "stdout",
     "output_type": "stream",
     "text": [
      "📚 Epoch 04 | Train Loss: 1.4966 | Val Loss: 0.9351 | R² val: -0.2262\n"
     ]
    },
    {
     "name": "stderr",
     "output_type": "stream",
     "text": [
      "Entrenando VAE:   3%|▎         | 5/150 [01:20<37:41, 15.60s/it]"
     ]
    },
    {
     "name": "stdout",
     "output_type": "stream",
     "text": [
      "📚 Epoch 05 | Train Loss: 0.5906 | Val Loss: 0.5161 | R² val: -0.1508\n"
     ]
    },
    {
     "name": "stderr",
     "output_type": "stream",
     "text": [
      "Entrenando VAE:   4%|▍         | 6/150 [01:35<36:47, 15.33s/it]"
     ]
    },
    {
     "name": "stdout",
     "output_type": "stream",
     "text": [
      "📚 Epoch 06 | Train Loss: -0.0243 | Val Loss: 0.2587 | R² val: -0.1000\n"
     ]
    },
    {
     "name": "stderr",
     "output_type": "stream",
     "text": [
      "Entrenando VAE:   5%|▍         | 7/150 [01:50<36:08, 15.16s/it]"
     ]
    },
    {
     "name": "stdout",
     "output_type": "stream",
     "text": [
      "📚 Epoch 07 | Train Loss: -0.4229 | Val Loss: 0.0990 | R² val: -0.0664\n"
     ]
    },
    {
     "name": "stderr",
     "output_type": "stream",
     "text": [
      "Entrenando VAE:   5%|▌         | 8/150 [02:05<35:34, 15.03s/it]"
     ]
    },
    {
     "name": "stdout",
     "output_type": "stream",
     "text": [
      "📚 Epoch 08 | Train Loss: -0.6894 | Val Loss: -0.0122 | R² val: -0.0351\n"
     ]
    },
    {
     "name": "stderr",
     "output_type": "stream",
     "text": [
      "Entrenando VAE:   6%|▌         | 9/150 [02:19<35:05, 14.93s/it]"
     ]
    },
    {
     "name": "stdout",
     "output_type": "stream",
     "text": [
      "📚 Epoch 09 | Train Loss: -0.8753 | Val Loss: -0.0846 | R² val: -0.0083\n"
     ]
    },
    {
     "name": "stderr",
     "output_type": "stream",
     "text": [
      "Entrenando VAE:   7%|▋         | 10/150 [02:34<34:53, 14.96s/it]"
     ]
    },
    {
     "name": "stdout",
     "output_type": "stream",
     "text": [
      "📚 Epoch 10 | Train Loss: -1.0110 | Val Loss: -0.1386 | R² val: 0.0181\n"
     ]
    },
    {
     "name": "stderr",
     "output_type": "stream",
     "text": [
      "Entrenando VAE:   7%|▋         | 11/150 [02:50<34:45, 15.00s/it]"
     ]
    },
    {
     "name": "stdout",
     "output_type": "stream",
     "text": [
      "📚 Epoch 11 | Train Loss: -1.1100 | Val Loss: -0.1638 | R² val: 0.0289\n"
     ]
    },
    {
     "name": "stderr",
     "output_type": "stream",
     "text": [
      "Entrenando VAE:   8%|▊         | 12/150 [03:04<34:23, 14.95s/it]"
     ]
    },
    {
     "name": "stdout",
     "output_type": "stream",
     "text": [
      "📚 Epoch 12 | Train Loss: -1.1869 | Val Loss: -0.1824 | R² val: 0.0373\n"
     ]
    },
    {
     "name": "stderr",
     "output_type": "stream",
     "text": [
      "Entrenando VAE:   9%|▊         | 13/150 [03:19<34:03, 14.92s/it]"
     ]
    },
    {
     "name": "stdout",
     "output_type": "stream",
     "text": [
      "📚 Epoch 13 | Train Loss: -1.2457 | Val Loss: -0.1897 | R² val: 0.0330\n"
     ]
    },
    {
     "name": "stderr",
     "output_type": "stream",
     "text": [
      "Entrenando VAE:   9%|▉         | 14/150 [03:34<33:53, 14.95s/it]"
     ]
    },
    {
     "name": "stdout",
     "output_type": "stream",
     "text": [
      "📚 Epoch 14 | Train Loss: -1.2906 | Val Loss: -0.1956 | R² val: 0.0270\n"
     ]
    },
    {
     "name": "stderr",
     "output_type": "stream",
     "text": [
      "Entrenando VAE:  10%|█         | 15/150 [03:50<34:06, 15.16s/it]"
     ]
    },
    {
     "name": "stdout",
     "output_type": "stream",
     "text": [
      "📚 Epoch 15 | Train Loss: -1.3242 | Val Loss: -0.1818 | R² val: 0.0055\n"
     ]
    },
    {
     "name": "stderr",
     "output_type": "stream",
     "text": [
      "Entrenando VAE:  11%|█         | 16/150 [04:04<33:10, 14.85s/it]"
     ]
    },
    {
     "name": "stdout",
     "output_type": "stream",
     "text": [
      "📚 Epoch 16 | Train Loss: -1.3485 | Val Loss: -0.1647 | R² val: -0.0176\n"
     ]
    },
    {
     "name": "stderr",
     "output_type": "stream",
     "text": [
      "Entrenando VAE:  11%|█▏        | 17/150 [04:20<33:30, 15.11s/it]"
     ]
    },
    {
     "name": "stdout",
     "output_type": "stream",
     "text": [
      "📚 Epoch 17 | Train Loss: -1.3646 | Val Loss: -0.1418 | R² val: -0.0433\n"
     ]
    },
    {
     "name": "stderr",
     "output_type": "stream",
     "text": [
      "Entrenando VAE:  12%|█▏        | 18/150 [04:36<33:40, 15.30s/it]"
     ]
    },
    {
     "name": "stdout",
     "output_type": "stream",
     "text": [
      "📚 Epoch 18 | Train Loss: -1.3733 | Val Loss: -0.1188 | R² val: -0.0681\n"
     ]
    },
    {
     "name": "stderr",
     "output_type": "stream",
     "text": [
      "Entrenando VAE:  13%|█▎        | 19/150 [04:50<32:59, 15.11s/it]"
     ]
    },
    {
     "name": "stdout",
     "output_type": "stream",
     "text": [
      "📚 Epoch 19 | Train Loss: -1.3757 | Val Loss: -0.0912 | R² val: -0.0995\n"
     ]
    },
    {
     "name": "stderr",
     "output_type": "stream",
     "text": [
      "Entrenando VAE:  13%|█▎        | 20/150 [05:06<32:55, 15.19s/it]"
     ]
    },
    {
     "name": "stdout",
     "output_type": "stream",
     "text": [
      "📚 Epoch 20 | Train Loss: -1.3760 | Val Loss: -0.0689 | R² val: -0.1229\n"
     ]
    },
    {
     "name": "stderr",
     "output_type": "stream",
     "text": [
      "Entrenando VAE:  14%|█▍        | 21/150 [05:20<32:10, 14.96s/it]"
     ]
    },
    {
     "name": "stdout",
     "output_type": "stream",
     "text": [
      "📚 Epoch 21 | Train Loss: -1.3734 | Val Loss: -0.0542 | R² val: -0.1406\n"
     ]
    },
    {
     "name": "stderr",
     "output_type": "stream",
     "text": [
      "Entrenando VAE:  15%|█▍        | 22/150 [05:35<32:13, 15.10s/it]"
     ]
    },
    {
     "name": "stdout",
     "output_type": "stream",
     "text": [
      "📚 Epoch 22 | Train Loss: -1.3704 | Val Loss: -0.0382 | R² val: -0.1607\n"
     ]
    },
    {
     "name": "stderr",
     "output_type": "stream",
     "text": [
      "Entrenando VAE:  15%|█▌        | 23/150 [05:50<31:53, 15.06s/it]"
     ]
    },
    {
     "name": "stdout",
     "output_type": "stream",
     "text": [
      "📚 Epoch 23 | Train Loss: -1.3689 | Val Loss: -0.0276 | R² val: -0.1758\n"
     ]
    },
    {
     "name": "stderr",
     "output_type": "stream",
     "text": [
      "Entrenando VAE:  16%|█▌        | 24/150 [06:05<31:19, 14.92s/it]"
     ]
    },
    {
     "name": "stdout",
     "output_type": "stream",
     "text": [
      "📚 Epoch 24 | Train Loss: -1.3652 | Val Loss: -0.0135 | R² val: -0.1977\n"
     ]
    },
    {
     "name": "stderr",
     "output_type": "stream",
     "text": [
      "Entrenando VAE:  17%|█▋        | 25/150 [06:20<31:08, 14.95s/it]"
     ]
    },
    {
     "name": "stdout",
     "output_type": "stream",
     "text": [
      "📚 Epoch 25 | Train Loss: -1.3613 | Val Loss: -0.0047 | R² val: -0.2128\n"
     ]
    },
    {
     "name": "stderr",
     "output_type": "stream",
     "text": [
      "Entrenando VAE:  17%|█▋        | 26/150 [06:35<31:14, 15.11s/it]"
     ]
    },
    {
     "name": "stdout",
     "output_type": "stream",
     "text": [
      "📚 Epoch 26 | Train Loss: -1.3581 | Val Loss: 0.0048 | R² val: -0.2281\n"
     ]
    },
    {
     "name": "stderr",
     "output_type": "stream",
     "text": [
      "Entrenando VAE:  18%|█▊        | 27/150 [06:51<31:00, 15.12s/it]"
     ]
    },
    {
     "name": "stdout",
     "output_type": "stream",
     "text": [
      "📚 Epoch 27 | Train Loss: -1.3544 | Val Loss: 0.0134 | R² val: -0.2401\n"
     ]
    },
    {
     "name": "stderr",
     "output_type": "stream",
     "text": [
      "Entrenando VAE:  19%|█▊        | 28/150 [07:05<30:18, 14.91s/it]"
     ]
    },
    {
     "name": "stdout",
     "output_type": "stream",
     "text": [
      "📚 Epoch 28 | Train Loss: -1.3518 | Val Loss: 0.0179 | R² val: -0.2435\n"
     ]
    },
    {
     "name": "stderr",
     "output_type": "stream",
     "text": [
      "Entrenando VAE:  19%|█▉        | 29/150 [07:20<29:54, 14.83s/it]"
     ]
    },
    {
     "name": "stdout",
     "output_type": "stream",
     "text": [
      "📚 Epoch 29 | Train Loss: -1.3503 | Val Loss: 0.0185 | R² val: -0.2394\n"
     ]
    },
    {
     "name": "stderr",
     "output_type": "stream",
     "text": [
      "Entrenando VAE:  20%|██        | 30/150 [07:35<29:48, 14.91s/it]"
     ]
    },
    {
     "name": "stdout",
     "output_type": "stream",
     "text": [
      "📚 Epoch 30 | Train Loss: -1.3494 | Val Loss: 0.0222 | R² val: -0.2375\n"
     ]
    },
    {
     "name": "stderr",
     "output_type": "stream",
     "text": [
      "Entrenando VAE:  21%|██        | 31/150 [07:49<29:17, 14.77s/it]"
     ]
    },
    {
     "name": "stdout",
     "output_type": "stream",
     "text": [
      "📚 Epoch 31 | Train Loss: -1.3491 | Val Loss: 0.0177 | R² val: -0.2282\n"
     ]
    },
    {
     "name": "stderr",
     "output_type": "stream",
     "text": [
      "Entrenando VAE:  21%|██▏       | 32/150 [08:04<29:02, 14.77s/it]"
     ]
    },
    {
     "name": "stdout",
     "output_type": "stream",
     "text": [
      "📚 Epoch 32 | Train Loss: -1.3514 | Val Loss: 0.0159 | R² val: -0.2270\n"
     ]
    },
    {
     "name": "stderr",
     "output_type": "stream",
     "text": [
      "Entrenando VAE:  22%|██▏       | 33/150 [08:19<28:48, 14.77s/it]"
     ]
    },
    {
     "name": "stdout",
     "output_type": "stream",
     "text": [
      "📚 Epoch 33 | Train Loss: -1.3534 | Val Loss: 0.0123 | R² val: -0.2280\n"
     ]
    },
    {
     "name": "stderr",
     "output_type": "stream",
     "text": [
      "Entrenando VAE:  23%|██▎       | 34/150 [08:34<28:34, 14.78s/it]"
     ]
    },
    {
     "name": "stdout",
     "output_type": "stream",
     "text": [
      "📚 Epoch 34 | Train Loss: -1.3569 | Val Loss: 0.0048 | R² val: -0.2257\n"
     ]
    },
    {
     "name": "stderr",
     "output_type": "stream",
     "text": [
      "Entrenando VAE:  23%|██▎       | 35/150 [08:49<28:38, 14.94s/it]"
     ]
    },
    {
     "name": "stdout",
     "output_type": "stream",
     "text": [
      "📚 Epoch 35 | Train Loss: -1.3610 | Val Loss: -0.0031 | R² val: -0.2215\n"
     ]
    },
    {
     "name": "stderr",
     "output_type": "stream",
     "text": [
      "Entrenando VAE:  24%|██▍       | 36/150 [09:04<28:20, 14.92s/it]"
     ]
    },
    {
     "name": "stdout",
     "output_type": "stream",
     "text": [
      "📚 Epoch 36 | Train Loss: -1.3652 | Val Loss: -0.0110 | R² val: -0.2149\n"
     ]
    },
    {
     "name": "stderr",
     "output_type": "stream",
     "text": [
      "Entrenando VAE:  25%|██▍       | 37/150 [09:19<28:19, 15.04s/it]"
     ]
    },
    {
     "name": "stdout",
     "output_type": "stream",
     "text": [
      "📚 Epoch 37 | Train Loss: -1.3701 | Val Loss: -0.0247 | R² val: -0.1981\n"
     ]
    },
    {
     "name": "stderr",
     "output_type": "stream",
     "text": [
      "Entrenando VAE:  25%|██▌       | 38/150 [09:36<29:05, 15.58s/it]"
     ]
    },
    {
     "name": "stdout",
     "output_type": "stream",
     "text": [
      "📚 Epoch 38 | Train Loss: -1.3752 | Val Loss: -0.0289 | R² val: -0.1941\n"
     ]
    },
    {
     "name": "stderr",
     "output_type": "stream",
     "text": [
      "Entrenando VAE:  26%|██▌       | 39/150 [09:51<28:37, 15.48s/it]"
     ]
    },
    {
     "name": "stdout",
     "output_type": "stream",
     "text": [
      "📚 Epoch 39 | Train Loss: -1.3788 | Val Loss: -0.0425 | R² val: -0.1796\n"
     ]
    },
    {
     "name": "stderr",
     "output_type": "stream",
     "text": [
      "Entrenando VAE:  27%|██▋       | 40/150 [10:06<28:01, 15.29s/it]"
     ]
    },
    {
     "name": "stdout",
     "output_type": "stream",
     "text": [
      "📚 Epoch 40 | Train Loss: -1.3845 | Val Loss: -0.0552 | R² val: -0.1661\n"
     ]
    },
    {
     "name": "stderr",
     "output_type": "stream",
     "text": [
      "Entrenando VAE:  27%|██▋       | 41/150 [10:21<27:37, 15.21s/it]"
     ]
    },
    {
     "name": "stdout",
     "output_type": "stream",
     "text": [
      "📚 Epoch 41 | Train Loss: -1.3896 | Val Loss: -0.0653 | R² val: -0.1549\n"
     ]
    },
    {
     "name": "stderr",
     "output_type": "stream",
     "text": [
      "Entrenando VAE:  28%|██▊       | 42/150 [10:36<27:28, 15.27s/it]"
     ]
    },
    {
     "name": "stdout",
     "output_type": "stream",
     "text": [
      "📚 Epoch 42 | Train Loss: -1.3945 | Val Loss: -0.0701 | R² val: -0.1521\n"
     ]
    },
    {
     "name": "stderr",
     "output_type": "stream",
     "text": [
      "Entrenando VAE:  29%|██▊       | 43/150 [10:51<27:03, 15.17s/it]"
     ]
    },
    {
     "name": "stdout",
     "output_type": "stream",
     "text": [
      "📚 Epoch 43 | Train Loss: -1.3997 | Val Loss: -0.0875 | R² val: -0.1292\n"
     ]
    },
    {
     "name": "stderr",
     "output_type": "stream",
     "text": [
      "Entrenando VAE:  29%|██▉       | 44/150 [11:06<26:43, 15.13s/it]"
     ]
    },
    {
     "name": "stdout",
     "output_type": "stream",
     "text": [
      "📚 Epoch 44 | Train Loss: -1.4041 | Val Loss: -0.0936 | R² val: -0.1254\n"
     ]
    },
    {
     "name": "stderr",
     "output_type": "stream",
     "text": [
      "Entrenando VAE:  30%|███       | 45/150 [11:21<26:09, 14.94s/it]"
     ]
    },
    {
     "name": "stdout",
     "output_type": "stream",
     "text": [
      "📚 Epoch 45 | Train Loss: -1.4083 | Val Loss: -0.1062 | R² val: -0.1102\n"
     ]
    },
    {
     "name": "stderr",
     "output_type": "stream",
     "text": [
      "Entrenando VAE:  31%|███       | 46/150 [11:36<25:48, 14.89s/it]"
     ]
    },
    {
     "name": "stdout",
     "output_type": "stream",
     "text": [
      "📚 Epoch 46 | Train Loss: -1.4124 | Val Loss: -0.1126 | R² val: -0.1052\n"
     ]
    },
    {
     "name": "stderr",
     "output_type": "stream",
     "text": [
      "Entrenando VAE:  31%|███▏      | 47/150 [11:50<25:27, 14.83s/it]"
     ]
    },
    {
     "name": "stdout",
     "output_type": "stream",
     "text": [
      "📚 Epoch 47 | Train Loss: -1.4159 | Val Loss: -0.1243 | R² val: -0.0944\n"
     ]
    },
    {
     "name": "stderr",
     "output_type": "stream",
     "text": [
      "Entrenando VAE:  32%|███▏      | 48/150 [12:06<25:36, 15.07s/it]"
     ]
    },
    {
     "name": "stdout",
     "output_type": "stream",
     "text": [
      "📚 Epoch 48 | Train Loss: -1.4191 | Val Loss: -0.1332 | R² val: -0.0860\n"
     ]
    },
    {
     "name": "stderr",
     "output_type": "stream",
     "text": [
      "Entrenando VAE:  33%|███▎      | 49/150 [12:21<25:08, 14.93s/it]"
     ]
    },
    {
     "name": "stdout",
     "output_type": "stream",
     "text": [
      "📚 Epoch 49 | Train Loss: -1.4229 | Val Loss: -0.1409 | R² val: -0.0790\n"
     ]
    },
    {
     "name": "stderr",
     "output_type": "stream",
     "text": [
      "Entrenando VAE:  33%|███▎      | 50/150 [12:36<24:54, 14.95s/it]"
     ]
    },
    {
     "name": "stdout",
     "output_type": "stream",
     "text": [
      "📚 Epoch 50 | Train Loss: -1.4258 | Val Loss: -0.1478 | R² val: -0.0717\n"
     ]
    },
    {
     "name": "stderr",
     "output_type": "stream",
     "text": [
      "Entrenando VAE:  34%|███▍      | 51/150 [12:50<24:32, 14.87s/it]"
     ]
    },
    {
     "name": "stdout",
     "output_type": "stream",
     "text": [
      "📚 Epoch 51 | Train Loss: -1.4289 | Val Loss: -0.1562 | R² val: -0.0632\n"
     ]
    },
    {
     "name": "stderr",
     "output_type": "stream",
     "text": [
      "Entrenando VAE:  35%|███▍      | 52/150 [13:06<24:42, 15.12s/it]"
     ]
    },
    {
     "name": "stdout",
     "output_type": "stream",
     "text": [
      "📚 Epoch 52 | Train Loss: -1.4294 | Val Loss: -0.1605 | R² val: -0.0603\n"
     ]
    },
    {
     "name": "stderr",
     "output_type": "stream",
     "text": [
      "Entrenando VAE:  35%|███▌      | 53/150 [13:21<24:18, 15.03s/it]"
     ]
    },
    {
     "name": "stdout",
     "output_type": "stream",
     "text": [
      "📚 Epoch 53 | Train Loss: -1.4325 | Val Loss: -0.1718 | R² val: -0.0493\n"
     ]
    },
    {
     "name": "stderr",
     "output_type": "stream",
     "text": [
      "Entrenando VAE:  36%|███▌      | 54/150 [13:36<24:15, 15.17s/it]"
     ]
    },
    {
     "name": "stdout",
     "output_type": "stream",
     "text": [
      "📚 Epoch 54 | Train Loss: -1.4345 | Val Loss: -0.1783 | R² val: -0.0422\n"
     ]
    },
    {
     "name": "stderr",
     "output_type": "stream",
     "text": [
      "Entrenando VAE:  37%|███▋      | 55/150 [13:51<23:47, 15.02s/it]"
     ]
    },
    {
     "name": "stdout",
     "output_type": "stream",
     "text": [
      "📚 Epoch 55 | Train Loss: -1.4350 | Val Loss: -0.1815 | R² val: -0.0420\n"
     ]
    },
    {
     "name": "stderr",
     "output_type": "stream",
     "text": [
      "Entrenando VAE:  37%|███▋      | 56/150 [14:06<23:20, 14.90s/it]"
     ]
    },
    {
     "name": "stdout",
     "output_type": "stream",
     "text": [
      "📚 Epoch 56 | Train Loss: -1.4375 | Val Loss: -0.1879 | R² val: -0.0343\n"
     ]
    },
    {
     "name": "stderr",
     "output_type": "stream",
     "text": [
      "Entrenando VAE:  38%|███▊      | 57/150 [14:21<23:09, 14.95s/it]"
     ]
    },
    {
     "name": "stdout",
     "output_type": "stream",
     "text": [
      "📚 Epoch 57 | Train Loss: -1.4390 | Val Loss: -0.1905 | R² val: -0.0329\n"
     ]
    },
    {
     "name": "stderr",
     "output_type": "stream",
     "text": [
      "Entrenando VAE:  39%|███▊      | 58/150 [14:35<22:46, 14.85s/it]"
     ]
    },
    {
     "name": "stdout",
     "output_type": "stream",
     "text": [
      "📚 Epoch 58 | Train Loss: -1.4398 | Val Loss: -0.1952 | R² val: -0.0290\n"
     ]
    },
    {
     "name": "stderr",
     "output_type": "stream",
     "text": [
      "Entrenando VAE:  39%|███▉      | 59/150 [14:50<22:31, 14.85s/it]"
     ]
    },
    {
     "name": "stdout",
     "output_type": "stream",
     "text": [
      "📚 Epoch 59 | Train Loss: -1.4407 | Val Loss: -0.2022 | R² val: -0.0225\n"
     ]
    },
    {
     "name": "stderr",
     "output_type": "stream",
     "text": [
      "Entrenando VAE:  40%|████      | 60/150 [15:05<22:11, 14.80s/it]"
     ]
    },
    {
     "name": "stdout",
     "output_type": "stream",
     "text": [
      "📚 Epoch 60 | Train Loss: -1.4419 | Val Loss: -0.2042 | R² val: -0.0203\n"
     ]
    },
    {
     "name": "stderr",
     "output_type": "stream",
     "text": [
      "Entrenando VAE:  41%|████      | 61/150 [15:20<21:55, 14.79s/it]"
     ]
    },
    {
     "name": "stdout",
     "output_type": "stream",
     "text": [
      "📚 Epoch 61 | Train Loss: -1.4422 | Val Loss: -0.2090 | R² val: -0.0171\n"
     ]
    },
    {
     "name": "stderr",
     "output_type": "stream",
     "text": [
      "Entrenando VAE:  41%|████▏     | 62/150 [15:34<21:38, 14.75s/it]"
     ]
    },
    {
     "name": "stdout",
     "output_type": "stream",
     "text": [
      "📚 Epoch 62 | Train Loss: -1.4427 | Val Loss: -0.2126 | R² val: -0.0120\n"
     ]
    },
    {
     "name": "stderr",
     "output_type": "stream",
     "text": [
      "Entrenando VAE:  42%|████▏     | 63/150 [15:49<21:29, 14.82s/it]"
     ]
    },
    {
     "name": "stdout",
     "output_type": "stream",
     "text": [
      "📚 Epoch 63 | Train Loss: -1.4433 | Val Loss: -0.2110 | R² val: -0.0139\n"
     ]
    },
    {
     "name": "stderr",
     "output_type": "stream",
     "text": [
      "Entrenando VAE:  43%|████▎     | 64/150 [16:04<21:15, 14.83s/it]"
     ]
    },
    {
     "name": "stdout",
     "output_type": "stream",
     "text": [
      "📚 Epoch 64 | Train Loss: -1.4443 | Val Loss: -0.2137 | R² val: -0.0120\n"
     ]
    },
    {
     "name": "stderr",
     "output_type": "stream",
     "text": [
      "Entrenando VAE:  43%|████▎     | 65/150 [16:19<20:55, 14.77s/it]"
     ]
    },
    {
     "name": "stdout",
     "output_type": "stream",
     "text": [
      "📚 Epoch 65 | Train Loss: -1.4440 | Val Loss: -0.2179 | R² val: -0.0103\n"
     ]
    },
    {
     "name": "stderr",
     "output_type": "stream",
     "text": [
      "Entrenando VAE:  44%|████▍     | 66/150 [16:33<20:39, 14.76s/it]"
     ]
    },
    {
     "name": "stdout",
     "output_type": "stream",
     "text": [
      "📚 Epoch 66 | Train Loss: -1.4445 | Val Loss: -0.2163 | R² val: -0.0135\n"
     ]
    },
    {
     "name": "stderr",
     "output_type": "stream",
     "text": [
      "Entrenando VAE:  45%|████▍     | 67/150 [16:49<20:45, 15.01s/it]"
     ]
    },
    {
     "name": "stdout",
     "output_type": "stream",
     "text": [
      "📚 Epoch 67 | Train Loss: -1.4460 | Val Loss: -0.2200 | R² val: -0.0092\n"
     ]
    },
    {
     "name": "stderr",
     "output_type": "stream",
     "text": [
      "Entrenando VAE:  45%|████▌     | 68/150 [17:04<20:21, 14.90s/it]"
     ]
    },
    {
     "name": "stdout",
     "output_type": "stream",
     "text": [
      "📚 Epoch 68 | Train Loss: -1.4467 | Val Loss: -0.2210 | R² val: -0.0091\n"
     ]
    },
    {
     "name": "stderr",
     "output_type": "stream",
     "text": [
      "Entrenando VAE:  46%|████▌     | 69/150 [17:18<20:00, 14.82s/it]"
     ]
    },
    {
     "name": "stdout",
     "output_type": "stream",
     "text": [
      "📚 Epoch 69 | Train Loss: -1.4465 | Val Loss: -0.2218 | R² val: -0.0091\n"
     ]
    },
    {
     "name": "stderr",
     "output_type": "stream",
     "text": [
      "Entrenando VAE:  47%|████▋     | 70/150 [17:33<19:54, 14.93s/it]"
     ]
    },
    {
     "name": "stdout",
     "output_type": "stream",
     "text": [
      "📚 Epoch 70 | Train Loss: -1.4469 | Val Loss: -0.2219 | R² val: -0.0091\n"
     ]
    },
    {
     "name": "stderr",
     "output_type": "stream",
     "text": [
      "Entrenando VAE:  47%|████▋     | 71/150 [17:49<19:44, 14.99s/it]"
     ]
    },
    {
     "name": "stdout",
     "output_type": "stream",
     "text": [
      "📚 Epoch 71 | Train Loss: -1.4475 | Val Loss: -0.2249 | R² val: -0.0045\n"
     ]
    },
    {
     "name": "stderr",
     "output_type": "stream",
     "text": [
      "Entrenando VAE:  48%|████▊     | 72/150 [18:04<19:30, 15.01s/it]"
     ]
    },
    {
     "name": "stdout",
     "output_type": "stream",
     "text": [
      "📚 Epoch 72 | Train Loss: -1.4479 | Val Loss: -0.2245 | R² val: -0.0060\n"
     ]
    },
    {
     "name": "stderr",
     "output_type": "stream",
     "text": [
      "Entrenando VAE:  49%|████▊     | 73/150 [18:18<19:04, 14.86s/it]"
     ]
    },
    {
     "name": "stdout",
     "output_type": "stream",
     "text": [
      "📚 Epoch 73 | Train Loss: -1.4488 | Val Loss: -0.2256 | R² val: -0.0048\n"
     ]
    },
    {
     "name": "stderr",
     "output_type": "stream",
     "text": [
      "Entrenando VAE:  49%|████▉     | 74/150 [18:33<18:39, 14.73s/it]"
     ]
    },
    {
     "name": "stdout",
     "output_type": "stream",
     "text": [
      "📚 Epoch 74 | Train Loss: -1.4483 | Val Loss: -0.2235 | R² val: -0.0079\n"
     ]
    },
    {
     "name": "stderr",
     "output_type": "stream",
     "text": [
      "Entrenando VAE:  50%|█████     | 75/150 [18:47<18:20, 14.67s/it]"
     ]
    },
    {
     "name": "stdout",
     "output_type": "stream",
     "text": [
      "📚 Epoch 75 | Train Loss: -1.4494 | Val Loss: -0.2248 | R² val: -0.0062\n"
     ]
    },
    {
     "name": "stderr",
     "output_type": "stream",
     "text": [
      "Entrenando VAE:  51%|█████     | 76/150 [19:02<18:09, 14.73s/it]"
     ]
    },
    {
     "name": "stdout",
     "output_type": "stream",
     "text": [
      "📚 Epoch 76 | Train Loss: -1.4497 | Val Loss: -0.2212 | R² val: -0.0126\n"
     ]
    },
    {
     "name": "stderr",
     "output_type": "stream",
     "text": [
      "Entrenando VAE:  51%|█████▏    | 77/150 [19:17<18:03, 14.84s/it]"
     ]
    },
    {
     "name": "stdout",
     "output_type": "stream",
     "text": [
      "📚 Epoch 77 | Train Loss: -1.4508 | Val Loss: -0.2213 | R² val: -0.0121\n"
     ]
    },
    {
     "name": "stderr",
     "output_type": "stream",
     "text": [
      "Entrenando VAE:  52%|█████▏    | 78/150 [19:32<17:47, 14.82s/it]"
     ]
    },
    {
     "name": "stdout",
     "output_type": "stream",
     "text": [
      "📚 Epoch 78 | Train Loss: -1.4502 | Val Loss: -0.2242 | R² val: -0.0079\n"
     ]
    },
    {
     "name": "stderr",
     "output_type": "stream",
     "text": [
      "Entrenando VAE:  53%|█████▎    | 79/150 [19:46<17:22, 14.69s/it]"
     ]
    },
    {
     "name": "stdout",
     "output_type": "stream",
     "text": [
      "📚 Epoch 79 | Train Loss: -1.4504 | Val Loss: -0.2199 | R² val: -0.0140\n"
     ]
    },
    {
     "name": "stderr",
     "output_type": "stream",
     "text": [
      "Entrenando VAE:  53%|█████▎    | 80/150 [20:08<19:29, 16.70s/it]"
     ]
    },
    {
     "name": "stdout",
     "output_type": "stream",
     "text": [
      "📚 Epoch 80 | Train Loss: -1.4520 | Val Loss: -0.2237 | R² val: -0.0107\n"
     ]
    },
    {
     "name": "stderr",
     "output_type": "stream",
     "text": [
      "Entrenando VAE:  54%|█████▍    | 81/150 [20:23<18:46, 16.32s/it]"
     ]
    },
    {
     "name": "stdout",
     "output_type": "stream",
     "text": [
      "📚 Epoch 81 | Train Loss: -1.4519 | Val Loss: -0.2187 | R² val: -0.0153\n"
     ]
    },
    {
     "name": "stderr",
     "output_type": "stream",
     "text": [
      "Entrenando VAE:  55%|█████▍    | 82/150 [20:38<17:56, 15.83s/it]"
     ]
    },
    {
     "name": "stdout",
     "output_type": "stream",
     "text": [
      "📚 Epoch 82 | Train Loss: -1.4521 | Val Loss: -0.2206 | R² val: -0.0145\n"
     ]
    },
    {
     "name": "stderr",
     "output_type": "stream",
     "text": [
      "Entrenando VAE:  55%|█████▌    | 83/150 [20:53<17:19, 15.51s/it]"
     ]
    },
    {
     "name": "stdout",
     "output_type": "stream",
     "text": [
      "📚 Epoch 83 | Train Loss: -1.4524 | Val Loss: -0.2187 | R² val: -0.0154\n"
     ]
    },
    {
     "name": "stderr",
     "output_type": "stream",
     "text": [
      "Entrenando VAE:  56%|█████▌    | 84/150 [21:08<16:53, 15.36s/it]"
     ]
    },
    {
     "name": "stdout",
     "output_type": "stream",
     "text": [
      "📚 Epoch 84 | Train Loss: -1.4531 | Val Loss: -0.2208 | R² val: -0.0139\n"
     ]
    },
    {
     "name": "stderr",
     "output_type": "stream",
     "text": [
      "Entrenando VAE:  57%|█████▋    | 85/150 [21:22<16:25, 15.16s/it]"
     ]
    },
    {
     "name": "stdout",
     "output_type": "stream",
     "text": [
      "📚 Epoch 85 | Train Loss: -1.4540 | Val Loss: -0.2200 | R² val: -0.0145\n"
     ]
    },
    {
     "name": "stderr",
     "output_type": "stream",
     "text": [
      "Entrenando VAE:  57%|█████▋    | 86/150 [21:37<15:59, 15.00s/it]"
     ]
    },
    {
     "name": "stdout",
     "output_type": "stream",
     "text": [
      "📚 Epoch 86 | Train Loss: -1.4541 | Val Loss: -0.2166 | R² val: -0.0186\n"
     ]
    },
    {
     "name": "stderr",
     "output_type": "stream",
     "text": [
      "Entrenando VAE:  58%|█████▊    | 87/150 [21:53<15:57, 15.20s/it]"
     ]
    },
    {
     "name": "stdout",
     "output_type": "stream",
     "text": [
      "📚 Epoch 87 | Train Loss: -1.4549 | Val Loss: -0.2177 | R² val: -0.0161\n"
     ]
    },
    {
     "name": "stderr",
     "output_type": "stream",
     "text": [
      "Entrenando VAE:  59%|█████▊    | 88/150 [22:08<15:41, 15.18s/it]"
     ]
    },
    {
     "name": "stdout",
     "output_type": "stream",
     "text": [
      "📚 Epoch 88 | Train Loss: -1.4546 | Val Loss: -0.2179 | R² val: -0.0177\n"
     ]
    },
    {
     "name": "stderr",
     "output_type": "stream",
     "text": [
      "Entrenando VAE:  59%|█████▉    | 89/150 [22:23<15:22, 15.13s/it]"
     ]
    },
    {
     "name": "stdout",
     "output_type": "stream",
     "text": [
      "📚 Epoch 89 | Train Loss: -1.4556 | Val Loss: -0.2151 | R² val: -0.0211\n"
     ]
    },
    {
     "name": "stderr",
     "output_type": "stream",
     "text": [
      "Entrenando VAE:  60%|██████    | 90/150 [22:39<15:31, 15.53s/it]"
     ]
    },
    {
     "name": "stdout",
     "output_type": "stream",
     "text": [
      "📚 Epoch 90 | Train Loss: -1.4547 | Val Loss: -0.2171 | R² val: -0.0170\n"
     ]
    },
    {
     "name": "stderr",
     "output_type": "stream",
     "text": [
      "Entrenando VAE:  61%|██████    | 91/150 [22:53<14:53, 15.15s/it]"
     ]
    },
    {
     "name": "stdout",
     "output_type": "stream",
     "text": [
      "📚 Epoch 91 | Train Loss: -1.4566 | Val Loss: -0.2167 | R² val: -0.0169\n"
     ]
    },
    {
     "name": "stderr",
     "output_type": "stream",
     "text": [
      "Entrenando VAE:  61%|██████▏   | 92/150 [23:08<14:27, 14.96s/it]"
     ]
    },
    {
     "name": "stdout",
     "output_type": "stream",
     "text": [
      "📚 Epoch 92 | Train Loss: -1.4565 | Val Loss: -0.2160 | R² val: -0.0174\n"
     ]
    },
    {
     "name": "stderr",
     "output_type": "stream",
     "text": [
      "Entrenando VAE:  62%|██████▏   | 93/150 [23:22<14:03, 14.81s/it]"
     ]
    },
    {
     "name": "stdout",
     "output_type": "stream",
     "text": [
      "📚 Epoch 93 | Train Loss: -1.4565 | Val Loss: -0.2168 | R² val: -0.0174\n"
     ]
    },
    {
     "name": "stderr",
     "output_type": "stream",
     "text": [
      "Entrenando VAE:  63%|██████▎   | 94/150 [23:37<13:44, 14.72s/it]"
     ]
    },
    {
     "name": "stdout",
     "output_type": "stream",
     "text": [
      "📚 Epoch 94 | Train Loss: -1.4570 | Val Loss: -0.2153 | R² val: -0.0193\n"
     ]
    },
    {
     "name": "stderr",
     "output_type": "stream",
     "text": [
      "Entrenando VAE:  63%|██████▎   | 95/150 [23:52<13:34, 14.82s/it]"
     ]
    },
    {
     "name": "stdout",
     "output_type": "stream",
     "text": [
      "📚 Epoch 95 | Train Loss: -1.4577 | Val Loss: -0.2150 | R² val: -0.0195\n"
     ]
    },
    {
     "name": "stderr",
     "output_type": "stream",
     "text": [
      "Entrenando VAE:  64%|██████▍   | 96/150 [24:07<13:22, 14.86s/it]"
     ]
    },
    {
     "name": "stdout",
     "output_type": "stream",
     "text": [
      "📚 Epoch 96 | Train Loss: -1.4584 | Val Loss: -0.2158 | R² val: -0.0180\n"
     ]
    },
    {
     "name": "stderr",
     "output_type": "stream",
     "text": [
      "Entrenando VAE:  65%|██████▍   | 97/150 [24:22<13:07, 14.86s/it]"
     ]
    },
    {
     "name": "stdout",
     "output_type": "stream",
     "text": [
      "📚 Epoch 97 | Train Loss: -1.4584 | Val Loss: -0.2155 | R² val: -0.0186\n"
     ]
    },
    {
     "name": "stderr",
     "output_type": "stream",
     "text": [
      "Entrenando VAE:  65%|██████▌   | 98/150 [24:36<12:46, 14.74s/it]"
     ]
    },
    {
     "name": "stdout",
     "output_type": "stream",
     "text": [
      "📚 Epoch 98 | Train Loss: -1.4591 | Val Loss: -0.2139 | R² val: -0.0201\n"
     ]
    },
    {
     "name": "stderr",
     "output_type": "stream",
     "text": [
      "Entrenando VAE:  66%|██████▌   | 99/150 [24:51<12:33, 14.78s/it]"
     ]
    },
    {
     "name": "stdout",
     "output_type": "stream",
     "text": [
      "📚 Epoch 99 | Train Loss: -1.4600 | Val Loss: -0.2163 | R² val: -0.0175\n"
     ]
    },
    {
     "name": "stderr",
     "output_type": "stream",
     "text": [
      "Entrenando VAE:  67%|██████▋   | 100/150 [25:06<12:22, 14.84s/it]"
     ]
    },
    {
     "name": "stdout",
     "output_type": "stream",
     "text": [
      "📚 Epoch 100 | Train Loss: -1.4602 | Val Loss: -0.2130 | R² val: -0.0224\n"
     ]
    },
    {
     "name": "stderr",
     "output_type": "stream",
     "text": [
      "Entrenando VAE:  67%|██████▋   | 101/150 [25:20<12:01, 14.72s/it]"
     ]
    },
    {
     "name": "stdout",
     "output_type": "stream",
     "text": [
      "📚 Epoch 101 | Train Loss: -1.4609 | Val Loss: -0.2143 | R² val: -0.0195\n"
     ]
    },
    {
     "name": "stderr",
     "output_type": "stream",
     "text": [
      "Entrenando VAE:  68%|██████▊   | 102/150 [25:35<11:43, 14.66s/it]"
     ]
    },
    {
     "name": "stdout",
     "output_type": "stream",
     "text": [
      "📚 Epoch 102 | Train Loss: -1.4609 | Val Loss: -0.2148 | R² val: -0.0193\n"
     ]
    },
    {
     "name": "stderr",
     "output_type": "stream",
     "text": [
      "Entrenando VAE:  69%|██████▊   | 103/150 [25:49<11:21, 14.51s/it]"
     ]
    },
    {
     "name": "stdout",
     "output_type": "stream",
     "text": [
      "📚 Epoch 103 | Train Loss: -1.4613 | Val Loss: -0.2160 | R² val: -0.0176\n"
     ]
    },
    {
     "name": "stderr",
     "output_type": "stream",
     "text": [
      "Entrenando VAE:  69%|██████▉   | 104/150 [26:04<11:10, 14.58s/it]"
     ]
    },
    {
     "name": "stdout",
     "output_type": "stream",
     "text": [
      "📚 Epoch 104 | Train Loss: -1.4619 | Val Loss: -0.2140 | R² val: -0.0191\n"
     ]
    },
    {
     "name": "stderr",
     "output_type": "stream",
     "text": [
      "Entrenando VAE:  70%|███████   | 105/150 [26:18<10:55, 14.57s/it]"
     ]
    },
    {
     "name": "stdout",
     "output_type": "stream",
     "text": [
      "📚 Epoch 105 | Train Loss: -1.4613 | Val Loss: -0.2177 | R² val: -0.0155\n"
     ]
    },
    {
     "name": "stderr",
     "output_type": "stream",
     "text": [
      "Entrenando VAE:  71%|███████   | 106/150 [26:33<10:44, 14.64s/it]"
     ]
    },
    {
     "name": "stdout",
     "output_type": "stream",
     "text": [
      "📚 Epoch 106 | Train Loss: -1.4622 | Val Loss: -0.2168 | R² val: -0.0146\n"
     ]
    },
    {
     "name": "stderr",
     "output_type": "stream",
     "text": [
      "Entrenando VAE:  71%|███████▏  | 107/150 [26:48<10:32, 14.70s/it]"
     ]
    },
    {
     "name": "stdout",
     "output_type": "stream",
     "text": [
      "📚 Epoch 107 | Train Loss: -1.4626 | Val Loss: -0.2167 | R² val: -0.0160\n"
     ]
    },
    {
     "name": "stderr",
     "output_type": "stream",
     "text": [
      "Entrenando VAE:  72%|███████▏  | 108/150 [27:02<10:13, 14.60s/it]"
     ]
    },
    {
     "name": "stdout",
     "output_type": "stream",
     "text": [
      "📚 Epoch 108 | Train Loss: -1.4637 | Val Loss: -0.2168 | R² val: -0.0166\n"
     ]
    },
    {
     "name": "stderr",
     "output_type": "stream",
     "text": [
      "Entrenando VAE:  73%|███████▎  | 109/150 [27:17<09:57, 14.58s/it]"
     ]
    },
    {
     "name": "stdout",
     "output_type": "stream",
     "text": [
      "📚 Epoch 109 | Train Loss: -1.4637 | Val Loss: -0.2163 | R² val: -0.0158\n"
     ]
    },
    {
     "name": "stderr",
     "output_type": "stream",
     "text": [
      "Entrenando VAE:  73%|███████▎  | 110/150 [27:32<09:53, 14.84s/it]"
     ]
    },
    {
     "name": "stdout",
     "output_type": "stream",
     "text": [
      "📚 Epoch 110 | Train Loss: -1.4636 | Val Loss: -0.2152 | R² val: -0.0185\n"
     ]
    },
    {
     "name": "stderr",
     "output_type": "stream",
     "text": [
      "Entrenando VAE:  74%|███████▍  | 111/150 [27:47<09:34, 14.72s/it]"
     ]
    },
    {
     "name": "stdout",
     "output_type": "stream",
     "text": [
      "📚 Epoch 111 | Train Loss: -1.4654 | Val Loss: -0.2145 | R² val: -0.0184\n"
     ]
    },
    {
     "name": "stderr",
     "output_type": "stream",
     "text": [
      "Entrenando VAE:  75%|███████▍  | 112/150 [28:02<09:21, 14.77s/it]"
     ]
    },
    {
     "name": "stdout",
     "output_type": "stream",
     "text": [
      "📚 Epoch 112 | Train Loss: -1.4647 | Val Loss: -0.2181 | R² val: -0.0139\n"
     ]
    },
    {
     "name": "stderr",
     "output_type": "stream",
     "text": [
      "Entrenando VAE:  75%|███████▌  | 113/150 [28:22<10:01, 16.27s/it]"
     ]
    },
    {
     "name": "stdout",
     "output_type": "stream",
     "text": [
      "📚 Epoch 113 | Train Loss: -1.4649 | Val Loss: -0.2157 | R² val: -0.0177\n"
     ]
    },
    {
     "name": "stderr",
     "output_type": "stream",
     "text": [
      "Entrenando VAE:  76%|███████▌  | 114/150 [28:37<09:34, 15.95s/it]"
     ]
    },
    {
     "name": "stdout",
     "output_type": "stream",
     "text": [
      "📚 Epoch 114 | Train Loss: -1.4656 | Val Loss: -0.2169 | R² val: -0.0164\n"
     ]
    },
    {
     "name": "stderr",
     "output_type": "stream",
     "text": [
      "Entrenando VAE:  77%|███████▋  | 115/150 [28:52<09:12, 15.78s/it]"
     ]
    },
    {
     "name": "stdout",
     "output_type": "stream",
     "text": [
      "📚 Epoch 115 | Train Loss: -1.4665 | Val Loss: -0.2175 | R² val: -0.0148\n"
     ]
    },
    {
     "name": "stderr",
     "output_type": "stream",
     "text": [
      "Entrenando VAE:  77%|███████▋  | 116/150 [29:07<08:51, 15.64s/it]"
     ]
    },
    {
     "name": "stdout",
     "output_type": "stream",
     "text": [
      "📚 Epoch 116 | Train Loss: -1.4656 | Val Loss: -0.2171 | R² val: -0.0153\n"
     ]
    },
    {
     "name": "stderr",
     "output_type": "stream",
     "text": [
      "Entrenando VAE:  78%|███████▊  | 117/150 [29:22<08:28, 15.41s/it]"
     ]
    },
    {
     "name": "stdout",
     "output_type": "stream",
     "text": [
      "📚 Epoch 117 | Train Loss: -1.4673 | Val Loss: -0.2181 | R² val: -0.0145\n"
     ]
    },
    {
     "name": "stderr",
     "output_type": "stream",
     "text": [
      "Entrenando VAE:  79%|███████▊  | 118/150 [29:37<08:09, 15.31s/it]"
     ]
    },
    {
     "name": "stdout",
     "output_type": "stream",
     "text": [
      "📚 Epoch 118 | Train Loss: -1.4672 | Val Loss: -0.2166 | R² val: -0.0150\n"
     ]
    },
    {
     "name": "stderr",
     "output_type": "stream",
     "text": [
      "Entrenando VAE:  79%|███████▉  | 119/150 [29:52<07:51, 15.20s/it]"
     ]
    },
    {
     "name": "stdout",
     "output_type": "stream",
     "text": [
      "📚 Epoch 119 | Train Loss: -1.4674 | Val Loss: -0.2191 | R² val: -0.0128\n"
     ]
    },
    {
     "name": "stderr",
     "output_type": "stream",
     "text": [
      "Entrenando VAE:  80%|████████  | 120/150 [30:07<07:34, 15.14s/it]"
     ]
    },
    {
     "name": "stdout",
     "output_type": "stream",
     "text": [
      "📚 Epoch 120 | Train Loss: -1.4679 | Val Loss: -0.2190 | R² val: -0.0120\n"
     ]
    },
    {
     "name": "stderr",
     "output_type": "stream",
     "text": [
      "Entrenando VAE:  81%|████████  | 121/150 [30:22<07:15, 15.02s/it]"
     ]
    },
    {
     "name": "stdout",
     "output_type": "stream",
     "text": [
      "📚 Epoch 121 | Train Loss: -1.4685 | Val Loss: -0.2174 | R² val: -0.0162\n"
     ]
    },
    {
     "name": "stderr",
     "output_type": "stream",
     "text": [
      "Entrenando VAE:  81%|████████▏ | 122/150 [30:37<06:57, 14.90s/it]"
     ]
    },
    {
     "name": "stdout",
     "output_type": "stream",
     "text": [
      "📚 Epoch 122 | Train Loss: -1.4683 | Val Loss: -0.2180 | R² val: -0.0154\n"
     ]
    },
    {
     "name": "stderr",
     "output_type": "stream",
     "text": [
      "Entrenando VAE:  82%|████████▏ | 123/150 [30:51<06:40, 14.83s/it]"
     ]
    },
    {
     "name": "stdout",
     "output_type": "stream",
     "text": [
      "📚 Epoch 123 | Train Loss: -1.4691 | Val Loss: -0.2182 | R² val: -0.0139\n"
     ]
    },
    {
     "name": "stderr",
     "output_type": "stream",
     "text": [
      "Entrenando VAE:  83%|████████▎ | 124/150 [31:06<06:25, 14.85s/it]"
     ]
    },
    {
     "name": "stdout",
     "output_type": "stream",
     "text": [
      "📚 Epoch 124 | Train Loss: -1.4691 | Val Loss: -0.2207 | R² val: -0.0090\n"
     ]
    },
    {
     "name": "stderr",
     "output_type": "stream",
     "text": [
      "Entrenando VAE:  83%|████████▎ | 125/150 [31:21<06:10, 14.81s/it]"
     ]
    },
    {
     "name": "stdout",
     "output_type": "stream",
     "text": [
      "📚 Epoch 125 | Train Loss: -1.4702 | Val Loss: -0.2197 | R² val: -0.0118\n"
     ]
    },
    {
     "name": "stderr",
     "output_type": "stream",
     "text": [
      "Entrenando VAE:  84%|████████▍ | 126/150 [31:36<05:54, 14.79s/it]"
     ]
    },
    {
     "name": "stdout",
     "output_type": "stream",
     "text": [
      "📚 Epoch 126 | Train Loss: -1.4696 | Val Loss: -0.2177 | R² val: -0.0139\n"
     ]
    },
    {
     "name": "stderr",
     "output_type": "stream",
     "text": [
      "Entrenando VAE:  85%|████████▍ | 127/150 [31:51<05:42, 14.90s/it]"
     ]
    },
    {
     "name": "stdout",
     "output_type": "stream",
     "text": [
      "📚 Epoch 127 | Train Loss: -1.4717 | Val Loss: -0.2199 | R² val: -0.0109\n"
     ]
    },
    {
     "name": "stderr",
     "output_type": "stream",
     "text": [
      "Entrenando VAE:  85%|████████▌ | 128/150 [32:06<05:31, 15.05s/it]"
     ]
    },
    {
     "name": "stdout",
     "output_type": "stream",
     "text": [
      "📚 Epoch 128 | Train Loss: -1.4708 | Val Loss: -0.2191 | R² val: -0.0122\n"
     ]
    },
    {
     "name": "stderr",
     "output_type": "stream",
     "text": [
      "Entrenando VAE:  86%|████████▌ | 129/150 [32:21<05:15, 15.02s/it]"
     ]
    },
    {
     "name": "stdout",
     "output_type": "stream",
     "text": [
      "📚 Epoch 129 | Train Loss: -1.4718 | Val Loss: -0.2172 | R² val: -0.0153\n"
     ]
    },
    {
     "name": "stderr",
     "output_type": "stream",
     "text": [
      "Entrenando VAE:  87%|████████▋ | 130/150 [32:37<05:02, 15.14s/it]"
     ]
    },
    {
     "name": "stdout",
     "output_type": "stream",
     "text": [
      "📚 Epoch 130 | Train Loss: -1.4723 | Val Loss: -0.2175 | R² val: -0.0098\n"
     ]
    },
    {
     "name": "stderr",
     "output_type": "stream",
     "text": [
      "Entrenando VAE:  87%|████████▋ | 131/150 [32:52<04:46, 15.07s/it]"
     ]
    },
    {
     "name": "stdout",
     "output_type": "stream",
     "text": [
      "📚 Epoch 131 | Train Loss: -1.4725 | Val Loss: -0.2176 | R² val: -0.0160\n"
     ]
    },
    {
     "name": "stderr",
     "output_type": "stream",
     "text": [
      "Entrenando VAE:  88%|████████▊ | 132/150 [33:06<04:28, 14.94s/it]"
     ]
    },
    {
     "name": "stdout",
     "output_type": "stream",
     "text": [
      "📚 Epoch 132 | Train Loss: -1.4716 | Val Loss: -0.2099 | R² val: -0.0062\n"
     ]
    },
    {
     "name": "stderr",
     "output_type": "stream",
     "text": [
      "Entrenando VAE:  89%|████████▊ | 133/150 [33:21<04:15, 15.00s/it]"
     ]
    },
    {
     "name": "stdout",
     "output_type": "stream",
     "text": [
      "📚 Epoch 133 | Train Loss: -1.4709 | Val Loss: -0.2083 | R² val: -0.0275\n"
     ]
    },
    {
     "name": "stderr",
     "output_type": "stream",
     "text": [
      "Entrenando VAE:  89%|████████▉ | 134/150 [33:37<04:05, 15.35s/it]"
     ]
    },
    {
     "name": "stdout",
     "output_type": "stream",
     "text": [
      "📚 Epoch 134 | Train Loss: -1.4705 | Val Loss: -0.2127 | R² val: -0.0097\n"
     ]
    },
    {
     "name": "stderr",
     "output_type": "stream",
     "text": [
      "Entrenando VAE:  90%|█████████ | 135/150 [33:53<03:49, 15.28s/it]"
     ]
    },
    {
     "name": "stdout",
     "output_type": "stream",
     "text": [
      "📚 Epoch 135 | Train Loss: -1.4716 | Val Loss: -0.2177 | R² val: -0.0143\n"
     ]
    },
    {
     "name": "stderr",
     "output_type": "stream",
     "text": [
      "Entrenando VAE:  91%|█████████ | 136/150 [34:09<03:36, 15.49s/it]"
     ]
    },
    {
     "name": "stdout",
     "output_type": "stream",
     "text": [
      "📚 Epoch 136 | Train Loss: -1.4731 | Val Loss: -0.2146 | R² val: -0.0219\n"
     ]
    },
    {
     "name": "stderr",
     "output_type": "stream",
     "text": [
      "Entrenando VAE:  91%|█████████▏| 137/150 [34:24<03:20, 15.39s/it]"
     ]
    },
    {
     "name": "stdout",
     "output_type": "stream",
     "text": [
      "📚 Epoch 137 | Train Loss: -1.4724 | Val Loss: -0.2134 | R² val: -0.0056\n"
     ]
    },
    {
     "name": "stderr",
     "output_type": "stream",
     "text": [
      "Entrenando VAE:  92%|█████████▏| 138/150 [34:39<03:02, 15.25s/it]"
     ]
    },
    {
     "name": "stdout",
     "output_type": "stream",
     "text": [
      "📚 Epoch 138 | Train Loss: -1.4720 | Val Loss: -0.2218 | R² val: -0.0106\n"
     ]
    },
    {
     "name": "stderr",
     "output_type": "stream",
     "text": [
      "Entrenando VAE:  93%|█████████▎| 139/150 [34:59<03:05, 16.87s/it]"
     ]
    },
    {
     "name": "stdout",
     "output_type": "stream",
     "text": [
      "📚 Epoch 139 | Train Loss: -1.4756 | Val Loss: -0.2152 | R² val: -0.0203\n"
     ]
    },
    {
     "name": "stderr",
     "output_type": "stream",
     "text": [
      "Entrenando VAE:  93%|█████████▎| 140/150 [35:19<02:56, 17.67s/it]"
     ]
    },
    {
     "name": "stdout",
     "output_type": "stream",
     "text": [
      "📚 Epoch 140 | Train Loss: -1.4744 | Val Loss: -0.2153 | R² val: -0.0053\n"
     ]
    },
    {
     "name": "stderr",
     "output_type": "stream",
     "text": [
      "Entrenando VAE:  94%|█████████▍| 141/150 [35:35<02:34, 17.12s/it]"
     ]
    },
    {
     "name": "stdout",
     "output_type": "stream",
     "text": [
      "📚 Epoch 141 | Train Loss: -1.4742 | Val Loss: -0.2192 | R² val: -0.0162\n"
     ]
    },
    {
     "name": "stderr",
     "output_type": "stream",
     "text": [
      "Entrenando VAE:  95%|█████████▍| 142/150 [35:50<02:11, 16.47s/it]"
     ]
    },
    {
     "name": "stdout",
     "output_type": "stream",
     "text": [
      "📚 Epoch 142 | Train Loss: -1.4749 | Val Loss: -0.2205 | R² val: -0.0107\n"
     ]
    },
    {
     "name": "stderr",
     "output_type": "stream",
     "text": [
      "Entrenando VAE:  95%|█████████▌| 143/150 [36:05<01:53, 16.15s/it]"
     ]
    },
    {
     "name": "stdout",
     "output_type": "stream",
     "text": [
      "📚 Epoch 143 | Train Loss: -1.4760 | Val Loss: -0.2164 | R² val: -0.0059\n"
     ]
    },
    {
     "name": "stderr",
     "output_type": "stream",
     "text": [
      "Entrenando VAE:  96%|█████████▌| 144/150 [36:20<01:34, 15.79s/it]"
     ]
    },
    {
     "name": "stdout",
     "output_type": "stream",
     "text": [
      "📚 Epoch 144 | Train Loss: -1.4756 | Val Loss: -0.2179 | R² val: -0.0164\n"
     ]
    },
    {
     "name": "stderr",
     "output_type": "stream",
     "text": [
      "Entrenando VAE:  97%|█████████▋| 145/150 [36:35<01:17, 15.49s/it]"
     ]
    },
    {
     "name": "stdout",
     "output_type": "stream",
     "text": [
      "📚 Epoch 145 | Train Loss: -1.4767 | Val Loss: -0.2225 | R² val: -0.0068\n"
     ]
    },
    {
     "name": "stderr",
     "output_type": "stream",
     "text": [
      "Entrenando VAE:  97%|█████████▋| 146/150 [36:50<01:01, 15.49s/it]"
     ]
    },
    {
     "name": "stdout",
     "output_type": "stream",
     "text": [
      "📚 Epoch 146 | Train Loss: -1.4771 | Val Loss: -0.2202 | R² val: -0.0048\n"
     ]
    },
    {
     "name": "stderr",
     "output_type": "stream",
     "text": [
      "Entrenando VAE:  98%|█████████▊| 147/150 [37:06<00:47, 15.68s/it]"
     ]
    },
    {
     "name": "stdout",
     "output_type": "stream",
     "text": [
      "📚 Epoch 147 | Train Loss: -1.4772 | Val Loss: -0.2189 | R² val: -0.0161\n"
     ]
    },
    {
     "name": "stderr",
     "output_type": "stream",
     "text": [
      "Entrenando VAE:  99%|█████████▊| 148/150 [37:21<00:30, 15.43s/it]"
     ]
    },
    {
     "name": "stdout",
     "output_type": "stream",
     "text": [
      "📚 Epoch 148 | Train Loss: -1.4771 | Val Loss: -0.2245 | R² val: -0.0020\n"
     ]
    },
    {
     "name": "stderr",
     "output_type": "stream",
     "text": [
      "Entrenando VAE:  99%|█████████▉| 149/150 [37:36<00:15, 15.26s/it]"
     ]
    },
    {
     "name": "stdout",
     "output_type": "stream",
     "text": [
      "📚 Epoch 149 | Train Loss: -1.4774 | Val Loss: -0.2217 | R² val: -0.0072\n"
     ]
    },
    {
     "name": "stderr",
     "output_type": "stream",
     "text": [
      "Entrenando VAE: 100%|██████████| 150/150 [37:51<00:00, 15.14s/it]"
     ]
    },
    {
     "name": "stdout",
     "output_type": "stream",
     "text": [
      "📚 Epoch 150 | Train Loss: -1.4789 | Val Loss: -0.2183 | R² val: -0.0167\n"
     ]
    },
    {
     "name": "stderr",
     "output_type": "stream",
     "text": [
      "\n"
     ]
    },
    {
     "data": {
      "image/png": "[encoded data removed]",
      "text/plain": [
       "<Figure size 600x500 with 1 Axes>"
      ]
     },
     "metadata": {},
     "output_type": "display_data"
    }
   ],
   "source": [
    "import torch\n",
    "import torch.nn as nn\n",
    "import pandas as pd\n",
    "import numpy as np\n",
    "import matplotlib.pyplot as plt\n",
    "from sklearn.preprocessing import StandardScaler\n",
    "from sklearn.metrics import r2_score\n",
    "from tqdm import trange\n",
    "\n",
    "# ===========================\n",
    "# 🔧 CONFIG\n",
    "# ===========================\n",
    "LATENT_DIM = 10\n",
    "HIDDEN_DIM = 128\n",
    "EPOCHS = 150\n",
    "LR = 0.01\n",
    "\n",
    "# ===========================\n",
    "# 🧠 MODELO\n",
    "# ===========================\n",
    "class VAE_Poisson(nn.Module):\n",
    "    def __init__(self, input_dim, latent_dim=LATENT_DIM, hidden_dim=HIDDEN_DIM):\n",
    "        super().__init__()\n",
    "        self.encoder = nn.Sequential(\n",
    "            nn.Linear(input_dim, hidden_dim),\n",
    "            nn.ReLU()\n",
    "        )\n",
    "        self.fc_mu = nn.Linear(hidden_dim, latent_dim)\n",
    "        self.fc_logvar = nn.Linear(hidden_dim, latent_dim)\n",
    "        self.decoder = nn.Sequential(\n",
    "            nn.Linear(latent_dim, hidden_dim),\n",
    "            nn.ReLU(),\n",
    "            nn.Linear(hidden_dim, 1),\n",
    "            nn.Softplus(beta=5)  # crece más rápido que softplus default\n",
    "        )\n",
    "\n",
    "    def encode(self, x):\n",
    "        h = self.encoder(x)\n",
    "        return self.fc_mu(h), self.fc_logvar(h)\n",
    "\n",
    "    def reparameterize(self, mu, logvar):\n",
    "        std = torch.exp(0.5 * logvar)\n",
    "        eps = torch.randn_like(std)\n",
    "        return mu + eps * std\n",
    "\n",
    "    def forward(self, x):\n",
    "        mu, logvar = self.encode(x)\n",
    "        z = self.reparameterize(mu, logvar)\n",
    "        lambda_pred = self.decoder(z).squeeze(-1)\n",
    "        return lambda_pred, mu, logvar\n",
    "\n",
    "# ===========================\n",
    "# 🎯 PÉRDIDA\n",
    "# ===========================\n",
    "def poisson_vae_loss(y_true, lambda_pred, mu, logvar):\n",
    "    lambda_pred = torch.clamp(lambda_pred, min=1e-4)  # evitar log(0)\n",
    "    poisson_nll = lambda_pred - y_true * torch.log(lambda_pred)\n",
    "    kl = -0.5 * torch.sum(1 + logvar - mu.pow(2) - logvar.exp(), dim=1)\n",
    "    return (poisson_nll + kl).mean()\n",
    "\n",
    "# ===========================\n",
    "# ⚙️ ENTRENAMIENTO\n",
    "# ===========================\n",
    "def entrenar_vae(X_train_np, y_train_np, X_val_np, y_val_np):\n",
    "    scaler = StandardScaler()\n",
    "    X_train_scaled = scaler.fit_transform(X_train_np)\n",
    "    X_val_scaled = scaler.transform(X_val_np)\n",
    "\n",
    "    X_train_tensor = torch.tensor(X_train_scaled, dtype=torch.float32)\n",
    "    X_val_tensor = torch.tensor(X_val_scaled, dtype=torch.float32)\n",
    "    y_train_tensor = torch.tensor(y_train_np, dtype=torch.float32)\n",
    "    y_val_tensor = torch.tensor(y_val_np, dtype=torch.float32)\n",
    "\n",
    "    model = VAE_Poisson(input_dim=X_train_tensor.shape[1])\n",
    "    optimizer = torch.optim.Adam(model.parameters(), lr=LR)\n",
    "\n",
    "    train_losses = []\n",
    "    val_losses = []\n",
    "\n",
    "    for epoch in trange(1, EPOCHS + 1, desc=\"Entrenando VAE\"):\n",
    "        model.train()\n",
    "        optimizer.zero_grad()\n",
    "        lambda_pred, mu, logvar = model(X_train_tensor)\n",
    "        loss = poisson_vae_loss(y_train_tensor, lambda_pred, mu, logvar)\n",
    "        loss.backward()\n",
    "        optimizer.step()\n",
    "\n",
    "        model.eval()\n",
    "        with torch.no_grad():\n",
    "            val_pred, mu_val, logvar_val = model(X_val_tensor)\n",
    "            val_loss = poisson_vae_loss(y_val_tensor, val_pred, mu_val, logvar_val)\n",
    "            val_r2 = r2_score(y_val_np, val_pred.numpy())\n",
    "\n",
    "        train_losses.append(loss.item())\n",
    "        val_losses.append(val_loss.item())\n",
    "\n",
    "        print(f\"📚 Epoch {epoch:02d} | Train Loss: {loss.item():.4f} | Val Loss: {val_loss.item():.4f} | R² val: {val_r2:.4f}\")\n",
    "\n",
    "    return model, scaler, train_losses, val_losses\n",
    "\n",
    "# ===========================\n",
    "# 📦 DATOS Y SPLIT\n",
    "# ===========================\n",
    "df = pd.read_parquet(\"data/modelado/ds_modelado_FUNCIONA.parquet\")\n",
    "df_finde = df[df[\"es_finde\"] == 1]\n",
    "\n",
    "df_train = df_finde[(df_finde[\"año_intervalo\"] < 2024) | ((df_finde[\"año_intervalo\"] == 2024) & (df_finde[\"mes_intervalo\"] <= 4))]\n",
    "df_val = df_finde[(df_finde[\"año_intervalo\"] == 2024) & (df_finde[\"mes_intervalo\"].between(5, 8))]\n",
    "\n",
    "cols_a_excluir = [\n",
    "    \"id_estacion_destino\", \"barrio_destino\", \"zona_destino_cluster\",\n",
    "    \"cantidad_estaciones_cercanas_destino\", \"año_destino\", \"mes_destino\", \"dia_destino\",\n",
    "    \"hora_destino\", \"minuto_destino\", \"segundo_destino\", \"duracion_recorrido\",\n",
    "    \"lat_y\", \"lon_y\", \"N_arribos_intervalo\", \"fecha_ultimo_viaje_usuario\",\n",
    "    \"N_salidas_intervalo\", \"id_recorrido\", \"fecha_intervalo\", \"fecha_origen\"\n",
    "]\n",
    "\n",
    "X_train = df_train.drop(columns=cols_a_excluir, errors=\"ignore\").select_dtypes(include=[np.number]).values\n",
    "y_train = df_train[\"N_arribos_intervalo\"].values.astype(np.float32)\n",
    "\n",
    "X_val = df_val.drop(columns=cols_a_excluir, errors=\"ignore\").select_dtypes(include=[np.number]).values\n",
    "y_val = df_val[\"N_arribos_intervalo\"].values.astype(np.float32)\n",
    "\n",
    "print(f\"🧪 Train size: {X_train.shape}, Val size: {X_val.shape}\")\n",
    "\n",
    "# ===========================\n",
    "# 🏃 ENTRENAMIENTO\n",
    "# ===========================\n",
    "model, scaler, train_loss, val_loss = entrenar_vae(X_train, y_train, X_val, y_val)\n",
    "\n",
    "# ===========================\n",
    "# 📈 GRÁFICO DE LOSS\n",
    "# ===========================\n",
    "plt.figure(figsize=(6,5))\n",
    "plt.plot(range(1, EPOCHS+1), train_loss, label=\"Train Loss\")\n",
    "plt.plot(range(1, EPOCHS+1), val_loss, label=\"Val Loss\")\n",
    "plt.title(\"Loss - VAE (es_finde = 1)\")\n",
    "plt.xlabel(\"Epoch\")\n",
    "plt.ylabel(\"Loss\")\n",
    "plt.legend()\n",
    "plt.grid(True)\n",
    "plt.tight_layout()\n",
    "plt.show()"
   ]
  }
 ],
 "metadata": {
  "kernelspec": {
   "display_name": "base",
   "language": "python",
   "name": "python3"
  },
  "language_info": {
   "codemirror_mode": {
    "name": "ipython",
    "version": 3
   },
   "file_extension": ".py",
   "mimetype": "text/x-python",
   "name": "python",
   "nbconvert_exporter": "python",
   "pygments_lexer": "ipython3",
   "version": "3.12.2"
  }
 },
 "nbformat": 4,
 "nbformat_minor": 5
}
