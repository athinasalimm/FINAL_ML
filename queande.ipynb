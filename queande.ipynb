{
 "cells": [
  {
   "cell_type": "code",
   "execution_count": null,
   "id": "9f111087",
   "metadata": {},
   "outputs": [
    {
     "name": "stdout",
     "output_type": "stream",
     "text": [
      "🧱 Preprocesamiento en modo TRAIN (años 2020–2024)\n"
     ]
    }
   ],
   "source": [
    "from modeling import armar_dataset_modelado\n",
    "from src.utils import preprocesamiento_completo\n",
    "# Para entrenamiento (modo completo)\n",
    "preprocesamiento_completo()\n",
    "armar_dataset_modelado(test=False)\n",
    "# preprocesamiento_completo(test=True, path_test=\"pathtest\")\n",
    "# armar_dataset_modelado(test=True, path_test=\"pathtest\")"
   ]
  }
 ],
 "metadata": {
  "kernelspec": {
   "display_name": "base",
   "language": "python",
   "name": "python3"
  },
  "language_info": {
   "codemirror_mode": {
    "name": "ipython",
    "version": 3
   },
   "file_extension": ".py",
   "mimetype": "text/x-python",
   "name": "python",
   "nbconvert_exporter": "python",
   "pygments_lexer": "ipython3",
   "version": "3.12.2"
  }
 },
 "nbformat": 4,
 "nbformat_minor": 5
}
