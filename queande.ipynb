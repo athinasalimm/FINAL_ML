{
 "cells": [
  {
   "cell_type": "code",
   "execution_count": null,
   "id": "9f111087",
   "metadata": {},
   "outputs": [
    {
     "name": "stdout",
     "output_type": "stream",
     "text": [
      "🧱 Preprocesamiento en modo TRAIN (años 2020–2024)\n",
      "Se eliminaron 1403639 filas por fecha de origen.\n",
      "Se eliminaron 22 filas por fecha de destino.\n"
     ]
    },
    {
     "name": "stderr",
     "output_type": "stream",
     "text": [
      "/Users/athinasalim/Desktop/Machine/FINAL_ML/src/utils.py:327: DtypeWarning: Columns (17,18) have mixed types. Specify dtype option on import or set low_memory=False.\n",
      "  ruta_salida = f\"data/recorridos/processed/trips_{año}_pr.csv\"\n"
     ]
    }
   ],
   "source": [
    "from modeling import armar_dataset_modelado\n",
    "from src.utils import preprocesamiento_completo\n",
    "# Para entrenamiento (modo completo)\n",
    "preprocesamiento_completo()\n",
    "\n",
    "# Para test\n",
    "preprocesamiento_completo(test=True, path_test=\"data/recorridos/processed/trips_2023_pr.csv\")\n",
    "\n",
    "\n",
    "armar_dataset_modelado(test=False)\n",
    "armar_dataset_modelado(test=True, path_test=\"pathtest\")"
   ]
  }
 ],
 "metadata": {
  "kernelspec": {
   "display_name": "base",
   "language": "python",
   "name": "python3"
  },
  "language_info": {
   "codemirror_mode": {
    "name": "ipython",
    "version": 3
   },
   "file_extension": ".py",
   "mimetype": "text/x-python",
   "name": "python",
   "nbconvert_exporter": "python",
   "pygments_lexer": "ipython3",
   "version": "3.12.2"
  }
 },
 "nbformat": 4,
 "nbformat_minor": 5
}
