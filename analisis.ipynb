{
 "cells": [
  {
   "cell_type": "code",
   "execution_count": 1,
   "id": "6e03eb8c",
   "metadata": {},
   "outputs": [],
   "source": [
    "%load_ext autoreload\n",
    "%autoreload 2"
   ]
  },
  {
   "cell_type": "code",
   "execution_count": 4,
   "id": "fe2dbf8e",
   "metadata": {},
   "outputs": [],
   "source": [
    "import pandas as pd\n",
    "from sklearn.model_selection import train_test_split\n",
    "from sklearn.ensemble import RandomForestRegressor\n",
    "from sklearn.metrics import mean_absolute_error, root_mean_squared_error, r2_score\n",
    "from xgboost import XGBRegressor\n",
    "import xgboost as xgb\n",
    "import numpy as np\n"
   ]
  },
  {
   "cell_type": "code",
   "execution_count": 3,
   "id": "2b1eb153",
   "metadata": {},
   "outputs": [
    {
     "data": {
      "text/plain": [
       "0"
      ]
     },
     "execution_count": 3,
     "metadata": {},
     "output_type": "execute_result"
    }
   ],
   "source": [
    "import gc \n",
    "gc.collect()"
   ]
  },
  {
   "cell_type": "code",
   "execution_count": 5,
   "id": "47183d49",
   "metadata": {},
   "outputs": [],
   "source": [
    "df = pd.read_csv(\"data/modelado/ds_modelado.csv\")"
   ]
  },
  {
   "cell_type": "code",
   "execution_count": 5,
   "id": "2ad30e65",
   "metadata": {},
   "outputs": [],
   "source": [
    "def entrenar_y_evaluar(X_train, X_val, y_train, y_val, nombre):\n",
    "    model = XGBRegressor(\n",
    "        n_estimators=400,\n",
    "        max_depth=10,\n",
    "        learning_rate=0.05,\n",
    "        objective=\"count:poisson\",\n",
    "        tree_method=\"gpu_hist\",  # Usar GPU\n",
    "        predictor=\"gpu_predictor\",\n",
    "        random_state=42\n",
    "    )\n",
    "    model.fit(X_train, y_train)\n",
    "    y_pred = model.predict(X_val)\n",
    "\n",
    "    mae = mean_absolute_error(y_val, y_pred)\n",
    "    r2 = r2_score(y_val, y_pred)\n",
    "\n",
    "    print(f\"\\n📊 Resultados - {nombre}\")\n",
    "    print(f\"MAE: {mae:.2f}\")\n",
    "    print(f\"R²: {r2:.3f}\")\n",
    "    return model"
   ]
  },
  {
   "cell_type": "code",
   "execution_count": 6,
   "id": "e7bbfabf",
   "metadata": {},
   "outputs": [],
   "source": [
    "df_filtrado = df[\n",
    "    (df[\"duracion_recorrido\"] > 1) &\n",
    "    (df[\"usuario_registrado\"] == 1)\n",
    "].copy()"
   ]
  },
  {
   "cell_type": "code",
   "execution_count": 7,
   "id": "2251824c",
   "metadata": {},
   "outputs": [],
   "source": [
    "columnas_sin_leakage = [\n",
    "    'id_estacion_origen', 'id_usuario', 'modelo_bicicleta', 'barrio_origen', 'dia_semana',\n",
    "    'es_finde', 'estacion_del_anio', 'edad_usuario', 'año_alta', 'mes_alta',\n",
    "    'genero_FEMALE', 'genero_MALE', 'genero_OTHER', 'usuario_registrado',\n",
    "    'zona_origen_cluster', 'cantidad_estaciones_cercanas_origen',\n",
    "    'año_origen', 'mes_origen', 'dia_origen', 'hora_origen', 'minuto_origen', 'segundo_origen',\n",
    "    'año_intervalo', 'mes_intervalo', 'dia_intervalo', 'hora_intervalo', 'minuto_intervalo',\n",
    "    'N_SALIDAS_PROM_2INT', 'N_ARRIBOS_PROM_2INT', 'N_SALIDAS_LAG1', 'N_ARRIBOS_LAG1',\n",
    "    'N_SALIDAS_LAG2', 'N_ARRIBOS_LAG2', 'N_SALIDAS_LAG3', 'N_ARRIBOS_LAG3',\n",
    "    'id_estacion_destino_LAG1', 'id_estacion_destino_LAG2', 'id_estacion_destino_LAG3',\n",
    "    'barrio_destino_LAG1', 'barrio_destino_LAG2', 'barrio_destino_LAG3',\n",
    "    'cantidad_estaciones_cercanas_destino_LAG1', 'cantidad_estaciones_cercanas_destino_LAG2',\n",
    "    'cantidad_estaciones_cercanas_destino_LAG3', 'año_destino_LAG1', 'año_destino_LAG2',\n",
    "    'año_destino_LAG3', 'mes_destino_LAG1', 'mes_destino_LAG2', 'mes_destino_LAG3',\n",
    "    'dia_destino_LAG1', 'dia_destino_LAG2', 'dia_destino_LAG3', 'hora_destino_LAG1',\n",
    "    'hora_destino_LAG2', 'hora_destino_LAG3', 'minuto_destino_LAG1', 'minuto_destino_LAG2',\n",
    "    'minuto_destino_LAG3', 'segundo_destino_LAG1', 'segundo_destino_LAG2', 'segundo_destino_LAG3'\n",
    "]\n",
    "target = \"N_arribos_intervalo\""
   ]
  },
  {
   "cell_type": "markdown",
   "id": "78477004",
   "metadata": {},
   "source": [
    "Pruebo el de invierno pero con Dmatrix que es la estructura de datos interna optimizada que usa XGBoost para almacenar las matrices de características y etiquetas."
   ]
  },
  {
   "cell_type": "code",
   "execution_count": null,
   "id": "5f1af5e1",
   "metadata": {},
   "outputs": [],
   "source": [
    "df_invierno = df[df[\"estacion_del_anio\"] == 3].copy()\n",
    "train_df, val_df = train_test_split(df_invierno,test_size=0.2,random_state=42,stratify=df_invierno[\"año_intervalo\"])\n",
    "X_train = train_df[columnas_sin_leakage]\n",
    "y_train = train_df[target]\n",
    "\n",
    "X_val = val_df[columnas_sin_leakage]\n",
    "y_val = val_df[target]"
   ]
  },
  {
   "cell_type": "code",
   "execution_count": 20,
   "id": "131d3160",
   "metadata": {},
   "outputs": [
    {
     "name": "stdout",
     "output_type": "stream",
     "text": [
      "[0]\tvalidation-rmse:2.23278\n",
      "[50]\tvalidation-rmse:1.53323\n",
      "[100]\tvalidation-rmse:1.45340\n",
      "[150]\tvalidation-rmse:1.43180\n",
      "[200]\tvalidation-rmse:1.42534\n",
      "[250]\tvalidation-rmse:1.42160\n",
      "[299]\tvalidation-rmse:1.41916\n",
      "📈 XGBoost con GPU\n",
      "MAE: 1.02\n",
      "RMSE: 1.42\n",
      "R²: 0.615\n"
     ]
    }
   ],
   "source": [
    "dtrain = xgb.DMatrix(X_train, label=y_train)\n",
    "dval = xgb.DMatrix(X_val, label=y_val)\n",
    "\n",
    "params = {\n",
    "    \"max_depth\": 15,\n",
    "    \"subsample\": 0.8,\n",
    "    \"colsample_bytree\": 0.8,\n",
    "    \"learning_rate\": 0.05,\n",
    "    \"objective\": \"reg:squarederror\",\n",
    "    \"tree_method\": \"hist\",\n",
    "    \"device\": \"cuda\",\n",
    "    \"eval_metric\": \"rmse\"\n",
    "}\n",
    "\n",
    "model = xgb.train(\n",
    "    params=params,\n",
    "    dtrain=dtrain,\n",
    "    num_boost_round=300,\n",
    "    evals=[(dval, \"validation\")],\n",
    "    early_stopping_rounds=30,\n",
    "    verbose_eval=50\n",
    ")\n",
    "\n",
    "y_pred = model.predict(dval)\n",
    "\n",
    "mae = mean_absolute_error(y_val, y_pred)\n",
    "rmse = np.sqrt(np.mean((y_val - y_pred) ** 2))\n",
    "r2 = r2_score(y_val, y_pred)\n",
    "\n",
    "print(\"📈 XGBoost con GPU\")\n",
    "print(f\"MAE: {mae:.2f}\")\n",
    "print(f\"RMSE: {rmse:.2f}\")\n",
    "print(f\"R²: {r2:.3f}\")"
   ]
  },
  {
   "cell_type": "code",
   "execution_count": 8,
   "id": "4543eb1c",
   "metadata": {},
   "outputs": [],
   "source": [
    "splits = {\n",
    "    \"invierno\": df_filtrado[df_filtrado[\"estacion_del_anio\"] == 3],\n",
    "    \"hora_pico\": df_filtrado[df_filtrado[\"hora_origen\"].between(7, 10) | df_filtrado[\"hora_origen\"].between(17, 20)],\n",
    "    \"fin_de_semana\": df_filtrado[df_filtrado[\"es_finde\"] == 1],\n",
    "    \"dia_laborable\": df_filtrado[df_filtrado[\"es_finde\"] == 0],\n",
    "    \"usuarios_jovenes\": df_filtrado[df_filtrado[\"edad_usuario\"] < 30],\n",
    "    \"usuarios_mayores\": df_filtrado[df_filtrado[\"edad_usuario\"] >= 60],\n",
    "    \"usuarios_registrados\": df_filtrado[df_filtrado[\"usuario_registrado\"] == 1],\n",
    "    \"verano\": df_filtrado[df_filtrado[\"estacion_del_anio\"] == 1],\n",
    "    \"otoño\": df_filtrado[df_filtrado[\"estacion_del_anio\"] == 2],\n",
    "    \"primavera\": df_filtrado[df_filtrado[\"estacion_del_anio\"] == 4],\n",
    "    \"mujeres\": df_filtrado[df_filtrado[\"genero_FEMALE\"] == 1],\n",
    "    \"hombres\": df_filtrado[df_filtrado[\"genero_MALE\"] == 1],\n",
    "    \"otros_generos\": df_filtrado[df_filtrado[\"genero_OTHER\"] == 1],\n",
    "    \"estaciones_cercanas\": df_filtrado[df_filtrado[\"cantidad_estaciones_cercanas_origen\"] > 3],\n",
    "    \"zonas_cluster\": df_filtrado[df_filtrado[\"zona_origen_cluster\"] > 10],\n",
    "    \"todos\": df_filtrado\n",
    "\n",
    "}"
   ]
  },
  {
   "cell_type": "code",
   "execution_count": 8,
   "id": "268baf4f",
   "metadata": {},
   "outputs": [],
   "source": [
    "valores = {}\n",
    "def modelado(nombre, df):\n",
    "    train_df, val_df = train_test_split(df,test_size=0.2,random_state=42,stratify=df[\"año_intervalo\"])\n",
    "    X_train = train_df[columnas_sin_leakage]\n",
    "    y_train = train_df[target]\n",
    "\n",
    "    X_val = val_df[columnas_sin_leakage]\n",
    "    y_val = val_df[target]\n",
    "    dtrain = xgb.DMatrix(X_train, label=y_train)\n",
    "    dval = xgb.DMatrix(X_val, label=y_val)\n",
    "\n",
    "    params = {\n",
    "        \"max_depth\": 15,\n",
    "        \"subsample\": 0.8,\n",
    "        \"colsample_bytree\": 0.8,\n",
    "        \"learning_rate\": 0.05,\n",
    "        \"objective\": \"reg:squarederror\",\n",
    "        \"tree_method\": \"hist\",\n",
    "        \"device\": \"cuda\",\n",
    "        \"eval_metric\": \"rmse\"\n",
    "    }\n",
    "\n",
    "    model = xgb.train(\n",
    "        params=params,\n",
    "        dtrain=dtrain,\n",
    "        num_boost_round=300,\n",
    "        evals=[(dval, \"validation\")],\n",
    "        early_stopping_rounds=30,\n",
    "        verbose_eval=50\n",
    "    )\n",
    "\n",
    "    y_pred = model.predict(dval)\n",
    "\n",
    "    mae = mean_absolute_error(y_val, y_pred)\n",
    "    rmse = np.sqrt(np.mean((y_val - y_pred) ** 2))\n",
    "    r2 = r2_score(y_val, y_pred)\n",
    "\n",
    "    print(f\"📈 XGBoost con {nombre}\")\n",
    "    print(f\"MAE: {mae:.2f}\")\n",
    "    print(f\"RMSE: {rmse:.2f}\")\n",
    "    print(f\"R²: {r2:.3f}\")\n",
    "    valores[nombre] = {\n",
    "        \"mae\": mae,\n",
    "        \"rmse\": rmse,\n",
    "        \"r2\": r2\n",
    "    }\n",
    "        \n",
    "                                    "
   ]
  },
  {
   "cell_type": "markdown",
   "id": "d66a5f44",
   "metadata": {},
   "source": [
    "Invierno"
   ]
  },
  {
   "cell_type": "code",
   "execution_count": 9,
   "id": "192b742b",
   "metadata": {},
   "outputs": [
    {
     "name": "stdout",
     "output_type": "stream",
     "text": [
      "[0]\tvalidation-rmse:2.21515\n",
      "[50]\tvalidation-rmse:1.53219\n",
      "[100]\tvalidation-rmse:1.45423\n",
      "[150]\tvalidation-rmse:1.43374\n",
      "[200]\tvalidation-rmse:1.42862\n",
      "[250]\tvalidation-rmse:1.42404\n",
      "[299]\tvalidation-rmse:1.42241\n",
      "📈 XGBoost con invierno\n",
      "MAE: 1.02\n",
      "RMSE: 1.42\n",
      "R²: 0.607\n"
     ]
    }
   ],
   "source": [
    "modelado(\"invierno\", df_filtrado[df_filtrado[\"estacion_del_anio\"] == 3])"
   ]
  },
  {
   "cell_type": "markdown",
   "id": "f45f0fb6",
   "metadata": {},
   "source": [
    "Hora pico"
   ]
  },
  {
   "cell_type": "code",
   "execution_count": 11,
   "id": "3cbd3379",
   "metadata": {},
   "outputs": [
    {
     "name": "stdout",
     "output_type": "stream",
     "text": [
      "[0]\tvalidation-rmse:2.19343\n",
      "[50]\tvalidation-rmse:1.62763\n",
      "[100]\tvalidation-rmse:1.55049\n",
      "[150]\tvalidation-rmse:1.53251\n",
      "[200]\tvalidation-rmse:1.52439\n",
      "[250]\tvalidation-rmse:1.51868\n",
      "[299]\tvalidation-rmse:1.51538\n",
      "📈 XGBoost con hora_pico\n",
      "MAE: 1.11\n",
      "RMSE: 1.52\n",
      "R²: 0.542\n"
     ]
    }
   ],
   "source": [
    "modelado(\"hora_pico\", df_filtrado[df_filtrado[\"hora_origen\"].between(7, 10) | df_filtrado[\"hora_origen\"].between(17, 20)])"
   ]
  },
  {
   "cell_type": "markdown",
   "id": "a783378e",
   "metadata": {},
   "source": [
    "Fin de semana\n"
   ]
  },
  {
   "cell_type": "code",
   "execution_count": 12,
   "id": "65118d71",
   "metadata": {},
   "outputs": [
    {
     "name": "stdout",
     "output_type": "stream",
     "text": [
      "[0]\tvalidation-rmse:2.52815\n",
      "[50]\tvalidation-rmse:1.58945\n",
      "[100]\tvalidation-rmse:1.50971\n",
      "[150]\tvalidation-rmse:1.49077\n",
      "[200]\tvalidation-rmse:1.48545\n",
      "[250]\tvalidation-rmse:1.48161\n",
      "[299]\tvalidation-rmse:1.47928\n",
      "📈 XGBoost con fin_de_semana\n",
      "MAE: 0.99\n",
      "RMSE: 1.48\n",
      "R²: 0.676\n"
     ]
    }
   ],
   "source": [
    "modelado(\"fin_de_semana\", df_filtrado[df_filtrado[\"es_finde\"] == 1])"
   ]
  },
  {
   "cell_type": "markdown",
   "id": "de2f7b2a",
   "metadata": {},
   "source": [
    "Dia laborable"
   ]
  },
  {
   "cell_type": "code",
   "execution_count": 13,
   "id": "e31d4237",
   "metadata": {},
   "outputs": [
    {
     "name": "stdout",
     "output_type": "stream",
     "text": [
      "[0]\tvalidation-rmse:2.00952\n",
      "[50]\tvalidation-rmse:1.51967\n",
      "[100]\tvalidation-rmse:1.45700\n",
      "[150]\tvalidation-rmse:1.43988\n",
      "[200]\tvalidation-rmse:1.43226\n",
      "[250]\tvalidation-rmse:1.42803\n",
      "[299]\tvalidation-rmse:1.42487\n",
      "📈 XGBoost con dia_laborable\n",
      "MAE: 1.05\n",
      "RMSE: 1.42\n",
      "R²: 0.516\n"
     ]
    }
   ],
   "source": [
    "modelado(\"dia_laborable\", df_filtrado[df_filtrado[\"es_finde\"] == 0])"
   ]
  },
  {
   "cell_type": "markdown",
   "id": "186284f1",
   "metadata": {},
   "source": [
    "Jovenes"
   ]
  },
  {
   "cell_type": "code",
   "execution_count": 8,
   "id": "d1a0946d",
   "metadata": {},
   "outputs": [
    {
     "name": "stdout",
     "output_type": "stream",
     "text": [
      "[0]\tvalidation-rmse:2.10120\n",
      "[50]\tvalidation-rmse:1.57036\n",
      "[100]\tvalidation-rmse:1.50715\n",
      "[150]\tvalidation-rmse:1.49033\n",
      "[200]\tvalidation-rmse:1.48350\n",
      "[250]\tvalidation-rmse:1.47974\n",
      "[299]\tvalidation-rmse:1.47742\n",
      "📈 XGBoost con usuarios_jovenes\n",
      "MAE: 1.06\n",
      "RMSE: 1.48\n",
      "R²: 0.524\n"
     ]
    }
   ],
   "source": [
    "modelado(\"usuarios_jovenes\", df_filtrado[df_filtrado[\"edad_usuario\"] < 30])"
   ]
  },
  {
   "cell_type": "markdown",
   "id": "3fc19f7d",
   "metadata": {},
   "source": [
    "Mayores"
   ]
  },
  {
   "cell_type": "code",
   "execution_count": 9,
   "id": "08f96ebd",
   "metadata": {},
   "outputs": [
    {
     "name": "stdout",
     "output_type": "stream",
     "text": [
      "[0]\tvalidation-rmse:2.53875\n",
      "[50]\tvalidation-rmse:1.69081\n",
      "[100]\tvalidation-rmse:1.63323\n",
      "[150]\tvalidation-rmse:1.62125\n",
      "[200]\tvalidation-rmse:1.61887\n",
      "[250]\tvalidation-rmse:1.61838\n",
      "[280]\tvalidation-rmse:1.61856\n",
      "📈 XGBoost con usuarios_mayores\n",
      "MAE: 1.15\n",
      "RMSE: 1.62\n",
      "R²: 0.614\n"
     ]
    }
   ],
   "source": [
    "modelado(\"usuarios_mayores\", df_filtrado[df_filtrado[\"edad_usuario\"] >= 60])"
   ]
  },
  {
   "cell_type": "markdown",
   "id": "2f00507f",
   "metadata": {},
   "source": [
    "\n",
    "    \"estaciones_cercanas\": df_filtrado[df_filtrado[\"cantidad_estaciones_cercanas_origen\"] > 3],\n",
    "    \"zonas_cluster\": df_filtrado[df_filtrado[\"zona_origen_cluster\"] > 10],\n",
    "    \"todos\": df_filtrado\n"
   ]
  },
  {
   "cell_type": "markdown",
   "id": "582a4304",
   "metadata": {},
   "source": [
    "Usuarios Registrados"
   ]
  },
  {
   "cell_type": "code",
   "execution_count": 10,
   "id": "bf09739f",
   "metadata": {},
   "outputs": [
    {
     "name": "stdout",
     "output_type": "stream",
     "text": [
      "[0]\tvalidation-rmse:2.10007\n",
      "[50]\tvalidation-rmse:1.55385\n",
      "[100]\tvalidation-rmse:1.48230\n",
      "[150]\tvalidation-rmse:1.46209\n",
      "[200]\tvalidation-rmse:1.45298\n",
      "[250]\tvalidation-rmse:1.44709\n",
      "[299]\tvalidation-rmse:1.44309\n",
      "📈 XGBoost con usuarios_registrados\n",
      "MAE: 1.04\n",
      "RMSE: 1.44\n",
      "R²: 0.546\n"
     ]
    }
   ],
   "source": [
    "modelado(\"usuarios_registrados\", df_filtrado[df_filtrado[\"usuario_registrado\"] == 1])"
   ]
  },
  {
   "cell_type": "markdown",
   "id": "9866b9a2",
   "metadata": {},
   "source": [
    "Verano"
   ]
  },
  {
   "cell_type": "code",
   "execution_count": 11,
   "id": "33592486",
   "metadata": {},
   "outputs": [
    {
     "name": "stdout",
     "output_type": "stream",
     "text": [
      "[0]\tvalidation-rmse:1.99423\n",
      "[50]\tvalidation-rmse:1.49983\n",
      "[100]\tvalidation-rmse:1.43190\n",
      "[150]\tvalidation-rmse:1.41311\n",
      "[200]\tvalidation-rmse:1.40704\n",
      "[250]\tvalidation-rmse:1.40340\n",
      "[299]\tvalidation-rmse:1.40134\n",
      "📈 XGBoost con verano\n",
      "MAE: 1.02\n",
      "RMSE: 1.40\n",
      "R²: 0.524\n"
     ]
    }
   ],
   "source": [
    "modelado(\"verano\", df_filtrado[df_filtrado[\"estacion_del_anio\"] == 1])"
   ]
  },
  {
   "cell_type": "markdown",
   "id": "843dc9d3",
   "metadata": {},
   "source": [
    "Otoño"
   ]
  },
  {
   "cell_type": "code",
   "execution_count": 13,
   "id": "4b91a1c7",
   "metadata": {},
   "outputs": [
    {
     "name": "stdout",
     "output_type": "stream",
     "text": [
      "[0]\tvalidation-rmse:1.96341\n",
      "[50]\tvalidation-rmse:1.47507\n",
      "[100]\tvalidation-rmse:1.40792\n",
      "[150]\tvalidation-rmse:1.39299\n",
      "[200]\tvalidation-rmse:1.38856\n",
      "[250]\tvalidation-rmse:1.38571\n",
      "[299]\tvalidation-rmse:1.38415\n",
      "📈 XGBoost con otoño\n",
      "MAE: 1.02\n",
      "RMSE: 1.38\n",
      "R²: 0.523\n"
     ]
    }
   ],
   "source": [
    "modelado(\"otoño\", df_filtrado[df_filtrado[\"estacion_del_anio\"] == 2])"
   ]
  },
  {
   "cell_type": "markdown",
   "id": "62a9f0ae",
   "metadata": {},
   "source": [
    "Primavera"
   ]
  },
  {
   "cell_type": "code",
   "execution_count": 14,
   "id": "ce12d4bd",
   "metadata": {},
   "outputs": [
    {
     "name": "stdout",
     "output_type": "stream",
     "text": [
      "[0]\tvalidation-rmse:2.19882\n",
      "[50]\tvalidation-rmse:1.61264\n",
      "[100]\tvalidation-rmse:1.53713\n",
      "[150]\tvalidation-rmse:1.51800\n",
      "[200]\tvalidation-rmse:1.51229\n",
      "[250]\tvalidation-rmse:1.50758\n",
      "[299]\tvalidation-rmse:1.50536\n",
      "📈 XGBoost con primavera\n",
      "MAE: 1.10\n",
      "RMSE: 1.51\n",
      "R²: 0.551\n"
     ]
    }
   ],
   "source": [
    "modelado(\"primavera\", df_filtrado[df_filtrado[\"estacion_del_anio\"] == 4])"
   ]
  },
  {
   "cell_type": "markdown",
   "id": "d7aa6018",
   "metadata": {},
   "source": [
    "Mujeres"
   ]
  },
  {
   "cell_type": "code",
   "execution_count": 15,
   "id": "73710f39",
   "metadata": {},
   "outputs": [
    {
     "name": "stdout",
     "output_type": "stream",
     "text": [
      "[0]\tvalidation-rmse:2.11288\n",
      "[50]\tvalidation-rmse:1.58381\n",
      "[100]\tvalidation-rmse:1.51762\n",
      "[150]\tvalidation-rmse:1.50087\n",
      "[200]\tvalidation-rmse:1.49487\n",
      "[250]\tvalidation-rmse:1.49111\n",
      "[299]\tvalidation-rmse:1.48900\n",
      "📈 XGBoost con mujeres\n",
      "MAE: 1.07\n",
      "RMSE: 1.49\n",
      "R²: 0.522\n"
     ]
    }
   ],
   "source": [
    "modelado(\"mujeres\", df_filtrado[df_filtrado[\"genero_FEMALE\"] == 1])"
   ]
  },
  {
   "cell_type": "markdown",
   "id": "dd50efab",
   "metadata": {},
   "source": [
    "Hombres"
   ]
  },
  {
   "cell_type": "code",
   "execution_count": 16,
   "id": "81200d70",
   "metadata": {},
   "outputs": [
    {
     "name": "stdout",
     "output_type": "stream",
     "text": [
      "[0]\tvalidation-rmse:2.03065\n",
      "[50]\tvalidation-rmse:1.52605\n",
      "[100]\tvalidation-rmse:1.45867\n",
      "[150]\tvalidation-rmse:1.44322\n",
      "[200]\tvalidation-rmse:1.43630\n",
      "[250]\tvalidation-rmse:1.43231\n",
      "[299]\tvalidation-rmse:1.43002\n",
      "📈 XGBoost con hombres\n",
      "MAE: 1.03\n",
      "RMSE: 1.43\n",
      "R²: 0.522\n"
     ]
    }
   ],
   "source": [
    "modelado(\"hombres\", df_filtrado[df_filtrado[\"genero_MALE\"] == 1])"
   ]
  },
  {
   "cell_type": "markdown",
   "id": "441c087c",
   "metadata": {},
   "source": [
    "Otros"
   ]
  },
  {
   "cell_type": "code",
   "execution_count": 17,
   "id": "d689a0e5",
   "metadata": {},
   "outputs": [
    {
     "name": "stdout",
     "output_type": "stream",
     "text": [
      "[0]\tvalidation-rmse:2.37814\n",
      "[50]\tvalidation-rmse:1.68373\n",
      "[100]\tvalidation-rmse:1.62245\n",
      "[150]\tvalidation-rmse:1.60700\n",
      "[200]\tvalidation-rmse:1.60331\n",
      "[250]\tvalidation-rmse:1.60237\n",
      "[299]\tvalidation-rmse:1.60178\n",
      "📈 XGBoost con otros_generos\n",
      "MAE: 1.15\n",
      "RMSE: 1.60\n",
      "R²: 0.567\n"
     ]
    }
   ],
   "source": [
    "modelado(\"otros_generos\", df_filtrado[df_filtrado[\"genero_OTHER\"] == 1])"
   ]
  },
  {
   "cell_type": "markdown",
   "id": "adc52843",
   "metadata": {},
   "source": [
    "No mujer\n"
   ]
  },
  {
   "cell_type": "code",
   "execution_count": 18,
   "id": "cf9b79a4",
   "metadata": {},
   "outputs": [
    {
     "name": "stdout",
     "output_type": "stream",
     "text": [
      "[0]\tvalidation-rmse:2.09495\n",
      "[50]\tvalidation-rmse:1.55017\n",
      "[100]\tvalidation-rmse:1.47982\n",
      "[150]\tvalidation-rmse:1.46255\n",
      "[200]\tvalidation-rmse:1.45504\n",
      "[250]\tvalidation-rmse:1.45049\n",
      "[299]\tvalidation-rmse:1.44768\n",
      "📈 XGBoost con mujeres\n",
      "MAE: 1.04\n",
      "RMSE: 1.45\n",
      "R²: 0.541\n"
     ]
    }
   ],
   "source": [
    "modelado(\"mujeres\", df_filtrado[df_filtrado[\"genero_FEMALE\"] == 0])"
   ]
  },
  {
   "cell_type": "markdown",
   "id": "4c5ad974",
   "metadata": {},
   "source": [
    "No hombre"
   ]
  },
  {
   "cell_type": "code",
   "execution_count": 19,
   "id": "ef73cdd8",
   "metadata": {},
   "outputs": [
    {
     "name": "stdout",
     "output_type": "stream",
     "text": [
      "[0]\tvalidation-rmse:2.17311\n",
      "[50]\tvalidation-rmse:1.59481\n",
      "[100]\tvalidation-rmse:1.52528\n",
      "[150]\tvalidation-rmse:1.50753\n",
      "[200]\tvalidation-rmse:1.50020\n",
      "[250]\tvalidation-rmse:1.49608\n",
      "[299]\tvalidation-rmse:1.49369\n",
      "📈 XGBoost con hombres\n",
      "MAE: 1.08\n",
      "RMSE: 1.49\n",
      "R²: 0.547\n"
     ]
    }
   ],
   "source": [
    "modelado(\"hombres\", df_filtrado[df_filtrado[\"genero_MALE\"] == 0])"
   ]
  },
  {
   "cell_type": "markdown",
   "id": "bac02f3d",
   "metadata": {},
   "source": [
    "No otro"
   ]
  },
  {
   "cell_type": "code",
   "execution_count": 20,
   "id": "ebba49c4",
   "metadata": {},
   "outputs": [
    {
     "name": "stdout",
     "output_type": "stream",
     "text": [
      "[0]\tvalidation-rmse:2.06491\n",
      "[50]\tvalidation-rmse:1.54211\n",
      "[100]\tvalidation-rmse:1.47331\n",
      "[150]\tvalidation-rmse:1.45479\n",
      "[200]\tvalidation-rmse:1.44627\n",
      "[250]\tvalidation-rmse:1.44064\n",
      "[299]\tvalidation-rmse:1.43710\n",
      "📈 XGBoost con otros_generos\n",
      "MAE: 1.04\n",
      "RMSE: 1.44\n",
      "R²: 0.534\n"
     ]
    }
   ],
   "source": [
    "modelado(\"otros_generos\", df_filtrado[df_filtrado[\"genero_OTHER\"] == 0])"
   ]
  },
  {
   "cell_type": "markdown",
   "id": "2dcc4c81",
   "metadata": {},
   "source": [
    "Estaciones cercanas"
   ]
  },
  {
   "cell_type": "code",
   "execution_count": 21,
   "id": "e5858078",
   "metadata": {},
   "outputs": [
    {
     "name": "stdout",
     "output_type": "stream",
     "text": [
      "[0]\tvalidation-rmse:2.06228\n",
      "[50]\tvalidation-rmse:1.60634\n",
      "[100]\tvalidation-rmse:1.53668\n",
      "[150]\tvalidation-rmse:1.52249\n",
      "[200]\tvalidation-rmse:1.51755\n",
      "[250]\tvalidation-rmse:1.51479\n",
      "[299]\tvalidation-rmse:1.51288\n",
      "📈 XGBoost con estaciones_cercanas\n",
      "MAE: 1.11\n",
      "RMSE: 1.51\n",
      "R²: 0.479\n"
     ]
    }
   ],
   "source": [
    "modelado(\"estaciones_cercanas\", df_filtrado[df_filtrado[\"cantidad_estaciones_cercanas_origen\"] > 3])"
   ]
  },
  {
   "cell_type": "markdown",
   "id": "8321dfdd",
   "metadata": {},
   "source": [
    "Año 2020"
   ]
  },
  {
   "cell_type": "code",
   "execution_count": 23,
   "id": "f6fd3cdb",
   "metadata": {},
   "outputs": [
    {
     "name": "stdout",
     "output_type": "stream",
     "text": [
      "[0]\tvalidation-rmse:2.63155\n",
      "[50]\tvalidation-rmse:1.69908\n",
      "[100]\tvalidation-rmse:1.60750\n",
      "[150]\tvalidation-rmse:1.58592\n",
      "[200]\tvalidation-rmse:1.57948\n",
      "[250]\tvalidation-rmse:1.57716\n",
      "[299]\tvalidation-rmse:1.57546\n",
      "📈 XGBoost con 2020\n",
      "MAE: 1.13\n",
      "RMSE: 1.58\n",
      "R²: 0.661\n"
     ]
    }
   ],
   "source": [
    "modelado(\"2020\", df_filtrado[df_filtrado[\"año_intervalo\"] == 2020])"
   ]
  },
  {
   "cell_type": "markdown",
   "id": "12115b5f",
   "metadata": {},
   "source": [
    "Año 2021"
   ]
  },
  {
   "cell_type": "code",
   "execution_count": 24,
   "id": "4485fc6f",
   "metadata": {},
   "outputs": [
    {
     "name": "stdout",
     "output_type": "stream",
     "text": [
      "[0]\tvalidation-rmse:2.00655\n",
      "[50]\tvalidation-rmse:1.52854\n",
      "[100]\tvalidation-rmse:1.46012\n",
      "[150]\tvalidation-rmse:1.44676\n",
      "[200]\tvalidation-rmse:1.44243\n",
      "[250]\tvalidation-rmse:1.44042\n",
      "[299]\tvalidation-rmse:1.43926\n",
      "📈 XGBoost con 2021\n",
      "MAE: 1.07\n",
      "RMSE: 1.44\n",
      "R²: 0.505\n"
     ]
    }
   ],
   "source": [
    "modelado(\"2021\", df_filtrado[df_filtrado[\"año_intervalo\"] == 2021])"
   ]
  },
  {
   "cell_type": "markdown",
   "id": "c869669d",
   "metadata": {},
   "source": [
    "Año 2022"
   ]
  },
  {
   "cell_type": "code",
   "execution_count": 25,
   "id": "12659f51",
   "metadata": {},
   "outputs": [
    {
     "name": "stdout",
     "output_type": "stream",
     "text": [
      "[0]\tvalidation-rmse:1.75196\n",
      "[50]\tvalidation-rmse:1.34034\n",
      "[100]\tvalidation-rmse:1.29768\n",
      "[150]\tvalidation-rmse:1.28317\n",
      "[200]\tvalidation-rmse:1.27977\n",
      "[250]\tvalidation-rmse:1.27769\n",
      "[299]\tvalidation-rmse:1.27550\n",
      "📈 XGBoost con 2022\n",
      "MAE: 0.93\n",
      "RMSE: 1.28\n",
      "R²: 0.490\n"
     ]
    }
   ],
   "source": [
    "modelado(\"2022\", df_filtrado[df_filtrado[\"año_intervalo\"] == 2023])"
   ]
  },
  {
   "cell_type": "markdown",
   "id": "b4384a71",
   "metadata": {},
   "source": [
    "Año 2023"
   ]
  },
  {
   "cell_type": "code",
   "execution_count": 26,
   "id": "cd890278",
   "metadata": {},
   "outputs": [
    {
     "name": "stdout",
     "output_type": "stream",
     "text": [
      "[0]\tvalidation-rmse:1.75196\n",
      "[50]\tvalidation-rmse:1.34034\n",
      "[100]\tvalidation-rmse:1.29768\n",
      "[150]\tvalidation-rmse:1.28317\n",
      "[200]\tvalidation-rmse:1.27977\n",
      "[250]\tvalidation-rmse:1.27769\n",
      "[299]\tvalidation-rmse:1.27550\n",
      "📈 XGBoost con 2023\n",
      "MAE: 0.93\n",
      "RMSE: 1.28\n",
      "R²: 0.490\n"
     ]
    }
   ],
   "source": [
    "modelado(\"2023\", df_filtrado[df_filtrado[\"año_intervalo\"] == 2023])"
   ]
  },
  {
   "cell_type": "markdown",
   "id": "438dfed9",
   "metadata": {},
   "source": [
    "Año 2024"
   ]
  },
  {
   "cell_type": "code",
   "execution_count": 27,
   "id": "8cbe3f8f",
   "metadata": {},
   "outputs": [
    {
     "name": "stdout",
     "output_type": "stream",
     "text": [
      "[0]\tvalidation-rmse:2.19544\n",
      "[50]\tvalidation-rmse:1.53274\n",
      "[100]\tvalidation-rmse:1.46998\n",
      "[150]\tvalidation-rmse:1.45280\n",
      "[200]\tvalidation-rmse:1.44637\n",
      "[250]\tvalidation-rmse:1.44279\n",
      "[299]\tvalidation-rmse:1.44028\n",
      "📈 XGBoost con 2024\n",
      "MAE: 1.03\n",
      "RMSE: 1.44\n",
      "R²: 0.590\n"
     ]
    }
   ],
   "source": [
    "modelado(\"2024\", df_filtrado[df_filtrado[\"año_intervalo\"] == 2024])"
   ]
  },
  {
   "cell_type": "markdown",
   "id": "b0cb358e",
   "metadata": {},
   "source": [
    "Previo 2021 (incluido)"
   ]
  },
  {
   "cell_type": "code",
   "execution_count": 28,
   "id": "964610bd",
   "metadata": {},
   "outputs": [
    {
     "name": "stdout",
     "output_type": "stream",
     "text": [
      "[0]\tvalidation-rmse:2.29880\n",
      "[50]\tvalidation-rmse:1.63522\n",
      "[100]\tvalidation-rmse:1.54342\n",
      "[150]\tvalidation-rmse:1.52755\n",
      "[200]\tvalidation-rmse:1.52158\n",
      "[250]\tvalidation-rmse:1.51741\n",
      "[299]\tvalidation-rmse:1.51475\n",
      "📈 XGBoost con Previo 2021 (incluido)\n",
      "MAE: 1.10\n",
      "RMSE: 1.51\n",
      "R²: 0.585\n"
     ]
    }
   ],
   "source": [
    "modelado(\"Previo 2021 (incluido)\", df_filtrado[df_filtrado[\"año_intervalo\"] <= 2021])"
   ]
  },
  {
   "cell_type": "markdown",
   "id": "b1d5504a",
   "metadata": {},
   "source": [
    "Previo 2022 (incluido)"
   ]
  },
  {
   "cell_type": "code",
   "execution_count": 29,
   "id": "e235bdb8",
   "metadata": {},
   "outputs": [
    {
     "name": "stdout",
     "output_type": "stream",
     "text": [
      "[0]\tvalidation-rmse:2.16302\n",
      "[50]\tvalidation-rmse:1.58842\n",
      "[100]\tvalidation-rmse:1.51019\n",
      "[150]\tvalidation-rmse:1.49094\n",
      "[200]\tvalidation-rmse:1.48310\n",
      "[250]\tvalidation-rmse:1.47779\n",
      "[299]\tvalidation-rmse:1.47515\n",
      "📈 XGBoost con Previo 2022 (incluido)\n",
      "MAE: 1.07\n",
      "RMSE: 1.48\n",
      "R²: 0.553\n"
     ]
    }
   ],
   "source": [
    "modelado(\"Previo 2022 (incluido)\", df_filtrado[df_filtrado[\"año_intervalo\"] <= 2022])"
   ]
  },
  {
   "cell_type": "markdown",
   "id": "907956ed",
   "metadata": {},
   "source": [
    "Previo 2023 (incluido)"
   ]
  },
  {
   "cell_type": "code",
   "execution_count": 9,
   "id": "7f19d203",
   "metadata": {},
   "outputs": [
    {
     "name": "stdout",
     "output_type": "stream",
     "text": [
      "[0]\tvalidation-rmse:2.07320\n",
      "[50]\tvalidation-rmse:1.54150\n",
      "[100]\tvalidation-rmse:1.46797\n",
      "[150]\tvalidation-rmse:1.44913\n",
      "[200]\tvalidation-rmse:1.44038\n",
      "[250]\tvalidation-rmse:1.43546\n",
      "[299]\tvalidation-rmse:1.43187\n",
      "📈 XGBoost con Previo 2023 (incluido)\n",
      "MAE: 1.04\n",
      "RMSE: 1.43\n",
      "R²: 0.541\n"
     ]
    }
   ],
   "source": [
    "modelado(\"Previo 2023 (incluido)\", df_filtrado[df_filtrado[\"año_intervalo\"] <= 2023])"
   ]
  },
  {
   "cell_type": "markdown",
   "id": "e5be7c2f",
   "metadata": {},
   "source": [
    "Todo"
   ]
  },
  {
   "cell_type": "code",
   "execution_count": 10,
   "id": "b6649f2c",
   "metadata": {},
   "outputs": [
    {
     "name": "stdout",
     "output_type": "stream",
     "text": [
      "[0]\tvalidation-rmse:2.10007\n",
      "[50]\tvalidation-rmse:1.55316\n",
      "[100]\tvalidation-rmse:1.48384\n",
      "[150]\tvalidation-rmse:1.46193\n",
      "[200]\tvalidation-rmse:1.45301\n",
      "[250]\tvalidation-rmse:1.44670\n",
      "[299]\tvalidation-rmse:1.44322\n",
      "📈 XGBoost con todos\n",
      "MAE: 1.04\n",
      "RMSE: 1.44\n",
      "R²: 0.546\n"
     ]
    }
   ],
   "source": [
    "modelado(\"todos\", df_filtrado)"
   ]
  },
  {
   "cell_type": "code",
   "execution_count": null,
   "id": "133d27f9",
   "metadata": {},
   "outputs": [],
   "source": [
    "from xgboost import XGBRegressor\n",
    "from sklearn.metrics import mean_absolute_error, r2_score\n",
    "import numpy as np\n",
    "\n",
    "model_xgb_poisson = XGBRegressor(\n",
    "    n_estimators=800,\n",
    "    max_depth=15,\n",
    "    learning_rate=0.05,\n",
    "    subsample=0.8,\n",
    "    colsample_bytree=0.8,\n",
    "    objective=\"count:poisson\",\n",
    "    random_state=42,\n",
    "    n_jobs=-1\n",
    ")\n",
    "\n",
    "model_xgb_poisson.fit(X_train, y_train)\n",
    "y_pred = model_xgb_poisson.predict(X_val)\n",
    "\n",
    "mae = mean_absolute_error(y_val, y_pred)\n",
    "rmse = root_mean_squared_error(y_val, y_pred)\n",
    "r2 = r2_score(y_val, y_pred)\n",
    "\n",
    "print(\"📈 XGBoost con Poisson\")\n",
    "print(f\"MAE: {mae:.2f}\")\n",
    "print(f\"RMSE: {rmse:.2f}\")\n",
    "print(f\"R²: {r2:.3f}\")"
   ]
  }
 ],
 "metadata": {
  "kernelspec": {
   "display_name": "Python 3",
   "language": "python",
   "name": "python3"
  },
  "language_info": {
   "codemirror_mode": {
    "name": "ipython",
    "version": 3
   },
   "file_extension": ".py",
   "mimetype": "text/x-python",
   "name": "python",
   "nbconvert_exporter": "python",
   "pygments_lexer": "ipython3",
   "version": "3.11.9"
  }
 },
 "nbformat": 4,
 "nbformat_minor": 5
}
