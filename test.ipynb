{
 "cells": [
  {
   "cell_type": "code",
   "execution_count": null,
   "id": "75ff3694",
   "metadata": {},
   "outputs": [],
   "source": [
    "import pandas as pd\n",
    "\n",
    "# Cargar el dataset original\n",
    "df = pd.read_csv(\"data/recorridos/raw/trips_2024.csv\")\n",
    "\n",
    "# Convertir a datetime la columna de fecha\n",
    "df[\"fecha_origen_recorrido\"] = pd.to_datetime(df[\"fecha_origen_recorrido\"], errors=\"coerce\")\n",
    "\n",
    "# Filtrar solo el 9 de septiembre de 2024\n",
    "fecha_filtrada = pd.Timestamp(\"2024-09-09\")\n",
    "df_sep9 = df[df[\"fecha_origen_recorrido\"].dt.date == fecha_filtrada.date()]\n",
    "\n",
    "# Guardar el nuevo archivo\n",
    "df_sep9.to_csv(\"data/recorridos/processed/trips_2024_sep9.csv\", index=False)\n",
    "\n",
    "print(f\"Filtrado exitoso. Se guardaron {len(df_sep9)} filas.\")"
   ]
  },
  {
   "cell_type": "code",
   "execution_count": null,
   "id": "678591b2",
   "metadata": {},
   "outputs": [],
   "source": [
    "from src.utils import preprocesamiento_completo\n",
    "from modeling import armar_dataset_modelado\n",
    "\n",
    "preprocesamiento_completo(test=True, path_test=\"data/recorridos/processed/trips_2024_sep9.csv\")\n",
    "armar_dataset_modelado(test=True, path_test=\"data/recorridos/processed/trips_2024_sep9.csv\")"
   ]
  },
  {
   "cell_type": "code",
   "execution_count": null,
   "id": "f1d21b55",
   "metadata": {},
   "outputs": [],
   "source": []
  }
 ],
 "metadata": {
  "language_info": {
   "name": "python"
  }
 },
 "nbformat": 4,
 "nbformat_minor": 5
}
