{
 "cells": [
  {
   "cell_type": "code",
   "execution_count": 1,
   "id": "75a41748",
   "metadata": {},
   "outputs": [],
   "source": [
    "from modeling import armar_dataset_modelado, transformar_a_dataset_agrupado, agregar_temporales_a_parquet\n",
    "from src.utils import preprocesamiento_completo"
   ]
  },
  {
   "cell_type": "code",
   "execution_count": 2,
   "id": "1bf5bad0",
   "metadata": {},
   "outputs": [
    {
     "name": "stdout",
     "output_type": "stream",
     "text": [
      " Preprocesamiento en modo TEST\n",
      "\n",
      "Verificando consistencia en TEST\n",
      "Todas las estaciones tienen coordenadas consistentes.\n",
      "Usando df_estaciones ya guardado.\n",
      "🧪 Archivo enriquecido (modo test): data/test/test_data_bicis.csv\n",
      "Modo test: analizando usuarios en data/test/test_data_bicis.csv\n"
     ]
    },
    {
     "name": "stderr",
     "output_type": "stream",
     "text": [
      "c:\\Users\\catal\\OneDrive\\Documents\\UDESA\\AñoIII\\Machine Learning\\Proyecto_Final\\FINAL_ML\\src\\utils.py:706: FutureWarning: DataFrame.applymap has been deprecated. Use DataFrame.map instead.\n",
      "  df = df.applymap(lambda x: x.replace('\"', '') if isinstance(x, str) else x)\n",
      "c:\\Users\\catal\\OneDrive\\Documents\\UDESA\\AñoIII\\Machine Learning\\Proyecto_Final\\FINAL_ML\\src\\utils.py:706: FutureWarning: DataFrame.applymap has been deprecated. Use DataFrame.map instead.\n",
      "  df = df.applymap(lambda x: x.replace('\"', '') if isinstance(x, str) else x)\n",
      "c:\\Users\\catal\\OneDrive\\Documents\\UDESA\\AñoIII\\Machine Learning\\Proyecto_Final\\FINAL_ML\\src\\utils.py:706: FutureWarning: DataFrame.applymap has been deprecated. Use DataFrame.map instead.\n",
      "  df = df.applymap(lambda x: x.replace('\"', '') if isinstance(x, str) else x)\n",
      "c:\\Users\\catal\\OneDrive\\Documents\\UDESA\\AñoIII\\Machine Learning\\Proyecto_Final\\FINAL_ML\\src\\utils.py:706: FutureWarning: DataFrame.applymap has been deprecated. Use DataFrame.map instead.\n",
      "  df = df.applymap(lambda x: x.replace('\"', '') if isinstance(x, str) else x)\n",
      "c:\\Users\\catal\\OneDrive\\Documents\\UDESA\\AñoIII\\Machine Learning\\Proyecto_Final\\FINAL_ML\\src\\utils.py:706: FutureWarning: DataFrame.applymap has been deprecated. Use DataFrame.map instead.\n",
      "  df = df.applymap(lambda x: x.replace('\"', '') if isinstance(x, str) else x)\n"
     ]
    },
    {
     "name": "stdout",
     "output_type": "stream",
     "text": [
      "\n",
      "🔍 Resultados (modo test):\n",
      "Usuarios en test no registrados en 2020–2024: 2446\n",
      "Encontrados en 2015–2019: 1929\n",
      "Siguen sin aparecer: 517\n",
      "\n",
      "Filas generadas por usuarios totalmente desconocidos (ni 2015–2019 ni 2020–2024): 786\n",
      " Preprocesamiento completo.\n"
     ]
    }
   ],
   "source": [
    "preprocesamiento_completo(test=True, path_test= \"data/test/test_data_bicis.csv\")"
   ]
  },
  {
   "cell_type": "code",
   "execution_count": 3,
   "id": "fa93de07",
   "metadata": {},
   "outputs": [
    {
     "name": "stdout",
     "output_type": "stream",
     "text": [
      "\n",
      "Generando dataset de TEST...\n",
      "Usando archivo de test!\n",
      "Cargando todos los usuarios (2015 a 2024)...\n"
     ]
    },
    {
     "name": "stderr",
     "output_type": "stream",
     "text": [
      "c:\\Users\\catal\\OneDrive\\Documents\\UDESA\\AñoIII\\Machine Learning\\Proyecto_Final\\FINAL_ML\\modeling.py:167: DtypeWarning: Columns (1) have mixed types. Specify dtype option on import or set low_memory=False.\n",
      "  pd.read_csv(f) for f in archivos_usuarios\n",
      "c:\\Users\\catal\\OneDrive\\Documents\\UDESA\\AñoIII\\Machine Learning\\Proyecto_Final\\FINAL_ML\\modeling.py:167: DtypeWarning: Columns (1) have mixed types. Specify dtype option on import or set low_memory=False.\n",
      "  pd.read_csv(f) for f in archivos_usuarios\n",
      "c:\\Users\\catal\\OneDrive\\Documents\\UDESA\\AñoIII\\Machine Learning\\Proyecto_Final\\FINAL_ML\\modeling.py:167: DtypeWarning: Columns (1) have mixed types. Specify dtype option on import or set low_memory=False.\n",
      "  pd.read_csv(f) for f in archivos_usuarios\n",
      "c:\\Users\\catal\\OneDrive\\Documents\\UDESA\\AñoIII\\Machine Learning\\Proyecto_Final\\FINAL_ML\\modeling.py:27: DtypeWarning: Columns (1) have mixed types. Specify dtype option on import or set low_memory=False.\n",
      "  df = pd.read_csv(ruta)\n",
      "c:\\Users\\catal\\OneDrive\\Documents\\UDESA\\AñoIII\\Machine Learning\\Proyecto_Final\\FINAL_ML\\modeling.py:27: DtypeWarning: Columns (1) have mixed types. Specify dtype option on import or set low_memory=False.\n",
      "  df = pd.read_csv(ruta)\n",
      "c:\\Users\\catal\\OneDrive\\Documents\\UDESA\\AñoIII\\Machine Learning\\Proyecto_Final\\FINAL_ML\\modeling.py:27: DtypeWarning: Columns (1) have mixed types. Specify dtype option on import or set low_memory=False.\n",
      "  df = pd.read_csv(ruta)\n",
      "Contando estaciones cercanas: 100%|██████████| 501/501 [00:16<00:00, 31.02it/s]\n"
     ]
    },
    {
     "name": "stdout",
     "output_type": "stream",
     "text": [
      "Dataset final guardado en data/test/ds_modelado_test_final.csv\n",
      "Parquet guardado en: data/test/ds_modelado_test.parquet\n",
      "Dataset de test generado correctamente.\n"
     ]
    }
   ],
   "source": [
    "armar_dataset_modelado(test=True, path_test=\"data/test/test_data_bicis.csv\")"
   ]
  }
 ],
 "metadata": {
  "kernelspec": {
   "display_name": "Python 3",
   "language": "python",
   "name": "python3"
  },
  "language_info": {
   "codemirror_mode": {
    "name": "ipython",
    "version": 3
   },
   "file_extension": ".py",
   "mimetype": "text/x-python",
   "name": "python",
   "nbconvert_exporter": "python",
   "pygments_lexer": "ipython3",
   "version": "3.13.5"
  }
 },
 "nbformat": 4,
 "nbformat_minor": 5
}
