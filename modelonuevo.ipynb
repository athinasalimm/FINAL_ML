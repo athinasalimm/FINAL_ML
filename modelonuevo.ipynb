{
 "cells": [
  {
   "cell_type": "code",
   "execution_count": 2,
   "id": "6ed99ffd",
   "metadata": {},
   "outputs": [],
   "source": [
    "import pandas as pd\n",
    "import numpy as np\n",
    "from sklearn.model_selection import train_test_split\n",
    "from sklearn.preprocessing import StandardScaler\n",
    "from sklearn.ensemble import RandomForestRegressor, GradientBoostingRegressor\n",
    "from sklearn.linear_model import Ridge\n",
    "from sklearn.neural_network import MLPRegressor\n",
    "from sklearn.metrics import mean_absolute_error, r2_score\n",
    "import matplotlib.pyplot as plt\n",
    "import seaborn as sns"
   ]
  },
  {
   "cell_type": "code",
   "execution_count": 1,
   "id": "bf3eee8a",
   "metadata": {},
   "outputs": [
    {
     "data": {
      "text/plain": [
       "0"
      ]
     },
     "execution_count": 1,
     "metadata": {},
     "output_type": "execute_result"
    }
   ],
   "source": [
    "import gc \n",
    "gc.collect()"
   ]
  },
  {
   "cell_type": "code",
   "execution_count": 3,
   "id": "f20bc0a2",
   "metadata": {},
   "outputs": [],
   "source": [
    "df = pd.read_csv(\"data/modelado/ds_modelado.csv\")"
   ]
  },
  {
   "cell_type": "code",
   "execution_count": 4,
   "id": "286ee3a4",
   "metadata": {},
   "outputs": [],
   "source": [
    "import pandas as pd\n",
    "\n",
    "# 🕒 Crear columna de timestamp (ya que lo usamos para ordenar)\n",
    "df['timestamp_intervalo'] = pd.to_datetime(\n",
    "    df.rename(columns={\n",
    "        'año_intervalo': 'year',\n",
    "        'mes_intervalo': 'month',\n",
    "        'dia_intervalo': 'day',\n",
    "        'hora_intervalo': 'hour'\n",
    "    })[['year', 'month', 'day', 'hour']]\n",
    ")\n",
    "\n",
    "# ===============================\n",
    "# 🚀 Feature Engineering SIN data leakage\n",
    "# ===============================\n",
    "\n",
    "# Ordenar el dataframe por usuario y tiempo\n",
    "df = df.sort_values(['id_usuario', 'timestamp_intervalo'])\n",
    "\n",
    "# 1️⃣ Rolling stats por estación de origen (media duración últimos 3 viajes)\n",
    "df['duracion_rolling_3'] = (\n",
    "    df.sort_values(['id_estacion_origen', 'timestamp_intervalo'])\n",
    "      .groupby('id_estacion_origen')['duracion_recorrido']\n",
    "      .apply(lambda x: x.shift().rolling(window=3, min_periods=1).mean())\n",
    "      .reset_index(drop=True)\n",
    ")\n",
    "\n",
    "# 2️⃣ Salidas acumuladas por estación de origen (antes de ese viaje)\n",
    "df['salidas_acumuladas_origen'] = (\n",
    "    df.sort_values(['id_estacion_origen', 'timestamp_intervalo'])\n",
    "      .groupby('id_estacion_origen')\n",
    "      .cumcount()\n",
    ")\n",
    "\n",
    "# 3️⃣ Edad media en la estación de origen (hasta el momento anterior)\n",
    "df['edad_media_origen'] = (\n",
    "    df.sort_values(['id_estacion_origen', 'timestamp_intervalo'])\n",
    "      .groupby('id_estacion_origen')['edad_usuario']\n",
    "      .apply(lambda x: x.shift().expanding().mean())\n",
    "      .reset_index(drop=True)\n",
    ")\n",
    "\n",
    "# 4️⃣ Proporción histórica de usuarios registrados por estación de origen\n",
    "df['prop_usuarios_reg_origen'] = (\n",
    "    df.sort_values(['id_estacion_origen', 'timestamp_intervalo'])\n",
    "      .groupby('id_estacion_origen')['usuario_registrado']\n",
    "      .apply(lambda x: x.shift().expanding().mean())\n",
    "      .reset_index(drop=True)\n",
    ")"
   ]
  },
  {
   "cell_type": "code",
   "execution_count": 5,
   "id": "7779d2cb",
   "metadata": {},
   "outputs": [
    {
     "name": "stdout",
     "output_type": "stream",
     "text": [
      "Recurrencia del usuario calculada.\n"
     ]
    }
   ],
   "source": [
    "\n",
    "\n",
    "# 5️⃣ Hora media histórica por estación de origen\n",
    "df['hora_media_origen'] = (\n",
    "    df.sort_values(['id_estacion_origen', 'timestamp_intervalo'])\n",
    "      .groupby('id_estacion_origen')['hora_origen']\n",
    "      .apply(lambda x: x.shift().expanding().mean())\n",
    "      .reset_index(drop=True)\n",
    ")\n",
    "\n",
    "# 6️⃣ Salidas promedio acumuladas hasta ese momento (por estación y hora)\n",
    "df['salidas_intervalo_acumuladas'] = (\n",
    "    df.sort_values(['id_estacion_origen', 'timestamp_intervalo'])\n",
    "      .groupby('id_estacion_origen')\n",
    "      .cumcount()\n",
    ")\n",
    "\n",
    "from collections import defaultdict\n",
    "\n",
    "usuarios_hist = defaultdict(set)\n",
    "usuarios_unicos = []\n",
    "\n",
    "for estacion, usuario in zip(df['id_estacion_origen'], df['id_usuario']):\n",
    "    usuarios_unicos.append(len(usuarios_hist[estacion]))\n",
    "    usuarios_hist[estacion].add(usuario)\n",
    "\n",
    "df['usuarios_unicos_origen'] = usuarios_unicos\n",
    "\n",
    "print(\"Recurrencia del usuario calculada.\")\n",
    "\n",
    "# 8️⃣ Recurrencia del usuario (cuántos viajes hizo antes)\n",
    "df['recurrencia_usuario'] = (\n",
    "    df.sort_values(['id_usuario', 'timestamp_intervalo'])\n",
    "      .groupby('id_usuario')\n",
    "      .cumcount()\n",
    ")\n",
    "# 9️⃣ Hora pico (solo en base a hora del viaje, sin leakage)\n",
    "df['es_hora_pico'] = df['hora_origen'].apply(lambda h: int(7 <= h <= 10 or 17 <= h <= 20))\n",
    "\n",
    "# 🔥 Eliminar columnas que sí generan leakage o ya no se usan\n",
    "columnas_a_eliminar = [\n",
    "    \"N_salidas_intervalo\",  # info del futuro\n",
    "    'id_estacion_destino',\n",
    "    'barrio_destino',\n",
    "    'zona_destino_cluster',\n",
    "    'cantidad_estaciones_cercanas_destino',\n",
    "    'año_destino',\n",
    "    'mes_destino',\n",
    "    'dia_destino',\n",
    "    'hora_destino',\n",
    "    'minuto_destino',\n",
    "    'segundo_destino',\n",
    "    \"id_recorrido\",  # ID del target\n",
    "    \"duracion_recorrido\",  # usada en rolling, ya no la necesitamos\n",
    "    \"timestamp_intervalo\",  # usada solo para ordenar\n",
    "]\n",
    "\n",
    "# ✅ Guardar dataset final sin data leakage\n",
    "modelado_final = df.drop(columns=columnas_a_eliminar).copy()\n",
    "modelado_final.to_csv(\"data/modelado/ds_modelado_nuevo.csv\", index=False)\n"
   ]
  },
  {
   "cell_type": "code",
   "execution_count": 6,
   "id": "0c5dfa50",
   "metadata": {},
   "outputs": [],
   "source": [
    "df = pd.read_csv(\"data/modelado/ds_modelado_nuevo.csv\")\n",
    "df = df[df[\"estacion_del_anio\"] == 1].copy()\n",
    "\n",
    "target = \"N_arribos_intervalo\"\n",
    "\n",
    "df_train, df_val = train_test_split(\n",
    "    df,\n",
    "    test_size=0.2,\n",
    "    stratify=df[\"año_intervalo\"],\n",
    "    random_state=42\n",
    ")"
   ]
  },
  {
   "cell_type": "code",
   "execution_count": 7,
   "id": "713fc70d",
   "metadata": {},
   "outputs": [],
   "source": [
    "features = [col for col in df.columns if col not in [target]]"
   ]
  },
  {
   "cell_type": "code",
   "execution_count": 8,
   "id": "9b0d2f67",
   "metadata": {},
   "outputs": [
    {
     "name": "stdout",
     "output_type": "stream",
     "text": [
      "Index(['id_estacion_origen', 'id_usuario', 'modelo_bicicleta', 'barrio_origen',\n",
      "       'dia_semana', 'es_finde', 'estacion_del_anio', 'edad_usuario',\n",
      "       'año_alta', 'mes_alta', 'genero_FEMALE', 'genero_MALE', 'genero_OTHER',\n",
      "       'usuario_registrado', 'zona_origen_cluster',\n",
      "       'cantidad_estaciones_cercanas_origen', 'N_arribos_intervalo',\n",
      "       'año_origen', 'mes_origen', 'dia_origen', 'hora_origen',\n",
      "       'minuto_origen', 'segundo_origen', 'año_intervalo', 'mes_intervalo',\n",
      "       'dia_intervalo', 'hora_intervalo', 'minuto_intervalo',\n",
      "       'duracion_rolling_3', 'salidas_acumuladas_origen', 'edad_media_origen',\n",
      "       'prop_usuarios_reg_origen', 'hora_media_origen',\n",
      "       'salidas_intervalo_acumuladas', 'usuarios_unicos_origen',\n",
      "       'recurrencia_usuario', 'es_hora_pico'],\n",
      "      dtype='object')\n"
     ]
    }
   ],
   "source": [
    "print(modelado_final.columns)"
   ]
  },
  {
   "cell_type": "code",
   "execution_count": 9,
   "id": "6ac3fe44",
   "metadata": {},
   "outputs": [],
   "source": [
    "scaler_X = StandardScaler()\n",
    "scaler_y = StandardScaler()\n",
    "\n",
    "X_train = scaler_X.fit_transform(df_train[features])\n",
    "X_val = scaler_X.transform(df_val[features])\n",
    "\n",
    "y_train = scaler_y.fit_transform(df_train[[target]]).flatten()\n",
    "y_val = scaler_y.transform(df_val[[target]]).flatten()"
   ]
  },
  {
   "cell_type": "code",
   "execution_count": 10,
   "id": "3b8502a5",
   "metadata": {},
   "outputs": [],
   "source": [
    "\n",
    "def evaluar_modelo(modelo, nombre):\n",
    "    modelo.fit(X_train, y_train)\n",
    "    y_pred_scaled = modelo.predict(X_val)\n",
    "    y_pred = scaler_y.inverse_transform(y_pred_scaled.reshape(-1, 1)).flatten()\n",
    "    y_true = scaler_y.inverse_transform(y_val.reshape(-1, 1)).flatten()\n",
    "    \n",
    "    mae = mean_absolute_error(y_true, y_pred)\n",
    "    r2 = r2_score(y_true, y_pred)\n",
    "    \n",
    "    print(f\"📊 {nombre}\")\n",
    "    print(f\"MAE: {mae:.2f}\")\n",
    "    print(f\"R²: {r2:.4f}\")\n",
    "    print(\"-\" * 40)\n",
    "    return modelo, mae, r2"
   ]
  },
  {
   "cell_type": "code",
   "execution_count": 11,
   "id": "8ad36fb0",
   "metadata": {},
   "outputs": [],
   "source": [
    "modelos = {\n",
    "    \"Random Forest\": RandomForestRegressor(n_estimators=50, max_depth=15, n_jobs=-1, random_state=42),\n",
    "    \"Gradient Boosting\": GradientBoostingRegressor(n_estimators=100, max_depth=5, learning_rate=0.1, random_state=42),\n",
    "    \"Ridge\": Ridge(alpha=1.0),\n",
    "    \"MLP\": MLPRegressor(hidden_layer_sizes=(128, 64), max_iter=100, early_stopping=True, random_state=42)\n",
    "}"
   ]
  },
  {
   "cell_type": "code",
   "execution_count": 12,
   "id": "e4682192",
   "metadata": {},
   "outputs": [],
   "source": [
    "resultados = []"
   ]
  },
  {
   "cell_type": "code",
   "execution_count": 13,
   "id": "50f4610b",
   "metadata": {},
   "outputs": [
    {
     "name": "stdout",
     "output_type": "stream",
     "text": [
      "📊 Random Forest\n",
      "MAE: 1.25\n",
      "R²: 0.2238\n",
      "----------------------------------------\n"
     ]
    }
   ],
   "source": [
    "#Pruebo Random Forest\n",
    "rf_model, rf_mae, rf_r2 = evaluar_modelo(modelos[\"Random Forest\"], \"Random Forest\")\n",
    "resultados.append((\"Random Forest\", rf_mae, rf_r2))"
   ]
  },
  {
   "cell_type": "code",
   "execution_count": 8,
   "id": "ee333c0b",
   "metadata": {},
   "outputs": [],
   "source": [
    "#Pruebo Gradient Boosting\n",
    "#gb_model, gb_mae, gb_r2 = evaluar_modelo(modelos[\"Gradient Boosting\"], \"Gradient Boosting\")\n",
    "#resultados.append((\"Gradient Boosting\", gb_mae, gb_r2))"
   ]
  },
  {
   "cell_type": "code",
   "execution_count": 17,
   "id": "f2fcf457",
   "metadata": {},
   "outputs": [
    {
     "name": "stdout",
     "output_type": "stream",
     "text": [
      "📊 Ridge\n",
      "MAE: 1.37\n",
      "R²: 0.0796\n",
      "----------------------------------------\n"
     ]
    }
   ],
   "source": [
    "#Pruebo Ridge\n",
    "ridge_model, ridge_mae, ridge_r2 = evaluar_modelo(modelos[\"Ridge\"], \"Ridge\")\n",
    "resultados.append((\"Ridge\", ridge_mae, ridge_r2)) "
   ]
  },
  {
   "cell_type": "code",
   "execution_count": null,
   "id": "041fff0a",
   "metadata": {},
   "outputs": [
    {
     "name": "stdout",
     "output_type": "stream",
     "text": [
      "📊 MLP\n",
      "MAE: 1.23\n",
      "R²: 0.2332\n",
      "----------------------------------------\n"
     ]
    }
   ],
   "source": [
    "#Pruebo MLP\n",
    "#mlp_model, mlp_mae, mlp_r2 = evaluar_modelo(modelos[\"MLP\"], \"MLP\")\n",
    "#resultados.append((\"MLP\", mlp_mae, mlp_r2))"
   ]
  },
  {
   "cell_type": "code",
   "execution_count": null,
   "id": "38a7cdaa",
   "metadata": {},
   "outputs": [
    {
     "name": "stdout",
     "output_type": "stream",
     "text": [
      "  Modelo       MAE        R2\n",
      "0    MLP  1.232353  0.233174\n"
     ]
    }
   ],
   "source": [
    "#df_resultados = pd.DataFrame(resultados, columns=[\"Modelo\", \"MAE\", \"R2\"])\n",
    "#df_resultados.sort_values(\"MAE\", inplace=True)\n",
    "#print(df_resultados)\n"
   ]
  },
  {
   "cell_type": "code",
   "execution_count": 18,
   "id": "9d4c73fc",
   "metadata": {},
   "outputs": [
    {
     "data": {
      "image/png": "[encoded data removed]",
      "text/plain": [
       "<Figure size 1000x600 with 1 Axes>"
      ]
     },
     "metadata": {},
     "output_type": "display_data"
    }
   ],
   "source": [
    "\n",
    "# %%\n",
    "# 🔍 Importancia de features (solo si usaste RF o GB)\n",
    "modelo_rf = RandomForestRegressor(n_estimators=100, max_depth=15, random_state=42, n_jobs=-1)\n",
    "modelo_rf.fit(X_train, y_train)\n",
    "\n",
    "importancias = modelo_rf.feature_importances_\n",
    "importancia_df = pd.DataFrame({\n",
    "    \"feature\": features,\n",
    "    \"importancia\": importancias\n",
    "}).sort_values(by=\"importancia\", ascending=False)\n",
    "\n",
    "plt.figure(figsize=(10, 6))\n",
    "sns.barplot(data=importancia_df.head(15), x=\"importancia\", y=\"feature\")\n",
    "plt.title(\"Top 15 features más importantes (Random Forest)\")\n",
    "plt.show()"
   ]
  },
  {
   "cell_type": "code",
   "execution_count": null,
   "id": "ae25ca4d",
   "metadata": {},
   "outputs": [],
   "source": [
    "# 1. 📥 Importaciones\n",
    "import pandas as pd\n",
    "import numpy as np\n",
    "from sklearn.model_selection import train_test_split, StratifiedKFold, GridSearchCV\n",
    "from sklearn.ensemble import RandomForestRegressor, GradientBoostingRegressor\n",
    "from sklearn.linear_model import LinearRegression\n",
    "from sklearn.preprocessing import StandardScaler\n",
    "from sklearn.metrics import mean_absolute_error, r2_score, make_scorer\n",
    "import matplotlib.pyplot as plt\n",
    "import seaborn as sns\n",
    "import warnings\n",
    "warnings.filterwarnings(\"ignore\")\n",
    "\n",
    "# 2. 📄 Cargar dataset y limpiar\n",
    "df = pd.read_csv(\"data/modelado/ds_modelado.csv\")\n",
    "df = df[df[\"estacion_del_anio\"] == 1].copy()  # verano\n",
    "\n",
    "target = \"N_arribos_intervalo\"\n",
    "cols_a_excluir = [\n",
    "    \"N_arribos_intervalo\", \"id_recorrido\", \"id_usuario\",\n",
    "    \"id_estacion_destino\", \"barrio_destino\", \"zona_destino_cluster\",\n",
    "    \"cantidad_estaciones_cercanas_destino\",\n",
    "    \"año_destino\", \"mes_destino\", \"dia_destino\",\n",
    "    \"hora_destino\", \"minuto_destino\", \"segundo_destino\",\n",
    "    \"duracion_recorrido\"\n",
    "]\n",
    "features = [col for col in df.columns if col not in cols_a_excluir]\n",
    "\n",
    "# 3. 🔀 Split estratificado por año\n",
    "df_train, df_val = train_test_split(\n",
    "    df, test_size=0.2, stratify=df[\"año_intervalo\"], random_state=42\n",
    ")\n",
    "\n",
    "# 4. ⚙️ Lags\n",
    "def crear_features_con_lags(X, y, ventana=6):\n",
    "    X_seq, y_seq = [], []\n",
    "    for i in range(ventana, len(X)):\n",
    "        X_seq.append(X[i-ventana:i].flatten())\n",
    "        y_seq.append(y[i])\n",
    "    return np.array(X_seq), np.array(y_seq)\n",
    "\n",
    "# 5. 🧼 Escalar\n",
    "scaler_X = StandardScaler()\n",
    "X_train_scaled = scaler_X.fit_transform(df_train[features])\n",
    "X_val_scaled = scaler_X.transform(df_val[features])\n",
    "\n",
    "y_train = df_train[target].values\n",
    "y_val = df_val[target].values\n",
    "\n",
    "ventana = 6\n",
    "X_train_lag, y_train_lag = crear_features_con_lags(X_train_scaled, y_train, ventana)\n",
    "X_val_lag, y_val_lag = crear_features_con_lags(X_val_scaled, y_val, ventana)\n",
    "\n",
    "# 6. 📈 Comparar modelos\n",
    "def evaluar_modelo(modelo, nombre):\n",
    "    modelo.fit(X_train_lag, y_train_lag)\n",
    "    y_pred = modelo.predict(X_val_lag)\n",
    "    mae = mean_absolute_error(y_val_lag, y_pred)\n",
    "    r2 = r2_score(y_val_lag, y_pred)\n",
    "    print(f\"📊 {nombre}\\nMAE: {mae:.2f}\\nR²: {r2:.4f}\\n\" + \"-\"*40)\n",
    "    return modelo, mae, r2\n",
    "\n",
    "modelos = {\n",
    "    \"Linear Regression\": LinearRegression(),\n",
    "    \"Random Forest\": RandomForestRegressor(n_estimators=100, max_depth=10, n_jobs=-1, random_state=42),\n",
    "}\n",
    "\n",
    "resultados = []\n",
    "for nombre, modelo in modelos.items():\n",
    "    m, mae, r2 = evaluar_modelo(modelo, nombre)\n",
    "    resultados.append((nombre, mae, r2))\n",
    "\n",
    "# 7. 🔍 Grid Search Gradient Boosting\n",
    "gb_params = {\n",
    "    \"n_estimators\": [50, 100],\n",
    "    \"max_depth\": [3, 5],\n",
    "    \"learning_rate\": [0.05, 0.1],\n",
    "    \"subsample\": [0.8, 1.0]\n",
    "}\n",
    "\n",
    "gb = GradientBoostingRegressor(random_state=42)\n",
    "cv = StratifiedKFold(n_splits=3, shuffle=True, random_state=42)\n",
    "y_strat = pd.qcut(y_train_lag, q=5, labels=False)\n",
    "\n",
    "grid = GridSearchCV(gb, gb_params, cv=cv, scoring=\"r2\", n_jobs=-1, verbose=2)\n",
    "grid.fit(X_train_lag, y_train_lag, groups=y_strat)\n",
    "\n",
    "print(\"🏆 Mejor combinación de hiperparámetros:\")\n",
    "print(grid.best_params_)\n",
    "\n",
    "y_pred = grid.best_estimator_.predict(X_val_lag)\n",
    "mae = mean_absolute_error(y_val_lag, y_pred)\n",
    "r2 = r2_score(y_val_lag, y_pred)\n",
    "print(f\"Gradient Boosting GridSearch\\nMAE: {mae:.2f}\\nR²: {r2:.4f}\")\n",
    "\n",
    "resultados.append((\"Gradient Boosting (GS)\", mae, r2))\n",
    "\n",
    "# 8. 📊 Comparación\n",
    "df_resultados = pd.DataFrame(resultados, columns=[\"Modelo\", \"MAE\", \"R²\"])\n",
    "sns.barplot(data=df_resultados, y=\"Modelo\", x=\"R²\", palette=\"viridis\")\n",
    "plt.title(\"Comparación de modelos - R²\")\n",
    "plt.show()\n"
   ]
  }
 ],
 "metadata": {
  "kernelspec": {
   "display_name": "Python 3",
   "language": "python",
   "name": "python3"
  },
  "language_info": {
   "codemirror_mode": {
    "name": "ipython",
    "version": 3
   },
   "file_extension": ".py",
   "mimetype": "text/x-python",
   "name": "python",
   "nbconvert_exporter": "python",
   "pygments_lexer": "ipython3",
   "version": "3.11.9"
  }
 },
 "nbformat": 4,
 "nbformat_minor": 5
}
