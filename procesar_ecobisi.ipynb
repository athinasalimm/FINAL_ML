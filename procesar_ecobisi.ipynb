{
 "cells": [
  {
   "cell_type": "code",
   "execution_count": 2,
   "id": "2aff6542",
   "metadata": {},
   "outputs": [],
   "source": [
    "%load_ext autoreload\n",
    "%autoreload 2"
   ]
  },
  {
   "cell_type": "code",
   "execution_count": 3,
   "id": "5f3d322d",
   "metadata": {},
   "outputs": [],
   "source": [
    "import pandas as pd \n",
    "import numpy as np"
   ]
  },
  {
   "cell_type": "code",
   "execution_count": 4,
   "id": "1053a964",
   "metadata": {},
   "outputs": [],
   "source": [
    "from src.utils_usuario import limpiar_y_codificar_usuarios"
   ]
  },
  {
   "cell_type": "code",
   "execution_count": 5,
   "id": "fca3f9d9",
   "metadata": {},
   "outputs": [],
   "source": [
    "bici_2020 = pd.read_csv(r'data\\usuarios\\raw\\usuarios_ecobici_2020.csv', dtype={\"edad_usuario\": str})\n",
    "bici_2021 = pd.read_csv(r'data\\usuarios\\raw\\usuarios_ecobici_2021.csv', dtype={\"edad_usuario\": str})\n",
    "bici_2022 = pd.read_csv(r'data\\usuarios\\raw\\usuarios_ecobici_2022.csv', dtype={\"edad_usuario\": str})\n",
    "bici_2023 = pd.read_csv(r'data\\usuarios\\raw\\usuarios_ecobici_2023.csv',dtype={\"edad_usuario\": str})\n",
    "bici_2024 = pd.read_csv(r'data\\usuarios\\raw\\usuarios_ecobici_2024.csv', dtype={\"edad_usuario\": str})"
   ]
  },
  {
   "cell_type": "code",
   "execution_count": 6,
   "id": "0aade66e",
   "metadata": {},
   "outputs": [
    {
     "name": "stdout",
     "output_type": "stream",
     "text": [
      "📊 Porcentaje de usuarios sin DNI: 26.37%\n"
     ]
    }
   ],
   "source": [
    "\n",
    "total_usuarios = len(bici_2020)\n",
    "\n",
    "# Contar cuántos tienen \"No\" en la columna del DNI\n",
    "sin_dni = (bici_2020[\"Customer.Has.Dni..Yes...No.\"] == \"No\").sum()\n",
    "\n",
    "# Calcular el porcentaje\n",
    "porcentaje_sin_dni = (sin_dni / total_usuarios) * 100\n",
    "\n",
    "# Mostrar el resultado\n",
    "print(f\"📊 Porcentaje de usuarios sin DNI: {porcentaje_sin_dni:.2f}%\")\n"
   ]
  },
  {
   "cell_type": "code",
   "execution_count": 7,
   "id": "d309bf16",
   "metadata": {},
   "outputs": [
    {
     "name": "stdout",
     "output_type": "stream",
     "text": [
      "📊 Porcentaje de usuarios sin DNI: 4.09%\n"
     ]
    }
   ],
   "source": [
    "\n",
    "total_usuarios = len(bici_2021)\n",
    "\n",
    "# Contar cuántos tienen \"No\" en la columna del DNI\n",
    "sin_dni = (bici_2021[\"Customer.Has.Dni..Yes...No.\"] == \"No\").sum()\n",
    "\n",
    "# Calcular el porcentaje\n",
    "porcentaje_sin_dni = (sin_dni / total_usuarios) * 100\n",
    "\n",
    "# Mostrar el resultado\n",
    "print(f\"📊 Porcentaje de usuarios sin DNI: {porcentaje_sin_dni:.2f}%\")\n"
   ]
  },
  {
   "cell_type": "code",
   "execution_count": 8,
   "id": "495b49a2",
   "metadata": {},
   "outputs": [
    {
     "name": "stdout",
     "output_type": "stream",
     "text": [
      "📊 Porcentaje de usuarios sin DNI: 6.40%\n"
     ]
    }
   ],
   "source": [
    "\n",
    "total_usuarios = len(bici_2022)\n",
    "\n",
    "# Contar cuántos tienen \"No\" en la columna del DNI\n",
    "sin_dni = (bici_2022[\"Customer.Has.Dni..Yes...No.\"] == \"No\").sum()\n",
    "\n",
    "# Calcular el porcentaje\n",
    "porcentaje_sin_dni = (sin_dni / total_usuarios) * 100\n",
    "\n",
    "# Mostrar el resultado\n",
    "print(f\"📊 Porcentaje de usuarios sin DNI: {porcentaje_sin_dni:.2f}%\")\n"
   ]
  },
  {
   "cell_type": "code",
   "execution_count": 9,
   "id": "425c0e81",
   "metadata": {},
   "outputs": [
    {
     "name": "stdout",
     "output_type": "stream",
     "text": [
      "📊 Porcentaje de usuarios sin DNI: 14.45%\n"
     ]
    }
   ],
   "source": [
    "\n",
    "total_usuarios = len(bici_2023)\n",
    "\n",
    "# Contar cuántos tienen \"No\" en la columna del DNI\n",
    "sin_dni = (bici_2023[\"Customer.Has.Dni..Yes...No.\"] == \"No\").sum()\n",
    "\n",
    "# Calcular el porcentaje\n",
    "porcentaje_sin_dni = (sin_dni / total_usuarios) * 100\n",
    "\n",
    "# Mostrar el resultado\n",
    "print(f\"📊 Porcentaje de usuarios sin DNI: {porcentaje_sin_dni:.2f}%\")\n"
   ]
  },
  {
   "cell_type": "code",
   "execution_count": 10,
   "id": "d46732e2",
   "metadata": {},
   "outputs": [
    {
     "name": "stdout",
     "output_type": "stream",
     "text": [
      "Index(['ID_usuario', 'genero_usuario', 'edad_usuario', 'fecha_alta',\n",
      "       'hora_alta', 'Customer.Has.Dni..Yes...No.'],\n",
      "      dtype='object')\n",
      "Index(['ID_usuario', 'genero_usuario', 'edad_usuario', 'fecha_alta',\n",
      "       'hora_alta', 'Customer.Has.Dni..Yes...No.'],\n",
      "      dtype='object')\n",
      "Index(['ID_usuario', 'genero_usuario', 'edad_usuario', 'fecha_alta',\n",
      "       'hora_alta', 'Customer.Has.Dni..Yes...No.'],\n",
      "      dtype='object')\n",
      "Index(['ID_usuario', 'genero_usuario', 'edad_usuario', 'fecha_alta',\n",
      "       'hora_alta', 'Customer.Has.Dni..Yes...No.'],\n",
      "      dtype='object')\n",
      "Index(['id_usuario', 'genero_usuario', 'edad_usuario', 'fecha_alta',\n",
      "       'hora_alta'],\n",
      "      dtype='object')\n"
     ]
    }
   ],
   "source": [
    "\n",
    "print(bici_2020.columns)\n",
    "print(bici_2021.columns)\n",
    "print(bici_2022.columns)\n",
    "print(bici_2023.columns)\n",
    "print(bici_2024.columns)"
   ]
  },
  {
   "cell_type": "markdown",
   "id": "3e92d583",
   "metadata": {},
   "source": [
    "año 2024 no tiene columna customer_has_dni => una feature menos , no altera nada igualmente entonces quizas quitar !"
   ]
  },
  {
   "cell_type": "markdown",
   "id": "379c144f",
   "metadata": {},
   "source": [
    "pero quizas altera si devuelven la bici o algo asi.......? a investigar, lo saque pero quzias aporta"
   ]
  },
  {
   "cell_type": "code",
   "execution_count": null,
   "id": "251fea62",
   "metadata": {},
   "outputs": [],
   "source": []
  },
  {
   "cell_type": "code",
   "execution_count": 11,
   "id": "0e915282",
   "metadata": {},
   "outputs": [],
   "source": [
    "# 1. En bici_2024_limpio, renombrar columna 'id_usuario' a 'ID_usuario' (si existe)\n",
    "if 'id_usuario' in bici_2024.columns:\n",
    "    bici_2024.rename(columns={'id_usuario': 'ID_usuario'}, inplace=True)\n",
    "bici_2024_limpio = limpiar_y_codificar_usuarios(bici_2024)\n",
    "\n",
    "# 2. En bici_2020_limpio eliminar filas sin género marcado\n",
    "bici_2020_limpio = limpiar_y_codificar_usuarios(bici_2020.drop(columns=['Customer.Has.Dni..Yes...No.']))\n",
    "\n",
    "# Filtrar filas que tengan algún género marcado (suma columna género > 0)\n",
    "mask_genero = (bici_2020_limpio['genero_MALE'] + bici_2020_limpio['genero_FEMALE'] + bici_2020_limpio['genero_OTHER']) > 0\n",
    "bici_2020_limpio = bici_2020_limpio[mask_genero]\n",
    "\n",
    "# Guardar CSVs\n",
    "bici_2020_limpio.to_csv(r'data\\usuarios\\processed\\usuarios_ecobici_2020_limpio.csv', index=False)\n",
    "bici_2021_limpio = limpiar_y_codificar_usuarios(bici_2021.drop(columns=['Customer.Has.Dni..Yes...No.']))\n",
    "bici_2021_limpio.to_csv(r'data\\usuarios\\processed\\usuarios_ecobici_2021_limpio.csv', index=False)\n",
    "bici_2022_limpio = limpiar_y_codificar_usuarios(bici_2022.drop(columns=['Customer.Has.Dni..Yes...No.']))\n",
    "bici_2022_limpio.to_csv(r'data\\usuarios\\processed\\usuarios_ecobici_2022_limpio.csv', index=False)\n",
    "bici_2023_limpio = limpiar_y_codificar_usuarios(bici_2023.drop(columns=['Customer.Has.Dni..Yes...No.']))\n",
    "bici_2023_limpio.to_csv(r'data\\usuarios\\processed\\usuarios_ecobici_2023_limpio.csv', index=False)\n",
    "bici_2024_limpio.to_csv(r'data\\usuarios\\processed\\usuarios_ecobici_2024_limpio.csv', index=False)\n"
   ]
  },
  {
   "cell_type": "code",
   "execution_count": 12,
   "id": "2033fd54",
   "metadata": {},
   "outputs": [
    {
     "name": "stdout",
     "output_type": "stream",
     "text": [
      "Index(['ID_usuario', 'edad_usuario', 'año_alta', 'mes_alta', 'dia_alta',\n",
      "       'hora_alta_h', 'hora_alta_m', 'hora_alta_s', 'genero_FEMALE',\n",
      "       'genero_MALE', 'genero_OTHER'],\n",
      "      dtype='object')\n",
      "   genero_FEMALE  genero_MALE  genero_OTHER\n",
      "0              1            0             0\n",
      "1              0            1             0\n",
      "2              0            1             0\n",
      "3              0            1             0\n",
      "4              0            0             1\n",
      "0    735944\n",
      "1    735892\n",
      "2    735873\n",
      "3    735876\n",
      "4    735952\n",
      "Name: ID_usuario, dtype: int64\n",
      "Index(['ID_usuario', 'edad_usuario', 'año_alta', 'mes_alta', 'dia_alta',\n",
      "       'hora_alta_h', 'hora_alta_m', 'hora_alta_s', 'genero_FEMALE',\n",
      "       'genero_MALE', 'genero_OTHER'],\n",
      "      dtype='object')\n",
      "   genero_FEMALE  genero_MALE  genero_OTHER\n",
      "0              1            0             0\n",
      "1              0            1             0\n",
      "2              1            0             0\n",
      "3              0            1             0\n",
      "4              0            1             0\n",
      "0    822795\n",
      "1    822777\n",
      "2    822752\n",
      "3    822764\n",
      "4    822707\n",
      "Name: ID_usuario, dtype: int64\n",
      "Index(['ID_usuario', 'edad_usuario', 'año_alta', 'mes_alta', 'dia_alta',\n",
      "       'hora_alta_h', 'hora_alta_m', 'hora_alta_s', 'genero_FEMALE',\n",
      "       'genero_MALE', 'genero_OTHER'],\n",
      "      dtype='object')\n",
      "   genero_FEMALE  genero_MALE  genero_OTHER\n",
      "0              0            1             0\n",
      "1              0            0             1\n",
      "2              0            1             0\n",
      "3              1            0             0\n",
      "4              0            1             0\n",
      "0    939755\n",
      "1    939781\n",
      "2    939836\n",
      "3    939795\n",
      "4    939659\n",
      "Name: ID_usuario, dtype: int64\n",
      "Index(['ID_usuario', 'edad_usuario', 'año_alta', 'mes_alta', 'dia_alta',\n",
      "       'hora_alta_h', 'hora_alta_m', 'hora_alta_s', 'genero_FEMALE',\n",
      "       'genero_MALE', 'genero_OTHER'],\n",
      "      dtype='object')\n",
      "   genero_FEMALE  genero_MALE  genero_OTHER\n",
      "0              0            1             0\n",
      "1              1            0             0\n",
      "2              0            0             1\n",
      "3              0            1             0\n",
      "4              0            0             1\n",
      "0    1083476\n",
      "1    1083080\n",
      "2    1083163\n",
      "3    1083435\n",
      "4    1083376\n",
      "Name: ID_usuario, dtype: int64\n",
      "Index(['ID_usuario', 'edad_usuario', 'año_alta', 'mes_alta', 'dia_alta',\n",
      "       'hora_alta_h', 'hora_alta_m', 'hora_alta_s', 'genero_FEMALE',\n",
      "       'genero_MALE', 'genero_OTHER'],\n",
      "      dtype='object')\n",
      "   genero_FEMALE  genero_MALE  genero_OTHER\n",
      "0              0            0             1\n",
      "1              1            0             0\n",
      "2              0            0             1\n",
      "3              1            0             0\n",
      "4              0            1             0\n",
      "0    1094487\n",
      "1    1097128\n",
      "2    1102901\n",
      "3    1096100\n",
      "4    1103049\n",
      "Name: ID_usuario, dtype: int64\n"
     ]
    }
   ],
   "source": [
    "data = [bici_2020_limpio, bici_2021_limpio, bici_2022_limpio, bici_2023_limpio, bici_2024_limpio]\n",
    "\n",
    "for df in data:\n",
    "    print(df.columns)\n",
    "    print(df[[\"genero_FEMALE\", \"genero_MALE\", \"genero_OTHER\"]].head())\n",
    "    print(df[\"ID_usuario\"].head())\n",
    "\n"
   ]
  },
  {
   "cell_type": "code",
   "execution_count": 14,
   "id": "2d42bd0a",
   "metadata": {},
   "outputs": [],
   "source": [
    "usuario_2015 = pd.read_csv(r'data\\new_data\\raw\\usuarios_2015.csv')\n",
    "usuario_2016 = pd.read_csv(r'data\\new_data\\raw\\usuarios_2016.csv')\n",
    "usuario_2017 = pd.read_csv(r'data\\new_data\\raw\\usuarios_2017.csv')\n",
    "usuario_2018 = pd.read_csv(r'data\\new_data\\raw\\usuarios_2018.csv')\n",
    "usuario_2019 = pd.read_csv(r'data\\new_data\\raw\\usuarios_2019.csv')\n"
   ]
  },
  {
   "cell_type": "code",
   "execution_count": 15,
   "id": "4ae67cf3",
   "metadata": {},
   "outputs": [
    {
     "name": "stdout",
     "output_type": "stream",
     "text": [
      "ID_usuario          0\n",
      "genero_usuario    857\n",
      "edad_usuario      765\n",
      "fecha_alta          0\n",
      "hora_alta           0\n",
      "dtype: int64\n"
     ]
    }
   ],
   "source": [
    "print(usuario_2019.isnull().sum())\n",
    "\n"
   ]
  },
  {
   "cell_type": "code",
   "execution_count": 17,
   "id": "26fdcc76",
   "metadata": {},
   "outputs": [],
   "source": [
    "usuario_2015.fillna({'genero_usuario': 'OTHER'}, inplace=True)\n",
    "usuario_2019.fillna({'genero_usuario': 'OTHER', 'edad_usuario': 0}, inplace=True)\n",
    "\n",
    "usuario_2015_cast = usuario_2015.astype({\"genero_usuario\": str, \"fecha_alta\": str, \"hora_alta\": str})\n",
    "usuario_2016_cast = usuario_2016.astype({\"genero_usuario\": str, \"fecha_alta\": str, \"hora_alta\": str})\n",
    "usuario_2017_cast = usuario_2017.astype({\"genero_usuario\": str, \"fecha_alta\": str, \"hora_alta\": str})\n",
    "usuario_2018_cast = usuario_2018.astype({\"genero_usuario\": str, \"fecha_alta\": str, \"hora_alta\": str})\n",
    "usuario_2019_cast = usuario_2019.astype({\"ID_usuario\": str,\"fecha_alta\": str, \"hora_alta\": str, \"edad_usuario\":int})\n",
    "#que para cada fila que en la columna genero_usuario diga \"male\" diga M, \"other = o \" y female = f\n",
    "usuario_2015_cast['genero_usuario'] = usuario_2015_cast['genero_usuario'].replace({\"O\": \"OTHER\", \"F\": \"FEMALE\", \"M\": \"MALE\"})\n",
    "usuario_2016_cast['genero_usuario'] = usuario_2016_cast['genero_usuario'].replace({\"O\": \"OTHER\", \"F\": \"FEMALE\", \"M\": \"MALE\"})\n",
    "usuario_2017_cast['genero_usuario'] = usuario_2017_cast['genero_usuario'].replace({\"O\": \"OTHER\", \"F\": \"FEMALE\", \"M\": \"MALE\"})\n",
    "usuario_2018_cast['genero_usuario'] = usuario_2018_cast['genero_usuario'].replace({\"O\": \"OTHER\", \"F\": \"FEMALE\", \"M\": \"MALE\"})"
   ]
  },
  {
   "cell_type": "code",
   "execution_count": 18,
   "id": "df0463af",
   "metadata": {},
   "outputs": [],
   "source": [
    "limpiar_y_codificar_usuarios(usuario_2015_cast, es = True).to_csv(r'data\\new_data\\processed\\usuarios_ecobici_2015_limpio.csv', index=False)\n",
    "limpiar_y_codificar_usuarios(usuario_2016_cast, es = True).to_csv(r'data\\new_data\\processed\\usuarios_ecobici_2016_limpio.csv', index=False)\n",
    "limpiar_y_codificar_usuarios(usuario_2017_cast, es = True).to_csv(r'data\\new_data\\processed\\usuarios_ecobici_2017_limpio.csv', index=False)\n",
    "limpiar_y_codificar_usuarios(usuario_2018_cast, es = True).to_csv(r'data\\new_data\\processed\\usuarios_ecobici_2018_limpio.csv', index=False)\n",
    "limpiar_y_codificar_usuarios(usuario_2019_cast).to_csv(r'data\\new_data\\processed\\usuarios_ecobici_2019_limpio.csv', index=False)"
   ]
  }
 ],
 "metadata": {
  "kernelspec": {
   "display_name": "Python 3",
   "language": "python",
   "name": "python3"
  },
  "language_info": {
   "codemirror_mode": {
    "name": "ipython",
    "version": 3
   },
   "file_extension": ".py",
   "mimetype": "text/x-python",
   "name": "python",
   "nbconvert_exporter": "python",
   "pygments_lexer": "ipython3",
   "version": "3.11.2"
  }
 },
 "nbformat": 4,
 "nbformat_minor": 5
}
