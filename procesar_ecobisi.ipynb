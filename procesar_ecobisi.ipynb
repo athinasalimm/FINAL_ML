{
 "cells": [
  {
   "cell_type": "code",
   "execution_count": 16,
   "id": "2aff6542",
   "metadata": {},
   "outputs": [
    {
     "name": "stdout",
     "output_type": "stream",
     "text": [
      "The autoreload extension is already loaded. To reload it, use:\n",
      "  %reload_ext autoreload\n"
     ]
    }
   ],
   "source": [
    "%load_ext autoreload\n",
    "%autoreload 2"
   ]
  },
  {
   "cell_type": "code",
   "execution_count": 17,
   "id": "5f3d322d",
   "metadata": {},
   "outputs": [],
   "source": [
    "import pandas as pd \n",
    "import numpy as np"
   ]
  },
  {
   "cell_type": "code",
   "execution_count": 18,
   "id": "1053a964",
   "metadata": {},
   "outputs": [],
   "source": [
    "from src.utils_usuario import limpiar_y_codificar_usuarios"
   ]
  },
  {
   "cell_type": "code",
   "execution_count": 19,
   "id": "fca3f9d9",
   "metadata": {},
   "outputs": [],
   "source": [
    "bici_2020 = pd.read_csv(r'data\\usuarios\\raw\\usuarios_ecobici_2020.csv', dtype={\"edad_usuario\": str})\n",
    "bici_2021 = pd.read_csv(r'data\\usuarios\\raw\\usuarios_ecobici_2021.csv', dtype={\"edad_usuario\": str})\n",
    "bici_2022 = pd.read_csv(r'data\\usuarios\\raw\\usuarios_ecobici_2022.csv', dtype={\"edad_usuario\": str})\n",
    "bici_2023 = pd.read_csv(r'data\\usuarios\\raw\\usuarios_ecobici_2023.csv',dtype={\"edad_usuario\": str})\n",
    "bici_2024 = pd.read_csv(r'data\\usuarios\\raw\\usuarios_ecobici_2024.csv', dtype={\"edad_usuario\": str})"
   ]
  },
  {
   "cell_type": "code",
   "execution_count": 20,
   "id": "0aade66e",
   "metadata": {},
   "outputs": [
    {
     "name": "stdout",
     "output_type": "stream",
     "text": [
      "📊 Porcentaje de usuarios sin DNI: 26.37%\n"
     ]
    }
   ],
   "source": [
    "\n",
    "total_usuarios = len(bici_2020)\n",
    "\n",
    "# Contar cuántos tienen \"No\" en la columna del DNI\n",
    "sin_dni = (bici_2020[\"Customer.Has.Dni..Yes...No.\"] == \"No\").sum()\n",
    "\n",
    "# Calcular el porcentaje\n",
    "porcentaje_sin_dni = (sin_dni / total_usuarios) * 100\n",
    "\n",
    "# Mostrar el resultado\n",
    "print(f\"📊 Porcentaje de usuarios sin DNI: {porcentaje_sin_dni:.2f}%\")\n"
   ]
  },
  {
   "cell_type": "code",
   "execution_count": 21,
   "id": "d309bf16",
   "metadata": {},
   "outputs": [
    {
     "name": "stdout",
     "output_type": "stream",
     "text": [
      "📊 Porcentaje de usuarios sin DNI: 4.09%\n"
     ]
    }
   ],
   "source": [
    "\n",
    "total_usuarios = len(bici_2021)\n",
    "\n",
    "# Contar cuántos tienen \"No\" en la columna del DNI\n",
    "sin_dni = (bici_2021[\"Customer.Has.Dni..Yes...No.\"] == \"No\").sum()\n",
    "\n",
    "# Calcular el porcentaje\n",
    "porcentaje_sin_dni = (sin_dni / total_usuarios) * 100\n",
    "\n",
    "# Mostrar el resultado\n",
    "print(f\"📊 Porcentaje de usuarios sin DNI: {porcentaje_sin_dni:.2f}%\")\n"
   ]
  },
  {
   "cell_type": "code",
   "execution_count": 22,
   "id": "495b49a2",
   "metadata": {},
   "outputs": [
    {
     "name": "stdout",
     "output_type": "stream",
     "text": [
      "📊 Porcentaje de usuarios sin DNI: 6.40%\n"
     ]
    }
   ],
   "source": [
    "\n",
    "total_usuarios = len(bici_2022)\n",
    "\n",
    "# Contar cuántos tienen \"No\" en la columna del DNI\n",
    "sin_dni = (bici_2022[\"Customer.Has.Dni..Yes...No.\"] == \"No\").sum()\n",
    "\n",
    "# Calcular el porcentaje\n",
    "porcentaje_sin_dni = (sin_dni / total_usuarios) * 100\n",
    "\n",
    "# Mostrar el resultado\n",
    "print(f\"📊 Porcentaje de usuarios sin DNI: {porcentaje_sin_dni:.2f}%\")\n"
   ]
  },
  {
   "cell_type": "code",
   "execution_count": 23,
   "id": "425c0e81",
   "metadata": {},
   "outputs": [
    {
     "name": "stdout",
     "output_type": "stream",
     "text": [
      "📊 Porcentaje de usuarios sin DNI: 14.45%\n"
     ]
    }
   ],
   "source": [
    "\n",
    "total_usuarios = len(bici_2023)\n",
    "\n",
    "# Contar cuántos tienen \"No\" en la columna del DNI\n",
    "sin_dni = (bici_2023[\"Customer.Has.Dni..Yes...No.\"] == \"No\").sum()\n",
    "\n",
    "# Calcular el porcentaje\n",
    "porcentaje_sin_dni = (sin_dni / total_usuarios) * 100\n",
    "\n",
    "# Mostrar el resultado\n",
    "print(f\"📊 Porcentaje de usuarios sin DNI: {porcentaje_sin_dni:.2f}%\")\n"
   ]
  },
  {
   "cell_type": "code",
   "execution_count": 24,
   "id": "d46732e2",
   "metadata": {},
   "outputs": [
    {
     "name": "stdout",
     "output_type": "stream",
     "text": [
      "Index(['ID_usuario', 'genero_usuario', 'edad_usuario', 'fecha_alta',\n",
      "       'hora_alta', 'Customer.Has.Dni..Yes...No.'],\n",
      "      dtype='object')\n",
      "Index(['ID_usuario', 'genero_usuario', 'edad_usuario', 'fecha_alta',\n",
      "       'hora_alta', 'Customer.Has.Dni..Yes...No.'],\n",
      "      dtype='object')\n",
      "Index(['ID_usuario', 'genero_usuario', 'edad_usuario', 'fecha_alta',\n",
      "       'hora_alta', 'Customer.Has.Dni..Yes...No.'],\n",
      "      dtype='object')\n",
      "Index(['ID_usuario', 'genero_usuario', 'edad_usuario', 'fecha_alta',\n",
      "       'hora_alta', 'Customer.Has.Dni..Yes...No.'],\n",
      "      dtype='object')\n",
      "Index(['id_usuario', 'genero_usuario', 'edad_usuario', 'fecha_alta',\n",
      "       'hora_alta'],\n",
      "      dtype='object')\n"
     ]
    }
   ],
   "source": [
    "\n",
    "print(bici_2020.columns)\n",
    "print(bici_2021.columns)\n",
    "print(bici_2022.columns)\n",
    "print(bici_2023.columns)\n",
    "print(bici_2024.columns)"
   ]
  },
  {
   "cell_type": "markdown",
   "id": "3e92d583",
   "metadata": {},
   "source": [
    "año 2024 no tiene columna customer_has_dni => una feature menos , no altera nada igualmente entonces quizas quitar !"
   ]
  },
  {
   "cell_type": "markdown",
   "id": "379c144f",
   "metadata": {},
   "source": [
    "pero quizas altera si devuelven la bici o algo asi.......? a investigar, lo saque pero quzias aporta"
   ]
  },
  {
   "cell_type": "code",
   "execution_count": 25,
   "id": "0e915282",
   "metadata": {},
   "outputs": [],
   "source": [
    "bici_2020_limpio = limpiar_y_codificar_usuarios(bici_2020.drop(columns=['Customer.Has.Dni..Yes...No.']))\n",
    "salida_2020 = bici_2020_limpio.to_csv(r'data\\usuarios\\processed\\usuarios_ecobici_2020_limpio.csv', index=False)\n",
    "\n",
    "bici_2021_limpio = limpiar_y_codificar_usuarios(bici_2021.drop(columns=['Customer.Has.Dni..Yes...No.']))\n",
    "salida_2021 = bici_2021_limpio.to_csv(r'data\\usuarios\\processed\\usuarios_ecobici_2021_limpio.csv', index=False)\n",
    "\n",
    "bici_2022_limpio = limpiar_y_codificar_usuarios(bici_2022.drop(columns=['Customer.Has.Dni..Yes...No.']))\n",
    "salida_2022 = bici_2022_limpio.to_csv(r'data\\usuarios\\processed\\usuarios_ecobici_2022_limpio.csv', index=False)\n",
    "\n",
    "bici_2023_limpio = limpiar_y_codificar_usuarios(bici_2023.drop(columns=['Customer.Has.Dni..Yes...No.']))\n",
    "salida_2023 = bici_2023_limpio.to_csv(r'data\\usuarios\\processed\\usuarios_ecobici_2023_limpio.csv', index=False)\n",
    "\n",
    "bici_2024_limpio = limpiar_y_codificar_usuarios(bici_2024)\n",
    "salida_2024 = bici_2024_limpio.to_csv(r'data\\usuarios\\processed\\usuarios_ecobici_2024_limpio.csv', index=False)"
   ]
  }
 ],
 "metadata": {
  "kernelspec": {
   "display_name": "Python 3",
   "language": "python",
   "name": "python3"
  },
  "language_info": {
   "codemirror_mode": {
    "name": "ipython",
    "version": 3
   },
   "file_extension": ".py",
   "mimetype": "text/x-python",
   "name": "python",
   "nbconvert_exporter": "python",
   "pygments_lexer": "ipython3",
   "version": "3.11.2"
  }
 },
 "nbformat": 4,
 "nbformat_minor": 5
}
