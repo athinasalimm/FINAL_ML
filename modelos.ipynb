{
 "cells": [
  {
   "cell_type": "code",
   "execution_count": 1,
   "id": "810f7e26",
   "metadata": {},
   "outputs": [],
   "source": [
    "%load_ext autoreload\n",
    "%autoreload 2"
   ]
  },
  {
   "cell_type": "code",
   "execution_count": null,
   "id": "670fd8e0",
   "metadata": {},
   "outputs": [],
   "source": [
    "import pandas as pd\n",
    "import numpy as np\n",
    "from sklearn.preprocessing import StandardScaler\n",
    "from src.utilsgru import crear_ventanas_temporales, train_model\n",
    "from models.gru import GRUModel\n",
    "from models.gru import GRUDataset\n",
    "from torch.utils.data import DataLoader"
   ]
  },
  {
   "cell_type": "code",
   "execution_count": null,
   "id": "3586a38b",
   "metadata": {},
   "outputs": [],
   "source": [
    "df = pd.read_csv(\"data/modelado/ds_modelado.csv\")\n",
    "\n",
    "# Posible separacion ene l dataset modelado, no aparece de forma clara las fechaas, quizas interpreta mal\n",
    "df[\"estacion_del_anio\"] = df[\"estacion_del_anio\"].str.lower()\n",
    "df[\"fecha_origen_recorrido\"] = pd.to_datetime(df[\"fecha_origen_recorrido\"])\n",
    "df[\"anio\"] = df[\"fecha_origen_recorrido\"].dt.year\n",
    "\n",
    "# Filtrar por verano únicamente\n",
    "df_verano = df[df[\"estacion_del_anio\"] == \"verano\"].copy()\n"
   ]
  },
  {
   "cell_type": "code",
   "execution_count": null,
   "id": "13737685",
   "metadata": {},
   "outputs": [],
   "source": [
    "#separo en train y val\n",
    "df_train = df_verano[df_verano[\"anio\"].between(2020, 2023)]\n",
    "df_test = df_verano[df_verano[\"anio\"] == 2024] #o sea de primero de enero hasta 21 marzo "
   ]
  },
  {
   "cell_type": "code",
   "execution_count": null,
   "id": "f595c8d6",
   "metadata": {},
   "outputs": [],
   "source": [
    "features = [col for col in df.columns if col not in [\"N_arribos_intervalo\", \"anio\"]] #todas menos el target y el año (el )\n",
    "target = \"N_arribos_intervalo\""
   ]
  },
  {
   "cell_type": "code",
   "execution_count": null,
   "id": "8c8df67a",
   "metadata": {},
   "outputs": [],
   "source": [
    "#paso todo a \n",
    "scaler = StandardScaler()\n",
    "\n",
    "X_train_scaled = scaler.fit_transform(df_train[features])\n",
    "y_train = df_train[target].values\n",
    "\n",
    "X_test_scaled = scaler.transform(df_test[features])\n",
    "y_val = df_test[target].values\n",
    "\n",
    "ventana = 6 #la ventana temporal de tamanio 6. para predecir el valor instante t entonces usas t - 6, t - 5, ..., t - 1\n",
    "X_train_seq, y_train_seq = crear_ventanas_temporales(X_train_scaled, y_train, ventana)\n",
    "X_test_seq, y_test_seq = crear_ventanas_temporales(X_test_scaled, y_val, ventana)\n"
   ]
  },
  {
   "cell_type": "code",
   "execution_count": null,
   "id": "ad00ea7c",
   "metadata": {},
   "outputs": [],
   "source": [
    "train_dataset = GRUDataset(X_train_seq, y_train_seq)\n",
    "test_dataset = GRUDataset(X_test_seq, y_test_seq)\n",
    "\n",
    "train_loader = DataLoader(train_dataset, batch_size=64, shuffle=True)\n",
    "test_loader = DataLoader(test_dataset, batch_size=64, shuffle=False)\n",
    "\n",
    "# Entrenar el modelo\n",
    "model = GRUModel(input_dim=X_train_seq.shape[2], hidden_dim=64)\n",
    "train_model(model, train_loader, test_loader, epochs=10, lr=0.001)"
   ]
  }
 ],
 "metadata": {
  "kernelspec": {
   "display_name": "Python 3",
   "language": "python",
   "name": "python3"
  },
  "language_info": {
   "codemirror_mode": {
    "name": "ipython",
    "version": 3
   },
   "file_extension": ".py",
   "mimetype": "text/x-python",
   "name": "python",
   "nbconvert_exporter": "python",
   "pygments_lexer": "ipython3",
   "version": "3.11.9"
  }
 },
 "nbformat": 4,
 "nbformat_minor": 5
}
