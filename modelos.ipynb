{
 "cells": [
  {
   "cell_type": "code",
   "execution_count": 3,
   "id": "810f7e26",
   "metadata": {},
   "outputs": [],
   "source": [
    "%load_ext autoreload\n",
    "%autoreload 2"
   ]
  },
  {
   "cell_type": "code",
   "execution_count": 4,
   "id": "670fd8e0",
   "metadata": {},
   "outputs": [],
   "source": [
    "import pandas as pd\n",
    "import numpy as np\n",
    "from sklearn.preprocessing import StandardScaler\n",
    "from sklearn.model_selection import train_test_split\n",
    "from src.utilsgru import crear_ventanas_temporales, train_model, train_model_earlystop, crear_features_con_lags, train_mlp_model\n",
    "from models.gru import GRUModel, GRUDataset\n",
    "from torch.utils.data import DataLoader"
   ]
  },
  {
   "cell_type": "code",
   "execution_count": 5,
   "id": "3586a38b",
   "metadata": {},
   "outputs": [],
   "source": [
    "df = pd.read_csv(\"data/modelado/ds_modelado.csv\")\n",
    "df_verano = df[df[\"estacion_del_anio\"] == 1].copy()"
   ]
  },
  {
   "cell_type": "code",
   "execution_count": 6,
   "id": "d4cd702e",
   "metadata": {},
   "outputs": [],
   "source": [
    "target =  \"N_arribos_intervalo\"\n",
    "cols_a_excluir = [\n",
    "    \"N_arribos_intervalo\",\n",
    "    \"id_recorrido\",\n",
    "    \"id_usuario\",\n",
    "    \"id_estacion_destino\",  # borre cosas de destino porq siento q son leakage onda el modelo puede adivinar\n",
    "    \"barrio_destino\",\n",
    "    \"zona_destino_cluster\",\n",
    "    \"cantidad_estaciones_cercanas_destino\",\n",
    "    \"año_destino\", \"mes_destino\", \"dia_destino\",\n",
    "    \"hora_destino\", \"minuto_destino\", \"segundo_destino\",\n",
    "    \"duracion_recorrido\"\n",
    "]\n",
    "features = [col for col in df_verano.columns if col not in cols_a_excluir]"
   ]
  },
  {
   "cell_type": "code",
   "execution_count": 7,
   "id": "ef553bb2",
   "metadata": {},
   "outputs": [],
   "source": [
    "df_train, df_val = train_test_split(\n",
    "    df_verano,\n",
    "    test_size=0.2,\n",
    "    random_state=42,\n",
    "    stratify=df_verano[\"año_intervalo\"]\n",
    ")"
   ]
  },
  {
   "cell_type": "code",
   "execution_count": 8,
   "id": "8c8df67a",
   "metadata": {},
   "outputs": [],
   "source": [
    "# Escalar features X\n",
    "scaler_X = StandardScaler()\n",
    "X_train_scaled = scaler_X.fit_transform(df_train[features])\n",
    "X_val_scaled = scaler_X.transform(df_val[features])\n"
   ]
  },
  {
   "cell_type": "code",
   "execution_count": 9,
   "id": "b4c33bb3",
   "metadata": {},
   "outputs": [],
   "source": [
    "# Target sin escalar todavía\n",
    "y_train = df_train[target].values\n",
    "y_val = df_val[target].values"
   ]
  },
  {
   "cell_type": "markdown",
   "id": "d2360646",
   "metadata": {},
   "source": [
    "GRU (no funciona bien pero bueno I tried)"
   ]
  },
  {
   "cell_type": "code",
   "execution_count": 10,
   "id": "570ddf17",
   "metadata": {},
   "outputs": [],
   "source": [
    "ventana = 6\n",
    "X_train_seq, y_train_seq = crear_ventanas_temporales(X_train_scaled, y_train, ventana)\n",
    "X_val_seq, y_val_seq = crear_ventanas_temporales(X_val_scaled, y_val, ventana)"
   ]
  },
  {
   "cell_type": "code",
   "execution_count": 11,
   "id": "12bb36af",
   "metadata": {},
   "outputs": [
    {
     "name": "stdout",
     "output_type": "stream",
     "text": [
      "X_train_seq shape: (3053484, 6, 27)\n",
      "y_train_seq shape: (3053484,)\n",
      "Primeros valores y_train_seq: [3 1 3 1 1]\n"
     ]
    }
   ],
   "source": [
    "print(f\"X_train_seq shape: {X_train_seq.shape}\")\n",
    "print(f\"y_train_seq shape: {y_train_seq.shape}\")\n",
    "print(f\"Primeros valores y_train_seq: {y_train_seq[:5]}\")"
   ]
  },
  {
   "cell_type": "code",
   "execution_count": 12,
   "id": "1d4939d0",
   "metadata": {},
   "outputs": [],
   "source": [
    "# Dataset y DataLoader con target escalado\n",
    "train_dataset = GRUDataset(X_train_seq, y_train_seq )\n",
    "val_dataset = GRUDataset(X_val_seq, y_val_seq)\n",
    "\n",
    "train_loader = DataLoader(train_dataset, batch_size=64, shuffle=True, num_workers=0, pin_memory=True)\n",
    "val_loader = DataLoader(val_dataset, batch_size=64, shuffle=False, num_workers=0, pin_memory=True)\n"
   ]
  },
  {
   "cell_type": "code",
   "execution_count": 13,
   "id": "a2918840",
   "metadata": {},
   "outputs": [
    {
     "name": "stdout",
     "output_type": "stream",
     "text": [
      "3053484\n",
      "(3053484, 6, 27)\n"
     ]
    }
   ],
   "source": [
    "# Instanciar modelo\n",
    "model = GRUModel(input_dim=X_train_seq.shape[2], hidden_dim=128, num_layers=3)\n",
    "\n",
    "print(len(train_dataset))\n",
    "print(X_train_seq.shape)\n"
   ]
  },
  {
   "cell_type": "code",
   "execution_count": 14,
   "id": "f9f514e0",
   "metadata": {},
   "outputs": [],
   "source": [
    "# Finalmente entrenamos con la función que soporta el desescalado\n",
    "#train_model(model, train_loader, val_loader, epochs=5, lr=0.001, scaler_y=scaler_y)"
   ]
  },
  {
   "cell_type": "code",
   "execution_count": 15,
   "id": "74eed964",
   "metadata": {},
   "outputs": [],
   "source": [
    "#train_model_earlystop(model, train_loader, val_loader, epochs=5, lr=0.001)"
   ]
  },
  {
   "cell_type": "code",
   "execution_count": 16,
   "id": "fa068bc3",
   "metadata": {},
   "outputs": [
    {
     "name": "stdout",
     "output_type": "stream",
     "text": [
      "Shape X_train_lag: (3053484, 162)\n"
     ]
    }
   ],
   "source": [
    "X_train_lag, y_train_lag = crear_features_con_lags(X_train_scaled, y_train, ventana)\n",
    "X_val_lag, y_val_lag = crear_features_con_lags(X_val_scaled, y_val, ventana)\n",
    "print(\"Shape X_train_lag:\", X_train_lag.shape)\n"
   ]
  },
  {
   "cell_type": "code",
   "execution_count": 17,
   "id": "47b9d2cb",
   "metadata": {},
   "outputs": [],
   "source": [
    "# Escalar el target de las ventanas con lag\n",
    "scaler_y = StandardScaler()\n",
    "y_train_lag_scaled = scaler_y.fit_transform(y_train_lag.reshape(-1, 1)).flatten()\n",
    "y_val_lag_scaled = scaler_y.transform(y_val_lag.reshape(-1, 1)).flatten()"
   ]
  },
  {
   "cell_type": "code",
   "execution_count": 18,
   "id": "89444002",
   "metadata": {},
   "outputs": [],
   "source": [
    "#model = train_mlp_model(X_train_lag, y_train_lag_scaled, X_val_lag, y_val_lag_scaled, input_dim=X_train_lag.shape[1],scaler_y=scaler_y)\n"
   ]
  },
  {
   "cell_type": "code",
   "execution_count": 19,
   "id": "46546be4",
   "metadata": {},
   "outputs": [
    {
     "name": "stdout",
     "output_type": "stream",
     "text": [
      "MAE: 1.4578143795824337\n",
      "R2: -0.005774668254849402\n"
     ]
    }
   ],
   "source": [
    "from sklearn.ensemble import RandomForestRegressor\n",
    "from sklearn.metrics import mean_absolute_error, r2_score\n",
    "\n",
    "from sklearn.ensemble import RandomForestRegressor\n",
    "\n",
    "rf = RandomForestRegressor(\n",
    "    n_estimators=20,     # menos árboles para entrenar rápido\n",
    "    max_depth=15,        # profundidad limitada\n",
    "    random_state=42,\n",
    "    n_jobs=-1            # usa todos los cores disponibles\n",
    ")\n",
    "rf.fit(X_train_lag[:500000], y_train_lag[:500000])  # tomar 500k filas para prototipar\n",
    "\n",
    "y_pred = rf.predict(X_val_lag)\n",
    "\n",
    "print(\"MAE:\", mean_absolute_error(y_val_lag, y_pred))\n",
    "print(\"R2:\", r2_score(y_val_lag, y_pred))"
   ]
  }
 ],
 "metadata": {
  "kernelspec": {
   "display_name": "Python 3",
   "language": "python",
   "name": "python3"
  },
  "language_info": {
   "codemirror_mode": {
    "name": "ipython",
    "version": 3
   },
   "file_extension": ".py",
   "mimetype": "text/x-python",
   "name": "python",
   "nbconvert_exporter": "python",
   "pygments_lexer": "ipython3",
   "version": "3.11.9"
  }
 },
 "nbformat": 4,
 "nbformat_minor": 5
}
