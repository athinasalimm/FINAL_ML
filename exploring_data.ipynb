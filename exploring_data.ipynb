{
 "cells": [
  {
   "cell_type": "markdown",
   "id": "6eeb4aad",
   "metadata": {},
   "source": [
    "# La consigna decia que podiamos poner tantos notebooks como nos parezca, quizas podemos hacer uno sobre los datos, como preprocesamos etc y otro sobre los modelos?? ni idea, desp vemos que formato nos copa, x ahora le puse este nombre al archivo pero desp cambiamos segun nos parezca"
   ]
  },
  {
   "cell_type": "code",
   "execution_count": 12,
   "id": "36151141",
   "metadata": {},
   "outputs": [],
   "source": [
    "%load_ext autoreload\n",
    "%autoreload 2"
   ]
  },
  {
   "cell_type": "code",
   "execution_count": 2,
   "id": "8b8f8247",
   "metadata": {},
   "outputs": [],
   "source": [
    "import pandas as pd\n",
    "from src.utils import filtrar_meses, verificar_columnas_y_tipos, estandarizar_nombres_columnas\n",
    "from src.utils import funciones "
   ]
  },
  {
   "cell_type": "code",
   "execution_count": 3,
   "id": "76dc13c7",
   "metadata": {},
   "outputs": [
    {
     "name": "stdout",
     "output_type": "stream",
     "text": [
      "Se eliminaron 1649832 filas.\n",
      "Se eliminaron 92 filas.\n"
     ]
    }
   ],
   "source": [
    "ruta_24 = \"data/recorridos/raw/trips_2024.csv\"\n",
    "data_24 = pd.read_csv(ruta_24)\n",
    "meses_a_eliminar = [8, 9, 10, 11, 12]\n",
    "data_pr_24_a, filas_eliminadas_a = filtrar_meses(data_24, \"fecha_origen_recorrido\", meses_a_eliminar)\n",
    "print(f\"Se eliminaron {filas_eliminadas_a} filas.\")\n",
    "data_pr_24, filas_eliminadas = filtrar_meses(data_pr_24_a, \"fecha_destino_recorrido\", meses_a_eliminar)\n",
    "print(f\"Se eliminaron {filas_eliminadas} filas.\")\n",
    "ruta_salida = \"data/recorridos/processed/trips_2024_pr.csv\"\n",
    "data_pr_24.to_csv(ruta_salida, index=False) #elimina los viajes que arrnacaron desde agosto en adelante y tambien aquellos terminados en agosto \n",
    "#(ejemplo uno q arranco la ultima noche del mes de julio y termino en agosto) Es correcto?? o deberiamos quedarnos con esos??"
   ]
  },
  {
   "cell_type": "code",
   "execution_count": 4,
   "id": "d6ef6257",
   "metadata": {},
   "outputs": [
    {
     "name": "stderr",
     "output_type": "stream",
     "text": [
      "C:\\Users\\Catalina\\AppData\\Local\\Temp\\ipykernel_15144\\2246478468.py:5: DtypeWarning: Columns (17,18) have mixed types. Specify dtype option on import or set low_memory=False.\n",
      "  df_2021 = pd.read_csv(\"data/recorridos/raw/trips_2021.csv\", index_col=0)\n"
     ]
    }
   ],
   "source": [
    "df_2020 = pd.read_csv(\"data/recorridos/raw/trips_2020.csv\", index_col=0)\n",
    "df_2020 = df_2020.reset_index(drop=True)\n",
    "df_2020.to_csv(\"data/recorridos/processed/trips_2020_pr.csv\", index=False)\n",
    "\n",
    "df_2021 = pd.read_csv(\"data/recorridos/raw/trips_2021.csv\", index_col=0)\n",
    "df_2021 = df_2021.drop(columns=[col for col in ['Género'] if col in df_2021.columns])\n",
    "df_2021 = df_2021.reset_index(drop=True)\n",
    "df_2021.to_csv(\"data/recorridos/processed/trips_2021_pr.csv\", index=False)\n",
    "\n",
    "df_2022 = pd.read_csv(\"data/recorridos/raw/trips_2022.csv\", index_col=0)\n",
    "df_2022 = df_2022.drop(columns=[col for col in ['X'] if col in df_2022.columns])\n",
    "df_2022 = df_2022.reset_index(drop=True)\n",
    "df_2022.to_csv(\"data/recorridos/processed/trips_2022_pr.csv\", index=False)\n",
    "\n",
    "df_2023 = pd.read_csv(\"data/recorridos/raw/trips_2023.csv\", index_col=0)\n",
    "df_2023 = df_2023.reset_index(drop=True)\n",
    "df_2023.to_csv(\"data/recorridos/processed/trips_2023_pr.csv\", index=False)"
   ]
  },
  {
   "cell_type": "code",
   "execution_count": 3,
   "id": "8f62c368",
   "metadata": {},
   "outputs": [
    {
     "name": "stdout",
     "output_type": "stream",
     "text": [
      "No se encontraron columnas para renombrar en data/recorridos/processed/trips_2020_pr.csv.\n"
     ]
    },
    {
     "name": "stderr",
     "output_type": "stream",
     "text": [
      "/Users/athinasalim/Desktop/Machine/FINAL_ML/src/utils.py:57: DtypeWarning: Columns (16) have mixed types. Specify dtype option on import or set low_memory=False.\n",
      "  df = pd.read_csv(archivo)\n"
     ]
    },
    {
     "name": "stdout",
     "output_type": "stream",
     "text": [
      "No se encontraron columnas para renombrar en data/recorridos/processed/trips_2021_pr.csv.\n",
      "No se encontraron columnas para renombrar en data/recorridos/processed/trips_2022_pr.csv.\n",
      "No se encontraron columnas para renombrar en data/recorridos/processed/trips_2023_pr.csv.\n",
      "No se encontraron columnas para renombrar en data/recorridos/processed/trips_2024_pr.csv.\n",
      "Procesando año 2020...\n",
      "Procesando año 2021...\n"
     ]
    },
    {
     "name": "stderr",
     "output_type": "stream",
     "text": [
      "/var/folders/6y/f0qlfq094gx2tt5rz2y_xphm0000gn/T/ipykernel_64859/3599240414.py:20: DtypeWarning: Columns (16) have mixed types. Specify dtype option on import or set low_memory=False.\n",
      "  df = pd.read_csv(ruta)\n"
     ]
    },
    {
     "name": "stdout",
     "output_type": "stream",
     "text": [
      "Procesando año 2022...\n",
      "Procesando año 2023...\n"
     ]
    },
    {
     "name": "stderr",
     "output_type": "stream",
     "text": [
      "/Users/athinasalim/Desktop/Machine/FINAL_ML/src/utils.py:15: DtypeWarning: Columns (16) have mixed types. Specify dtype option on import or set low_memory=False.\n",
      "  df = pd.read_csv(archivo)\n"
     ]
    },
    {
     "name": "stdout",
     "output_type": "stream",
     "text": [
      "\n",
      "Usando 'data/recorridos/processed/trips_2024_pr.csv' como referencia.\n",
      "\n",
      "Verificando: data/recorridos/processed/trips_2020_pr.csv\n",
      "✅ Columnas iguales.\n",
      "✅ Tipos de datos iguales.\n",
      "----------------------------------------\n",
      "Verificando: data/recorridos/processed/trips_2021_pr.csv\n",
      "✅ Columnas iguales.\n",
      "✅ Tipos de datos iguales.\n",
      "----------------------------------------\n",
      "Verificando: data/recorridos/processed/trips_2022_pr.csv\n",
      "✅ Columnas iguales.\n",
      "✅ Tipos de datos iguales.\n",
      "----------------------------------------\n",
      "Verificando: data/recorridos/processed/trips_2023_pr.csv\n",
      "✅ Columnas iguales.\n",
      "✅ Tipos de datos iguales.\n",
      "----------------------------------------\n",
      "Verificando: data/recorridos/processed/trips_2024_pr.csv\n",
      "✅ Columnas iguales.\n",
      "✅ Tipos de datos iguales.\n",
      "----------------------------------------\n"
     ]
    }
   ],
   "source": [
    "archivos = [\n",
    "    \"data/recorridos/processed/trips_2020_pr.csv\",\n",
    "    \"data/recorridos/processed/trips_2021_pr.csv\",\n",
    "    \"data/recorridos/processed/trips_2022_pr.csv\",\n",
    "    \"data/recorridos/processed/trips_2023_pr.csv\",\n",
    "    \"data/recorridos/processed/trips_2024_pr.csv\",\n",
    "]\n",
    "estandarizar_nombres_columnas(archivos)\n",
    "anios = [2020, 2021, 2022, 2023]\n",
    "\n",
    "for anio in [2020, 2023]:\n",
    "    ruta = f\"data/recorridos/processed/trips_{anio}_pr.csv\"\n",
    "    df = pd.read_csv(ruta)\n",
    "    df = df.dropna()\n",
    "    df.to_csv(ruta, index=False)\n",
    "\n",
    "for anio in anios:\n",
    "    print(f\"Procesando año {anio}...\")\n",
    "    ruta = f\"data/recorridos/processed/trips_{anio}_pr.csv\"\n",
    "    df = pd.read_csv(ruta)\n",
    "    df_limpio = funciones[str(anio)](df)\n",
    "    df_limpio.to_csv(ruta, index=False)\n",
    "\n",
    "verificar_columnas_y_tipos(archivos)\n"
   ]
  },
  {
   "cell_type": "markdown",
   "id": "d692702c",
   "metadata": {},
   "source": [
    "# Armado dataset"
   ]
  },
  {
   "cell_type": "code",
   "execution_count": 13,
   "id": "17a115f7",
   "metadata": {},
   "outputs": [],
   "source": [
    "from modeling import construir_dataset_modelado\n",
    "\n",
    "df_viajes_2020 = pd.read_csv(\"data/recorridos/processed/trips_2020_pr.csv\")\n",
    "df_usuarios_2020 = pd.read_csv(\"data/usuarios/usuarios_ecobici_2020.csv\")\n",
    "\n",
    "df_modelado_2020 = construir_dataset_modelado(df_viajes_2020, df_usuarios_2020)\n",
    "\n",
    "df_modelado_2020.to_csv(\"data/modelado/modelado_2020.csv\", index=False)"
   ]
  }
 ],
 "metadata": {
  "kernelspec": {
   "display_name": "Python 3",
   "language": "python",
   "name": "python3"
  },
  "language_info": {
   "codemirror_mode": {
    "name": "ipython",
    "version": 3
   },
   "file_extension": ".py",
   "mimetype": "text/x-python",
   "name": "python",
   "nbconvert_exporter": "python",
   "pygments_lexer": "ipython3",
   "version": "3.12.2"
  }
 },
 "nbformat": 4,
 "nbformat_minor": 5
}
