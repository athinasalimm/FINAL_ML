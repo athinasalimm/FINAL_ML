{
 "cells": [
  {
   "cell_type": "markdown",
   "id": "6eeb4aad",
   "metadata": {},
   "source": [
    "# La consigna decia que podiamos poner tantos notebooks como nos parezca, quizas podemos hacer uno sobre los datos, como preprocesamos etc y otro sobre los modelos?? ni idea, desp vemos que formato nos copa, x ahora le puse este nombre al archivo pero desp cambiamos segun nos parezca"
   ]
  },
  {
   "cell_type": "code",
   "execution_count": 14,
   "id": "36151141",
   "metadata": {},
   "outputs": [],
   "source": [
    "%load_ext autoreload\n",
    "%autoreload 2"
   ]
  },
  {
   "cell_type": "code",
   "execution_count": 9,
   "id": "8b8f8247",
   "metadata": {},
   "outputs": [],
   "source": [
    "import pandas as pd\n",
    "from src.utils import filtrar_meses"
   ]
  },
  {
   "cell_type": "code",
   "execution_count": 13,
   "id": "76dc13c7",
   "metadata": {},
   "outputs": [
    {
     "name": "stdout",
     "output_type": "stream",
     "text": [
      "Se eliminaron 1649832 filas.\n",
      "Se eliminaron 92 filas.\n"
     ]
    }
   ],
   "source": [
    "ruta_24 = \"data/recorridos/raw/trips_2024.csv\"\n",
    "data_24 = pd.read_csv(ruta_24)\n",
    "meses_a_eliminar = [8, 9, 10, 11, 12]\n",
    "data_pr_24_a, filas_eliminadas_a = filtrar_meses(data_24, \"fecha_origen_recorrido\", meses_a_eliminar)\n",
    "print(f\"Se eliminaron {filas_eliminadas_a} filas.\")\n",
    "data_pr_24, filas_eliminadas = filtrar_meses(data_pr_24_a, \"fecha_destino_recorrido\", meses_a_eliminar)\n",
    "print(f\"Se eliminaron {filas_eliminadas} filas.\")\n",
    "ruta_salida = \"data/recorridos/processed/trips_2024_pr.csv\"\n",
    "data_pr_24.to_csv(ruta_salida, index=False) #elimina los viajes que arrnacaron desde agosto en adelante y tambien aquellos terminados en agosto \n",
    "#(ejemplo uno q arranco la ultima noche del mes de julio y termino en agosto) Es correcto?? o deberiamos quedarnos con esos??"
   ]
  }
 ],
 "metadata": {
  "kernelspec": {
   "display_name": "base",
   "language": "python",
   "name": "python3"
  },
  "language_info": {
   "codemirror_mode": {
    "name": "ipython",
    "version": 3
   },
   "file_extension": ".py",
   "mimetype": "text/x-python",
   "name": "python",
   "nbconvert_exporter": "python",
   "pygments_lexer": "ipython3",
   "version": "3.12.4"
  }
 },
 "nbformat": 4,
 "nbformat_minor": 5
}
