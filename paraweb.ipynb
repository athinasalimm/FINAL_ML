{
 "cells": [
  {
   "cell_type": "code",
   "execution_count": 2,
   "id": "d3b15708",
   "metadata": {},
   "outputs": [],
   "source": [
    "import pandas as pd\n",
    " \n",
    "barrios = pd.read_csv(r\"C:\\Users\\Catalina\\OneDrive\\Documents\\UDESAa\\AñoIII\\Machine Learning\\Proyecto_Final\\FINAL_ML\\data\\estaciones_con_barrios.csv\")"
   ]
  },
  {
   "cell_type": "code",
   "execution_count": 11,
   "id": "f9660feb",
   "metadata": {},
   "outputs": [
    {
     "name": "stdout",
     "output_type": "stream",
     "text": [
      "Filas con NaN:      id_estacion        lat        lon barrio\n",
      "45           111 -34.605488 -58.364686    NaN\n",
      "363          541 -34.555720 -58.413210    NaN\n"
     ]
    }
   ],
   "source": [
    "puntos = barrios[[\"lat\", \"lon\", \"barrio\"]].values.tolist()\n",
    "\n",
    "    # Coordenadas para centrar el mapa\n",
    "base_lat = barrios[\"lat\"].mean()\n",
    "base_lon = barrios[\"lon\"].mean()\n",
    "\n",
    "print(\"Filas con NaN:\", barrios[barrios[[\"lat\", \"lon\", \"barrio\"]].isna().any(axis=1)])\n"
   ]
  }
 ],
 "metadata": {
  "kernelspec": {
   "display_name": "Python 3",
   "language": "python",
   "name": "python3"
  },
  "language_info": {
   "codemirror_mode": {
    "name": "ipython",
    "version": 3
   },
   "file_extension": ".py",
   "mimetype": "text/x-python",
   "name": "python",
   "nbconvert_exporter": "python",
   "pygments_lexer": "ipython3",
   "version": "3.11.2"
  }
 },
 "nbformat": 4,
 "nbformat_minor": 5
}
